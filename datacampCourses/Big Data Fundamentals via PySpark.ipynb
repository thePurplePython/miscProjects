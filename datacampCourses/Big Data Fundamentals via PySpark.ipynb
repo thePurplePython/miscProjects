{
 "cells": [
  {
   "cell_type": "markdown",
   "metadata": {},
   "source": [
    "### grp"
   ]
  },
  {
   "cell_type": "markdown",
   "metadata": {},
   "source": [
    "# Course: _Big Data Fundamentals via PySpark_:\n",
    "1.  intro\n",
    "2.  rdd\n",
    "3.  sql & df\n",
    "4.  ml"
   ]
  },
  {
   "cell_type": "markdown",
   "metadata": {},
   "source": [
    "https://spark.apache.org/docs/latest/api/python/index.html"
   ]
  },
  {
   "cell_type": "markdown",
   "metadata": {},
   "source": [
    "## _1. Introduction to Big Data analysis with Spark_:\n",
    "-  3 Vs => Volumne, Variety, Velocity\n",
    "-  SparkContext => entry point to connect to Spark Cluster Unstructured API\n",
    "-  PySpark => Spark's Python API\n",
    "-  functions:\n",
    "    - ```parallelize(...)```\n",
    "    - ```textFile(...)```\n",
    "    -  ```map(...)``` => takes a function and a list and returns a new list which contains items returned by that function for each item\n",
    "    - ```filter(...)```"
   ]
  },
  {
   "cell_type": "markdown",
   "metadata": {},
   "source": [
    "#### SparkContext"
   ]
  },
  {
   "cell_type": "code",
   "execution_count": 1,
   "metadata": {},
   "outputs": [
    {
     "name": "stdout",
     "output_type": "stream",
     "text": [
      "The version of SparkContext in the PySpark shell is 2.4.3\n"
     ]
    }
   ],
   "source": [
    "print(\"The version of SparkContext in the PySpark shell is\", sc.version)"
   ]
  },
  {
   "cell_type": "code",
   "execution_count": 2,
   "metadata": {},
   "outputs": [
    {
     "name": "stdout",
     "output_type": "stream",
     "text": [
      "The version of SparkSession in the PySpark shell is 2.4.3\n"
     ]
    }
   ],
   "source": [
    "print(\"The version of SparkSession in the PySpark shell is\", spark.version)"
   ]
  },
  {
   "cell_type": "markdown",
   "metadata": {},
   "source": [
    "#### python verison & executable"
   ]
  },
  {
   "cell_type": "code",
   "execution_count": 3,
   "metadata": {},
   "outputs": [
    {
     "name": "stdout",
     "output_type": "stream",
     "text": [
      "The Python version of Spark Context in the PySpark shell is 3.6\n"
     ]
    }
   ],
   "source": [
    "print(\"The Python version of Spark Context in the PySpark shell is\", sc.pythonVer)"
   ]
  },
  {
   "cell_type": "code",
   "execution_count": 4,
   "metadata": {},
   "outputs": [
    {
     "name": "stdout",
     "output_type": "stream",
     "text": [
      "The Python executable (path) of Spark Context in the PySpark shell is python3\n"
     ]
    }
   ],
   "source": [
    "print(\"The Python executable (path) of Spark Context in the PySpark shell is\", sc.pythonExec)"
   ]
  },
  {
   "cell_type": "markdown",
   "metadata": {},
   "source": [
    "#### master node url/threads"
   ]
  },
  {
   "cell_type": "code",
   "execution_count": 5,
   "metadata": {},
   "outputs": [
    {
     "name": "stdout",
     "output_type": "stream",
     "text": [
      "The master of Spark Context in the PySpark shell is local[8] => 8 slots\n"
     ]
    }
   ],
   "source": [
    "print(\"The master of Spark Context in the PySpark shell is\", sc.master, \"=> 8 slots\")"
   ]
  },
  {
   "cell_type": "markdown",
   "metadata": {},
   "source": [
    "#### parallelize data"
   ]
  },
  {
   "cell_type": "code",
   "execution_count": 6,
   "metadata": {},
   "outputs": [],
   "source": [
    "numb = range(1, 100)\n",
    "spark_data = sc.parallelize(numb)"
   ]
  },
  {
   "cell_type": "markdown",
   "metadata": {},
   "source": [
    "#### read text file"
   ]
  },
  {
   "cell_type": "code",
   "execution_count": 7,
   "metadata": {},
   "outputs": [
    {
     "data": {
      "text/plain": [
       "pyspark.rdd.RDD"
      ]
     },
     "execution_count": 7,
     "metadata": {},
     "output_type": "execute_result"
    }
   ],
   "source": [
    "PATH = \"course_data/spark_fundamentals/sample.txt\"\n",
    "lines = sc.textFile(PATH)\n",
    "type(lines)"
   ]
  },
  {
   "cell_type": "markdown",
   "metadata": {},
   "source": [
    "#### lambda vs def"
   ]
  },
  {
   "cell_type": "code",
   "execution_count": 8,
   "metadata": {},
   "outputs": [
    {
     "name": "stdout",
     "output_type": "stream",
     "text": [
      "1000\n",
      "1000\n"
     ]
    }
   ],
   "source": [
    "def cube(x):\n",
    "    return x ** 3\n",
    "\n",
    "g = lambda x: x ** 3 # no return statement for lambda\n",
    "\n",
    "print(g(10))\n",
    "print(cube(10))"
   ]
  },
  {
   "cell_type": "markdown",
   "metadata": {},
   "source": [
    "#### map & filter"
   ]
  },
  {
   "cell_type": "code",
   "execution_count": 9,
   "metadata": {},
   "outputs": [
    {
     "name": "stdout",
     "output_type": "stream",
     "text": [
      "[3, 4, 5, 6]\n",
      "[1, 3]\n"
     ]
    }
   ],
   "source": [
    "items = [1, 2, 3, 4]\n",
    "print(list(map(lambda x: x + 2, items)))\n",
    "print(list(filter(lambda x: (x%2 != 0), items)))"
   ]
  },
  {
   "cell_type": "code",
   "execution_count": 10,
   "metadata": {},
   "outputs": [
    {
     "name": "stdout",
     "output_type": "stream",
     "text": [
      "Input list is [1, 2, 3, 4, 5, 6, 7, 8, 9, 10]\n",
      "The squared numbers are [1, 4, 9, 16, 25, 36, 49, 64, 81, 100]\n",
      "==========\n",
      "Input list is: [10, 21, 31, 40, 51, 60, 72, 80, 93, 101]\n",
      "Numbers divisible by 10 are: [10, 40, 60, 80]\n"
     ]
    }
   ],
   "source": [
    "my_list = [1, 2, 3, 4, 5, 6, 7, 8, 9, 10]\n",
    "my_list2 = [10, 21, 31, 40, 51, 60, 72, 80, 93, 101]\n",
    "\n",
    "print(\"Input list is\", my_list)\n",
    "squared_list_lambda = list(map(lambda x: x**2, my_list))\n",
    "print(\"The squared numbers are\", squared_list_lambda)\n",
    "\n",
    "print(\"=\"*10)\n",
    "\n",
    "print(\"Input list is:\", my_list2)\n",
    "filtered_list = list(filter(lambda x: (x%10 == 0), my_list2))\n",
    "print(\"Numbers divisible by 10 are:\", filtered_list)"
   ]
  },
  {
   "cell_type": "markdown",
   "metadata": {},
   "source": [
    "## _2. Programming in PySpark RDDs_:\n",
    "-  Resilient Distributed Datasets:\n",
    "    -  Resilient => ability to withstand failures and are **immutabe** objects\n",
    "    -  Distributed => spanning across multiple machines\n",
    "    -  Datasets => collection of partitioned data (arrays, tables, tuples, etc.)\n",
    "-  Partition => logical division of a large distributed dataset\n",
    "-  Transformations => create new RDDs ... examples include:\n",
    "    -  ```map(...)``` => takes in a function and applies it to each element in the RDD\n",
    "    -  ```filter(...)```\n",
    "    -  ```flatMap(...)``` => returns multiple values for each element in the original RDD\n",
    "    -  ```union(...)```\n",
    "-  Actions => perform computation on RDDs ... examples include:\n",
    "    -  ```collect()```\n",
    "    -  ```take()```\n",
    "    -  ```first()```\n",
    "    -  ```count()```\n",
    "    -  ```reduce()``` => aggregates the elements of a regular RDD\n",
    "    -  ```saveAsTextFile()```\n",
    "-  Pair RDD Transformations => key is the identifier and value is the data ... examples include:\n",
    "    -  ```reduceByKey(...)``` => combines values with same key\n",
    "    -  ```sortByKey(...)```\n",
    "    -  ```groupByKey(...)``` => groups all values with the same key in the pair RDD\n",
    "    -  ```join(...)``` => joins two pair RDDs on common key\n",
    "-  Pair RDD Actions => key is the identifier and value is the data ... examples include:\n",
    "    -  ```countByKey()``` => counts number of elements for each key\n",
    "    -  ```collectAsMap()``` => return key-value RDD pairs as dictionary"
   ]
  },
  {
   "cell_type": "markdown",
   "metadata": {},
   "source": [
    "#### RDD via parallelized collections"
   ]
  },
  {
   "cell_type": "code",
   "execution_count": 11,
   "metadata": {},
   "outputs": [
    {
     "name": "stdout",
     "output_type": "stream",
     "text": [
      "The type of RDD is <class 'pyspark.rdd.RDD'>\n"
     ]
    }
   ],
   "source": [
    "RDD = sc.parallelize([\"Spark\", \"is\", \"a\", \"framework\", \"for\", \"Big Data processing\"])\n",
    "print(\"The type of RDD is\", type(RDD))"
   ]
  },
  {
   "cell_type": "markdown",
   "metadata": {},
   "source": [
    "#### RDD via external source"
   ]
  },
  {
   "cell_type": "code",
   "execution_count": 12,
   "metadata": {},
   "outputs": [
    {
     "name": "stdout",
     "output_type": "stream",
     "text": [
      "The file_path is course_data/spark_fundamentals/sample.txt\n",
      "The file type of fileRDD is <class 'pyspark.rdd.RDD'>\n"
     ]
    }
   ],
   "source": [
    "print(\"The file_path is\", PATH)\n",
    "fileRDD = sc.textFile(PATH)\n",
    "print(\"The file type of fileRDD is\", type(RDD))"
   ]
  },
  {
   "cell_type": "markdown",
   "metadata": {},
   "source": [
    "#### specify partitions"
   ]
  },
  {
   "cell_type": "code",
   "execution_count": 13,
   "metadata": {},
   "outputs": [
    {
     "name": "stdout",
     "output_type": "stream",
     "text": [
      "Number of partitions in fileRDD is 2\n",
      "Number of partitions in fileRDD_part is 3\n"
     ]
    }
   ],
   "source": [
    "print(\"Number of partitions in fileRDD is\", fileRDD.getNumPartitions())\n",
    "fileRDD_part = sc.textFile(PATH, minPartitions=3)\n",
    "print(\"Number of partitions in fileRDD_part is\", fileRDD_part.getNumPartitions())"
   ]
  },
  {
   "cell_type": "markdown",
   "metadata": {},
   "source": [
    "#### map and collect"
   ]
  },
  {
   "cell_type": "code",
   "execution_count": 14,
   "metadata": {},
   "outputs": [
    {
     "name": "stdout",
     "output_type": "stream",
     "text": [
      "1\n",
      "8\n",
      "27\n",
      "64\n",
      "125\n",
      "216\n",
      "343\n",
      "512\n",
      "729\n",
      "1000\n"
     ]
    }
   ],
   "source": [
    "numbRDD = sc.parallelize([1, 2, 3, 4, 5, 6, 7, 8, 9, 10])\n",
    "cubedRDD = numbRDD.map(lambda x: x ** 3)\n",
    "numbers_all = cubedRDD.collect()\n",
    "for numb in numbers_all: print(numb)"
   ]
  },
  {
   "cell_type": "markdown",
   "metadata": {},
   "source": [
    "#### filter and count"
   ]
  },
  {
   "cell_type": "code",
   "execution_count": 15,
   "metadata": {},
   "outputs": [
    {
     "name": "stdout",
     "output_type": "stream",
     "text": [
      "The total number of lines with the keyword Spark is 1\n",
      "Apache Spark™ is a unified analytics engine for large-scale data processing.\n"
     ]
    }
   ],
   "source": [
    "fileRDD_filter = fileRDD.filter(lambda line: 'Spark' in line)\n",
    "print(\"The total number of lines with the keyword Spark is\", fileRDD_filter.count())\n",
    "for line in fileRDD_filter.take(1): print(line)"
   ]
  },
  {
   "cell_type": "markdown",
   "metadata": {},
   "source": [
    "#### reducebykey and collect"
   ]
  },
  {
   "cell_type": "code",
   "execution_count": 16,
   "metadata": {},
   "outputs": [
    {
     "name": "stdout",
     "output_type": "stream",
     "text": [
      "Key 1 has 2 Counts\n",
      "Key 3 has 10 Counts\n",
      "Key 4 has 5 Counts\n"
     ]
    }
   ],
   "source": [
    "Rdd = sc.parallelize([(1,2), (3,4), (3,6), (4,5)])\n",
    "Rdd_Reduced = Rdd.reduceByKey(lambda x, y: x + y)\n",
    "for num in Rdd_Reduced.collect(): \n",
    "  print(\"Key {} has {} Counts\".format(num[0], num[1]))"
   ]
  },
  {
   "cell_type": "code",
   "execution_count": 17,
   "metadata": {},
   "outputs": [
    {
     "name": "stdout",
     "output_type": "stream",
     "text": [
      "[(1, 2), (3, 10), (4, 5)]\n",
      "Key 4 has 5 Counts\n",
      "Key 3 has 10 Counts\n",
      "Key 1 has 2 Counts\n"
     ]
    }
   ],
   "source": [
    "print(Rdd_Reduced.collect())\n",
    "Rdd_Reduced_Sort = Rdd_Reduced.sortByKey(ascending=False) # desc order\n",
    "for num in Rdd_Reduced_Sort.collect():\n",
    "  print(\"Key {} has {} Counts\".format(num[0], num[1]))"
   ]
  },
  {
   "cell_type": "markdown",
   "metadata": {},
   "source": [
    "#### countbykey"
   ]
  },
  {
   "cell_type": "code",
   "execution_count": 18,
   "metadata": {},
   "outputs": [
    {
     "name": "stdout",
     "output_type": "stream",
     "text": [
      "The type of total is <class 'collections.defaultdict'>\n",
      "key 1 has 1 counts\n",
      "key 3 has 2 counts\n",
      "key 4 has 1 counts\n"
     ]
    }
   ],
   "source": [
    "Rdd = sc.parallelize([(1, 2), (3, 4), (3, 6), (4, 5)])\n",
    "total = Rdd.countByKey()\n",
    "print(\"The type of total is\", type(total))\n",
    "for k, v in total.items(): \n",
    "  print(\"key\", k, \"has\", v, \"counts\")"
   ]
  },
  {
   "cell_type": "markdown",
   "metadata": {},
   "source": [
    "#### rdd word count"
   ]
  },
  {
   "cell_type": "code",
   "execution_count": 19,
   "metadata": {},
   "outputs": [
    {
     "name": "stdout",
     "output_type": "stream",
     "text": [
      "Total number of words in splitRDD: 128576\n",
      "['The', 'Project', 'Gutenberg']\n"
     ]
    }
   ],
   "source": [
    "PATH = 'course_data/spark_fundamentals/Complete_Shakespeare.txt'\n",
    "baseRDD = sc.textFile(PATH)\n",
    "splitRDD = baseRDD.flatMap(lambda x: x.split())\n",
    "print(\"Total number of words in splitRDD:\", splitRDD.count())\n",
    "print(splitRDD.take(3))"
   ]
  },
  {
   "cell_type": "code",
   "execution_count": 20,
   "metadata": {},
   "outputs": [
    {
     "name": "stdout",
     "output_type": "stream",
     "text": [
      "[('The', 1), ('Project', 1), ('Gutenberg', 1)]\n",
      "[('The', 609), ('Project', 9), ('EBook', 1)]\n"
     ]
    }
   ],
   "source": [
    "stop_words = ['i', 'me', 'my', 'myself', 'we', 'our', 'ours', 'ourselves', 'you', 'your']\n",
    "splitRDD_no_stop = splitRDD.filter(lambda x: x.lower() not in stop_words)\n",
    "splitRDD_no_stop_words = splitRDD_no_stop.map(lambda w: (w, 1))\n",
    "resultRDD = splitRDD_no_stop_words.reduceByKey(lambda x, y: x + y)\n",
    "print(splitRDD_no_stop_words.take(3))\n",
    "print(resultRDD.take(3))"
   ]
  },
  {
   "cell_type": "code",
   "execution_count": 21,
   "metadata": {},
   "outputs": [
    {
     "name": "stdout",
     "output_type": "stream",
     "text": [
      "('The', 609)\n",
      "('Project', 9)\n",
      "('EBook', 1)\n",
      "('of', 2060)\n",
      "('Shakespeare', 12)\n",
      "('is', 1119)\n",
      "('use', 38)\n",
      "('anyone', 1)\n",
      "('anywhere', 1)\n",
      "('at', 326)\n",
      "==========\n",
      "the has 3109 counts\n",
      "and has 2403 counts\n",
      "to has 2295 counts\n",
      "of has 2060 counts\n",
      "a has 1643 counts\n",
      "in has 1434 counts\n",
      "that has 1221 counts\n",
      "is has 1119 counts\n",
      "not has 1030 counts\n",
      "with has 923 counts\n"
     ]
    }
   ],
   "source": [
    "for word in resultRDD.take(10): print(word)\n",
    "print(\"=\"*10)\n",
    "resultRDD_swap = resultRDD.map(lambda x: (x[1], x[0]))\n",
    "resultRDD_swap_sort = resultRDD_swap.sortByKey(ascending=False)\n",
    "for word in resultRDD_swap_sort.take(10):\n",
    "    print(\"{} has {} counts\". format(word[1], word[0]))"
   ]
  },
  {
   "cell_type": "markdown",
   "metadata": {},
   "source": [
    "## _3. PySpark SQL & DataFrames_:\n",
    "-  SparkSession => entry point to connect to Spark Cluster Structured API\n",
    "-  Transformations => create new DFs ... examples include:\n",
    "    -  ```select(...)```\n",
    "    -  ```filter(...)```\n",
    "    -  ```groupBy(...)```\n",
    "    -  ```orderBy(...)```\n",
    "    -  ```dropDuplicates(...)```\n",
    "    -  ```withColumnRenamed(...)```\n",
    "-  Actions => perform computation on DFs ... examples include:\n",
    "    -  ```show()```\n",
    "    -  ```count()```\n",
    "    -  ```describe()```\n",
    "-  Spark SQL => perform SQL queries via ```spark.sql(\"\"\"...\"\"\")```\n",
    "-  PySpark Visualizations => data visualization ... options include:\n",
    "    -  ```PySpark_dist_explore```\n",
    "    -  ```toPandas()```\n",
    "    -  ```HandySpark```"
   ]
  },
  {
   "cell_type": "markdown",
   "metadata": {},
   "source": [
    "#### rdd to df"
   ]
  },
  {
   "cell_type": "code",
   "execution_count": 22,
   "metadata": {},
   "outputs": [
    {
     "name": "stdout",
     "output_type": "stream",
     "text": [
      "The type of names_df is <class 'pyspark.sql.dataframe.DataFrame'>\n"
     ]
    }
   ],
   "source": [
    "sample_list = [('Mona',20), ('Jennifer',34),('John',20), ('Jim',26)]\n",
    "rdd = sc.parallelize(sample_list)\n",
    "names_df = spark.createDataFrame(rdd, schema=['Name', 'Age'])\n",
    "print(\"The type of names_df is\", type(names_df))"
   ]
  },
  {
   "cell_type": "markdown",
   "metadata": {},
   "source": [
    "#### csv to df"
   ]
  },
  {
   "cell_type": "code",
   "execution_count": 23,
   "metadata": {},
   "outputs": [
    {
     "name": "stdout",
     "output_type": "stream",
     "text": [
      "The type of people_df is <class 'pyspark.sql.dataframe.DataFrame'>\n"
     ]
    }
   ],
   "source": [
    "PATH = \"course_data/spark_fundamentals/people.csv\"\n",
    "people_df = spark.read.csv(PATH, header=True, inferSchema=True)\n",
    "print(\"The type of people_df is\", type(people_df))"
   ]
  },
  {
   "cell_type": "markdown",
   "metadata": {},
   "source": [
    "#### df eda"
   ]
  },
  {
   "cell_type": "code",
   "execution_count": 24,
   "metadata": {},
   "outputs": [
    {
     "name": "stdout",
     "output_type": "stream",
     "text": [
      "+---+---------+----------------+------+-------------+\n",
      "|_c0|person_id|            name|   sex|date of birth|\n",
      "+---+---------+----------------+------+-------------+\n",
      "|  0|      100|  Penelope Lewis|female|   1990-08-31|\n",
      "|  1|      101|   David Anthony|  male|   1971-10-14|\n",
      "|  2|      102|       Ida Shipp|female|   1962-05-24|\n",
      "|  3|      103|    Joanna Moore|female|   2017-03-10|\n",
      "|  4|      104|  Lisandra Ortiz|female|   2020-08-05|\n",
      "|  5|      105|   David Simmons|  male|   1999-12-30|\n",
      "|  6|      106|   Edward Hudson|  male|   1983-05-09|\n",
      "|  7|      107|    Albert Jones|  male|   1990-09-13|\n",
      "|  8|      108|Leonard Cavender|  male|   1958-08-08|\n",
      "|  9|      109|  Everett Vadala|  male|   2005-05-24|\n",
      "+---+---------+----------------+------+-------------+\n",
      "only showing top 10 rows\n",
      "\n",
      "There are 100000 rows in the people_df DataFrame.\n",
      "There are 5 columns in the people_df DataFrame and their names are ['_c0', 'person_id', 'name', 'sex', 'date of birth']\n"
     ]
    }
   ],
   "source": [
    "people_df.show(10)\n",
    "print(\"There are {} rows in the people_df DataFrame.\".format(people_df.count()))\n",
    "print(\"There are {} columns in the people_df DataFrame and their names are {}\"\\\n",
    "      .format(len(people_df.columns), people_df.columns))"
   ]
  },
  {
   "cell_type": "markdown",
   "metadata": {},
   "source": [
    "#### df selecting and cleaning"
   ]
  },
  {
   "cell_type": "code",
   "execution_count": 25,
   "metadata": {},
   "outputs": [
    {
     "name": "stdout",
     "output_type": "stream",
     "text": [
      "+----------------+------+-------------+\n",
      "|            name|   sex|date of birth|\n",
      "+----------------+------+-------------+\n",
      "|  Penelope Lewis|female|   1990-08-31|\n",
      "|   David Anthony|  male|   1971-10-14|\n",
      "|       Ida Shipp|female|   1962-05-24|\n",
      "|    Joanna Moore|female|   2017-03-10|\n",
      "|  Lisandra Ortiz|female|   2020-08-05|\n",
      "|   David Simmons|  male|   1999-12-30|\n",
      "|   Edward Hudson|  male|   1983-05-09|\n",
      "|    Albert Jones|  male|   1990-09-13|\n",
      "|Leonard Cavender|  male|   1958-08-08|\n",
      "|  Everett Vadala|  male|   2005-05-24|\n",
      "+----------------+------+-------------+\n",
      "only showing top 10 rows\n",
      "\n",
      "There were 100000 rows before removing duplicates, and 99998 rows after removing duplicates\n"
     ]
    }
   ],
   "source": [
    "people_df_sub = people_df.select('name', 'sex', 'date of birth')\n",
    "people_df_sub.show(10)\n",
    "people_df_sub_nodup = people_df_sub.dropDuplicates()\n",
    "print(\"There were {} rows before removing duplicates, and {} rows after removing duplicates\"\\\n",
    "      .format(people_df_sub.count(), people_df_sub_nodup.count()))"
   ]
  },
  {
   "cell_type": "markdown",
   "metadata": {},
   "source": [
    "#### df filtering"
   ]
  },
  {
   "cell_type": "code",
   "execution_count": 26,
   "metadata": {},
   "outputs": [
    {
     "name": "stdout",
     "output_type": "stream",
     "text": [
      "There are 49014 rows in the people_df_female DataFrame and 49066 rows in the people_df_male DataFrame\n"
     ]
    }
   ],
   "source": [
    "people_df_female = people_df.filter(people_df.sex == \"female\")\n",
    "people_df_male = people_df.filter(people_df.sex == \"male\")\n",
    "print(\"There are {} rows in the people_df_female DataFrame and {} rows in the people_df_male DataFrame\"\\\n",
    "      .format(people_df_female.count(), people_df_male.count()))"
   ]
  },
  {
   "cell_type": "markdown",
   "metadata": {},
   "source": [
    "#### spark sql operations"
   ]
  },
  {
   "cell_type": "code",
   "execution_count": 27,
   "metadata": {},
   "outputs": [
    {
     "name": "stdout",
     "output_type": "stream",
     "text": [
      "+----------------+\n",
      "|            name|\n",
      "+----------------+\n",
      "|  Penelope Lewis|\n",
      "|   David Anthony|\n",
      "|       Ida Shipp|\n",
      "|    Joanna Moore|\n",
      "|  Lisandra Ortiz|\n",
      "|   David Simmons|\n",
      "|   Edward Hudson|\n",
      "|    Albert Jones|\n",
      "|Leonard Cavender|\n",
      "|  Everett Vadala|\n",
      "+----------------+\n",
      "only showing top 10 rows\n",
      "\n"
     ]
    }
   ],
   "source": [
    "people_df.createOrReplaceTempView(\"people\")\n",
    "QUERY = '''SELECT name FROM people'''\n",
    "people_df_names = spark.sql(QUERY)\n",
    "people_df_names.show(10)"
   ]
  },
  {
   "cell_type": "code",
   "execution_count": 28,
   "metadata": {},
   "outputs": [
    {
     "name": "stdout",
     "output_type": "stream",
     "text": [
      "There are 49014 rows in the people_female_df and 49066 rows in the people_male_df DataFrames\n"
     ]
    }
   ],
   "source": [
    "people_female_df = spark.sql('SELECT * FROM people WHERE sex==\"female\"')\n",
    "people_male_df = spark.sql('SELECT * FROM people WHERE sex==\"male\"')\n",
    "print(\"There are {} rows in the people_female_df and {} rows in the people_male_df DataFrames\"\\\n",
    "      .format(people_female_df.count(), people_male_df.count()))"
   ]
  },
  {
   "cell_type": "markdown",
   "metadata": {},
   "source": [
    "#### visualization via pandas"
   ]
  },
  {
   "cell_type": "code",
   "execution_count": 29,
   "metadata": {},
   "outputs": [
    {
     "name": "stdout",
     "output_type": "stream",
     "text": [
      "The column names of names_df are ['Name', 'Age']\n"
     ]
    },
    {
     "data": {
      "text/plain": [
       "<Figure size 640x480 with 1 Axes>"
      ]
     },
     "metadata": {},
     "output_type": "display_data"
    }
   ],
   "source": [
    "import pandas as pd\n",
    "import matplotlib.pyplot as plt\n",
    "\n",
    "print(\"The column names of names_df are\", names_df.columns)\n",
    "df_pandas = names_df.toPandas()\n",
    "df_pandas.plot(kind='barh', x='Name', y='Age', colormap='winter_r')\n",
    "plt.show()"
   ]
  },
  {
   "cell_type": "markdown",
   "metadata": {},
   "source": [
    "#### summary stats"
   ]
  },
  {
   "cell_type": "code",
   "execution_count": 30,
   "metadata": {
    "scrolled": false
   },
   "outputs": [
    {
     "name": "stdout",
     "output_type": "stream",
     "text": [
      "root\n",
      " |-- _c0: integer (nullable = true)\n",
      " |-- Name: string (nullable = true)\n",
      " |-- Age: integer (nullable = true)\n",
      " |-- Photo: string (nullable = true)\n",
      " |-- Nationality: string (nullable = true)\n",
      " |-- Flag: string (nullable = true)\n",
      " |-- Overall: integer (nullable = true)\n",
      " |-- Potential: integer (nullable = true)\n",
      " |-- Club: string (nullable = true)\n",
      " |-- Club Logo: string (nullable = true)\n",
      " |-- Value: string (nullable = true)\n",
      " |-- Wage: string (nullable = true)\n",
      " |-- Special: integer (nullable = true)\n",
      " |-- Acceleration: string (nullable = true)\n",
      " |-- Aggression: string (nullable = true)\n",
      " |-- Agility: string (nullable = true)\n",
      " |-- Balance: string (nullable = true)\n",
      " |-- Ball control: string (nullable = true)\n",
      " |-- Composure: string (nullable = true)\n",
      " |-- Crossing: string (nullable = true)\n",
      " |-- Curve: string (nullable = true)\n",
      " |-- Dribbling: string (nullable = true)\n",
      " |-- Finishing: string (nullable = true)\n",
      " |-- Free kick accuracy: string (nullable = true)\n",
      " |-- GK diving: string (nullable = true)\n",
      " |-- GK handling: string (nullable = true)\n",
      " |-- GK kicking: string (nullable = true)\n",
      " |-- GK positioning: string (nullable = true)\n",
      " |-- GK reflexes: string (nullable = true)\n",
      " |-- Heading accuracy: string (nullable = true)\n",
      " |-- Interceptions: string (nullable = true)\n",
      " |-- Jumping: string (nullable = true)\n",
      " |-- Long passing: string (nullable = true)\n",
      " |-- Long shots: string (nullable = true)\n",
      " |-- Marking: string (nullable = true)\n",
      " |-- Penalties: string (nullable = true)\n",
      " |-- Positioning: string (nullable = true)\n",
      " |-- Reactions: string (nullable = true)\n",
      " |-- Short passing: string (nullable = true)\n",
      " |-- Shot power: string (nullable = true)\n",
      " |-- Sliding tackle: string (nullable = true)\n",
      " |-- Sprint speed: string (nullable = true)\n",
      " |-- Stamina: string (nullable = true)\n",
      " |-- Standing tackle: string (nullable = true)\n",
      " |-- Strength: string (nullable = true)\n",
      " |-- Vision: string (nullable = true)\n",
      " |-- Volleys: string (nullable = true)\n",
      " |-- CAM: double (nullable = true)\n",
      " |-- CB: double (nullable = true)\n",
      " |-- CDM: double (nullable = true)\n",
      " |-- CF: double (nullable = true)\n",
      " |-- CM: double (nullable = true)\n",
      " |-- ID: integer (nullable = true)\n",
      " |-- LAM: double (nullable = true)\n",
      " |-- LB: double (nullable = true)\n",
      " |-- LCB: double (nullable = true)\n",
      " |-- LCM: double (nullable = true)\n",
      " |-- LDM: double (nullable = true)\n",
      " |-- LF: double (nullable = true)\n",
      " |-- LM: double (nullable = true)\n",
      " |-- LS: double (nullable = true)\n",
      " |-- LW: double (nullable = true)\n",
      " |-- LWB: double (nullable = true)\n",
      " |-- Preferred Positions: string (nullable = true)\n",
      " |-- RAM: double (nullable = true)\n",
      " |-- RB: double (nullable = true)\n",
      " |-- RCB: double (nullable = true)\n",
      " |-- RCM: double (nullable = true)\n",
      " |-- RDM: double (nullable = true)\n",
      " |-- RF: double (nullable = true)\n",
      " |-- RM: double (nullable = true)\n",
      " |-- RS: double (nullable = true)\n",
      " |-- RW: double (nullable = true)\n",
      " |-- RWB: double (nullable = true)\n",
      " |-- ST: double (nullable = true)\n",
      "\n",
      "Row(_c0=0, Name='Cristiano Ronaldo', Age=32, Photo='https://cdn.sofifa.org/48/18/players/20801.png', Nationality='Portugal', Flag='https://cdn.sofifa.org/flags/38.png', Overall=94, Potential=94, Club='Real Madrid CF', Club Logo='https://cdn.sofifa.org/24/18/teams/243.png', Value='€95.5M', Wage='€565K', Special=2228, Acceleration='89', Aggression='63', Agility='89', Balance='63', Ball control='93', Composure='95', Crossing='85', Curve='81', Dribbling='91', Finishing='94', Free kick accuracy='76', GK diving='7', GK handling='11', GK kicking='15', GK positioning='14', GK reflexes='11', Heading accuracy='88', Interceptions='29', Jumping='95', Long passing='77', Long shots='92', Marking='22', Penalties='85', Positioning='95', Reactions='96', Short passing='83', Shot power='94', Sliding tackle='23', Sprint speed='91', Stamina='92', Standing tackle='31', Strength='80', Vision='85', Volleys='88', CAM=89.0, CB=53.0, CDM=62.0, CF=91.0, CM=82.0, ID=20801, LAM=89.0, LB=61.0, LCB=53.0, LCM=82.0, LDM=62.0, LF=91.0, LM=89.0, LS=92.0, LW=91.0, LWB=66.0, Preferred Positions='ST LW ', RAM=89.0, RB=61.0, RCB=53.0, RCM=82.0, RDM=62.0, RF=91.0, RM=89.0, RS=92.0, RW=91.0, RWB=66.0, ST=92.0)\n",
      "==========\n",
      "There are 17981 rows in the fifa_df DataFrame\n"
     ]
    }
   ],
   "source": [
    "PATH = \"course_data/spark_fundamentals/Fifa2018_dataset.csv\"\n",
    "fifa_df = spark.read.csv(PATH, header=True, inferSchema=True)\n",
    "fifa_df.printSchema()\n",
    "for i in fifa_df.take(1): print(i)\n",
    "print(\"=\"*10)\n",
    "print(\"There are {} rows in the fifa_df DataFrame\".format(fifa_df.count()))"
   ]
  },
  {
   "cell_type": "code",
   "execution_count": 31,
   "metadata": {},
   "outputs": [
    {
     "name": "stdout",
     "output_type": "stream",
     "text": [
      "+-------+-----------------+\n",
      "|summary|              Age|\n",
      "+-------+-----------------+\n",
      "|  count|             1140|\n",
      "|   mean|24.20263157894737|\n",
      "| stddev|4.197096712293752|\n",
      "|    min|               16|\n",
      "|    max|               36|\n",
      "+-------+-----------------+\n",
      "\n"
     ]
    }
   ],
   "source": [
    "fifa_df.createOrReplaceTempView('fifa_df_table')\n",
    "QUERY = '''SELECT Age FROM fifa_df_table WHERE Nationality == \"Germany\"'''\n",
    "fifa_df_germany_age = spark.sql(QUERY)\n",
    "fifa_df_germany_age.describe().show()"
   ]
  },
  {
   "cell_type": "code",
   "execution_count": 32,
   "metadata": {},
   "outputs": [
    {
     "data": {
      "image/png": "[encoded data removed]",
      "text/plain": [
       "<Figure size 432x288 with 1 Axes>"
      ]
     },
     "metadata": {
      "needs_background": "light"
     },
     "output_type": "display_data"
    }
   ],
   "source": [
    "fifa_df_germany_age_pandas = fifa_df_germany_age.toPandas()\n",
    "fifa_df_germany_age_pandas.plot(kind='density')\n",
    "plt.show()"
   ]
  },
  {
   "cell_type": "markdown",
   "metadata": {},
   "source": [
    "## _4. Machine Learning with PySpark MLlib_:\n",
    "-  3 Cs of ML => Collaborative Filtering, Classification, and Clustering\n",
    "-  ```pyspark.ml``` => DF API\n",
    "-  ```pyspark.mllib``` => RDD API\n",
    "-  Types of Vectors:\n",
    "    -  Dense Vector => store all entries in array of floats\n",
    "    -  Sparse Vector => store only non-zero values and indices\n",
    "-  Collaborative Filtering:\n",
    "    -  recommendation system to find common interests among users and items\n",
    "    -  ALS => algorithm performing collaborative filtering\n",
    "-  Classification:\n",
    "    -  supervised ML via binary classifier or multi-class classifier\n",
    "-  Clustering:\n",
    "    -  unsupervised ML to organize collections of data in groups"
   ]
  },
  {
   "cell_type": "markdown",
   "metadata": {},
   "source": [
    "#### mllib algs"
   ]
  },
  {
   "cell_type": "code",
   "execution_count": 33,
   "metadata": {},
   "outputs": [],
   "source": [
    "from pyspark.mllib.recommendation import ALS, Rating\n",
    "from pyspark.mllib.classification import LogisticRegressionWithLBFGS, LabeledPoint\n",
    "from pyspark.mllib.feature import HashingTF\n",
    "from pyspark.mllib.clustering import KMeans"
   ]
  },
  {
   "cell_type": "markdown",
   "metadata": {},
   "source": [
    "#### als (movie ratings) model"
   ]
  },
  {
   "cell_type": "code",
   "execution_count": 34,
   "metadata": {},
   "outputs": [
    {
     "name": "stdout",
     "output_type": "stream",
     "text": [
      "['1,31,2.5,1260759144', '1,1029,3.0,1260759179', '1,1061,3.0,1260759182']\n",
      "[['1', '31', '2.5', '1260759144'], ['1', '1029', '3.0', '1260759179'], ['1', '1061', '3.0', '1260759182']]\n"
     ]
    }
   ],
   "source": [
    "PATH = \"course_data/spark_fundamentals/ratings.csv\"\n",
    "data = sc.textFile(PATH)\n",
    "ratings = data.map(lambda l: l.split(','))\n",
    "ratings_final = ratings.map(lambda line: Rating(int(line[0]), int(line[1]), float(line[2])))\n",
    "training_data, test_data = ratings_final.randomSplit([0.8, 0.2])\n",
    "\n",
    "print(data.take(3))\n",
    "print(ratings.take(3))"
   ]
  },
  {
   "cell_type": "code",
   "execution_count": 35,
   "metadata": {},
   "outputs": [
    {
     "data": {
      "text/plain": [
       "[Rating(user=529, product=3456, rating=3.5095222368160943),\n",
       " Rating(user=468, product=6400, rating=1.119700768293387),\n",
       " Rating(user=299, product=3272, rating=2.4352704872321143)]"
      ]
     },
     "execution_count": 35,
     "metadata": {},
     "output_type": "execute_result"
    }
   ],
   "source": [
    "model = ALS.train(training_data, rank=10, iterations=10)\n",
    "test_data_no_rating = test_data.map(lambda p: (p[0], p[1])) # drop ratings column\n",
    "predictions = model.predictAll(test_data_no_rating)\n",
    "predictions.take(3)"
   ]
  },
  {
   "cell_type": "code",
   "execution_count": 36,
   "metadata": {},
   "outputs": [
    {
     "name": "stdout",
     "output_type": "stream",
     "text": [
      "Mean Squared Error of the model for the test data = 1.35\n"
     ]
    }
   ],
   "source": [
    "rates = ratings_final.map(lambda r: ((r[0], r[1]), r[2]))\n",
    "preds = predictions.map(lambda r: ((r[0], r[1]), r[2]))\n",
    "rates_and_preds = rates.join(preds) # join ratings w/ preds\n",
    "MSE = rates_and_preds.map(lambda r: (r[1][0] - r[1][1])**2).mean() # mse metric\n",
    "print(\"Mean Squared Error of the model for the test data = {:.2f}\".format(MSE))"
   ]
  },
  {
   "cell_type": "markdown",
   "metadata": {},
   "source": [
    "#### logistic regression (spam/ham) model"
   ]
  },
  {
   "cell_type": "code",
   "execution_count": 37,
   "metadata": {},
   "outputs": [
    {
     "name": "stdout",
     "output_type": "stream",
     "text": [
      "You have 1 new message. Please call 08712400200.\n",
      "Rofl. Its true to its name\n",
      "==========\n",
      "The first element in spam_words is ['You', 'have', '1', 'new', 'message.', 'Please', 'call', '08712400200.']\n",
      "The first element in non_spam_words is ['Rofl.', 'Its', 'true', 'to', 'its', 'name']\n"
     ]
    }
   ],
   "source": [
    "SPAM = \"course_data/spark_fundamentals/spam.txt\"\n",
    "HAM = \"course_data/spark_fundamentals/ham.txt\"\n",
    "spam_rdd = sc.textFile(SPAM)\n",
    "non_spam_rdd = sc.textFile(HAM)\n",
    "spam_words = spam_rdd.map(lambda email: email.split(' '))\n",
    "non_spam_words = non_spam_rdd.map(lambda email: email.split(' '))\n",
    "print(spam_rdd.first())\n",
    "print(non_spam_rdd.first())\n",
    "print(\"=\"*10)\n",
    "print(\"The first element in spam_words is\", spam_words.first())\n",
    "print(\"The first element in non_spam_words is\", non_spam_words.first())"
   ]
  },
  {
   "cell_type": "code",
   "execution_count": 38,
   "metadata": {},
   "outputs": [
    {
     "name": "stdout",
     "output_type": "stream",
     "text": [
      "[LabeledPoint(1.0, (200,[22,59,82,95,100,106,125],[2.0,1.0,1.0,1.0,1.0,1.0,1.0])), LabeledPoint(1.0, (200,[22,26,29,33,41,44,60,69,70,73,86,99,103,106,107,126,129,159,165,168,182],[2.0,1.0,1.0,1.0,1.0,2.0,1.0,1.0,1.0,1.0,1.0,1.0,1.0,1.0,1.0,1.0,1.0,1.0,1.0,1.0,1.0])), LabeledPoint(1.0, (200,[0,21,27,31,59,65,70,83,91,92,94,99,112,136,140,159,165,196,199],[2.0,1.0,1.0,1.0,1.0,1.0,1.0,1.0,1.0,1.0,1.0,1.0,2.0,1.0,1.0,1.0,3.0,1.0,1.0]))]\n",
      "==========\n",
      "[LabeledPoint(0.0, (200,[8,16,28,63,70,165],[1.0,1.0,1.0,1.0,1.0,1.0])), LabeledPoint(0.0, (200,[0,2,3,14,16,27,37,40,51,52,60,83,96,101,110,121,136,155,163,165,167,173,175,178],[1.0,1.0,1.0,1.0,1.0,1.0,1.0,2.0,1.0,1.0,1.0,1.0,1.0,1.0,1.0,1.0,2.0,1.0,1.0,1.0,1.0,1.0,1.0,1.0])), LabeledPoint(0.0, (200,[27,40,49,52,63,80,134,136,140,175],[1.0,1.0,1.0,1.0,1.0,1.0,1.0,1.0,1.0,1.0]))]\n"
     ]
    }
   ],
   "source": [
    "tf = HashingTF(numFeatures=200)\n",
    "spam_features = tf.transform(spam_words)\n",
    "non_spam_features = tf.transform(non_spam_words)\n",
    "spam_samples = spam_features.map(lambda features:LabeledPoint(1, features)) # label 1 for spam\n",
    "non_spam_samples = non_spam_features.map(lambda features:LabeledPoint(0, features)) # label 0 for non-spam\n",
    "samples = spam_samples.union(non_spam_samples)\n",
    "print(spam_samples.take(3))\n",
    "print(\"=\"*10)\n",
    "print(non_spam_samples.take(3))"
   ]
  },
  {
   "cell_type": "code",
   "execution_count": 39,
   "metadata": {},
   "outputs": [
    {
     "name": "stdout",
     "output_type": "stream",
     "text": [
      "Model accuracy : 0.86\n"
     ]
    }
   ],
   "source": [
    "train_samples,test_samples = samples.randomSplit([0.8, 0.2])\n",
    "model = LogisticRegressionWithLBFGS.train(train_samples)\n",
    "predictions = model.predict(test_samples.map(lambda x: x.features))\n",
    "labels_and_preds = test_samples.map(lambda x: x.label).zip(predictions) # combine org labels w/ pred labels\n",
    "accuracy = labels_and_preds.filter(lambda x: x[0] == x[1]).count() / float(test_samples.count())\n",
    "print(\"Model accuracy : {:.2f}\".format(accuracy))"
   ]
  },
  {
   "cell_type": "markdown",
   "metadata": {},
   "source": [
    "#### k-means () model:\n",
    "-  https://bl.ocks.org/rpgove/0060ff3b656618e9136b"
   ]
  },
  {
   "cell_type": "code",
   "execution_count": 40,
   "metadata": {},
   "outputs": [
    {
     "name": "stdout",
     "output_type": "stream",
     "text": [
      "664159\t550946\n",
      "[[664159, 550946], [665845, 557965], [597173, 575538]]\n",
      "==========\n",
      "There are 5000 rows in the rdd_split_int dataset\n"
     ]
    }
   ],
   "source": [
    "PATH = \"course_data/spark_fundamentals/5000_points.txt\"\n",
    "clusterRDD = sc.textFile(PATH)\n",
    "rdd_split = clusterRDD.map(lambda x: x.split(\"\\t\"))\n",
    "rdd_split_int = rdd_split.map(lambda x: [int(x[0]), int(x[1])])\n",
    "print(clusterRDD.first())\n",
    "print(rdd_split_int.take(3))\n",
    "print(\"=\"*10)\n",
    "print(\"There are {} rows in the rdd_split_int dataset\".format(rdd_split_int.count()))"
   ]
  },
  {
   "cell_type": "code",
   "execution_count": 41,
   "metadata": {},
   "outputs": [],
   "source": [
    "from math import sqrt\n",
    "def error(point):\n",
    "    center = model.centers[model.predict(point)]\n",
    "    return sqrt(sum([x**2 for x in (point - center)]))"
   ]
  },
  {
   "cell_type": "code",
   "execution_count": 42,
   "metadata": {},
   "outputs": [
    {
     "name": "stdout",
     "output_type": "stream",
     "text": [
      "The cluster 13 has Within Set Sum of Squared Error 249164132.49410182\n",
      "The cluster 14 has Within Set Sum of Squared Error 209371154.24941802\n",
      "The cluster 15 has Within Set Sum of Squared Error 169394691.52639425\n",
      "The cluster 16 has Within Set Sum of Squared Error 202384225.6640126\n",
      "==========\n",
      "[array([670929.06818182, 862765.73295455]), array([852058.45259939, 157685.52293578]), array([858947.9713467 , 546259.65902579]), array([398555.94857143, 404855.06857143]), array([507818.31339031, 175610.41595442]), array([801616.78164557, 321123.34177215]), array([606574.95622896, 574455.16835017]), array([320602.55, 161521.85]), array([337565.11890244, 562157.17682927]), array([167856.14071856, 347812.71556886]), array([244654.8856305 , 847642.04105572]), array([617601.91071429, 399504.21428571]), array([139682.37572254, 558123.40462428]), array([823421.2507837 , 731145.27272727]), array([417799.69426752, 787001.99363057])]\n"
     ]
    }
   ],
   "source": [
    "for clst in range(13, 17): # elbow method\n",
    "    model = KMeans.train(rdd_split_int, clst, seed=1)\n",
    "    WSSSE = rdd_split_int.map(lambda point: error(point)).reduce(lambda x, y: x + y)\n",
    "    print(\"The cluster {} has Within Set Sum of Squared Error {}\".format(clst, WSSSE))\n",
    "\n",
    "model = KMeans.train(rdd_split_int, k=15, seed=1)\n",
    "cluster_centers = model.clusterCenters # cluster centers\n",
    "print(\"=\"*10)\n",
    "print(cluster_centers)"
   ]
  },
  {
   "cell_type": "code",
   "execution_count": 43,
   "metadata": {},
   "outputs": [
    {
     "data": {
      "image/png": "[encoded data removed]",
      "text/plain": [
       "<Figure size 432x288 with 1 Axes>"
      ]
     },
     "metadata": {
      "needs_background": "light"
     },
     "output_type": "display_data"
    }
   ],
   "source": [
    "rdd_split_int_df = spark.createDataFrame(rdd_split_int, schema=[\"col1\", \"col2\"])\n",
    "rdd_split_int_df_pandas = rdd_split_int_df.toPandas()\n",
    "cluster_centers_pandas = pd.DataFrame(cluster_centers, columns=[\"col1\", \"col2\"])\n",
    "plt.scatter(rdd_split_int_df_pandas[\"col1\"], rdd_split_int_df_pandas[\"col2\"])\n",
    "plt.scatter(cluster_centers_pandas[\"col1\"], cluster_centers_pandas[\"col2\"], color=\"red\", marker=\"x\")\n",
    "plt.show()"
   ]
  },
  {
   "cell_type": "markdown",
   "metadata": {},
   "source": [
    "### grp"
   ]
  }
 ],
 "metadata": {
  "kernelspec": {
   "display_name": "Python 3",
   "language": "python",
   "name": "python3"
  },
  "language_info": {
   "codemirror_mode": {
    "name": "ipython",
    "version": 3
   },
   "file_extension": ".py",
   "mimetype": "text/x-python",
   "name": "python",
   "nbconvert_exporter": "python",
   "pygments_lexer": "ipython3",
   "version": "3.6.8"
  }
 },
 "nbformat": 4,
 "nbformat_minor": 2
}
