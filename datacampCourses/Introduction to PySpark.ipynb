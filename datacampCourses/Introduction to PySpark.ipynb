{
 "cells": [
  {
   "cell_type": "markdown",
   "metadata": {},
   "source": [
    "### grp"
   ]
  },
  {
   "cell_type": "markdown",
   "metadata": {},
   "source": [
    "# Course: _Introduction to PySpark_:\n",
    "1.  intro\n",
    "2.  manipulate data\n",
    "3.  ml pipelines\n",
    "4.  model tuning"
   ]
  },
  {
   "cell_type": "markdown",
   "metadata": {},
   "source": [
    "https://spark.apache.org/docs/latest/api/python/index.html"
   ]
  },
  {
   "cell_type": "markdown",
   "metadata": {},
   "source": [
    "## _1. Getting to know PySpark_:\n",
    "-  **Architecture**:\n",
    "    -  big data cluster distributed computing across machines (i.e. nodes)\n",
    "    -  _master_ => manages splitting up the data and computations\n",
    "    -  _slaves_ => compute workers and send results back to _master_\n",
    "-  **RDDs**:\n",
    "    -  _resilient distributed dataset_\n",
    "    -  unstructured low level objects\n",
    "    -  core data structure designed to distribute data in parallel across cluster\n",
    "-  **DataFrames**:\n",
    "    -  structured high level objects\n",
    "    -  similar to SQL table (_rows & columns_)\n",
    "-  **Catalog**:\n",
    "    -  lists tables in cluster via _Hive Metastore_"
   ]
  },
  {
   "cell_type": "markdown",
   "metadata": {},
   "source": [
    "#### SparkContext"
   ]
  },
  {
   "cell_type": "code",
   "execution_count": 1,
   "metadata": {},
   "outputs": [
    {
     "name": "stdout",
     "output_type": "stream",
     "text": [
      "<SparkContext master=local[8] appName=PySparkShell>\n",
      "2.3.2\n"
     ]
    }
   ],
   "source": [
    "print(sc)\n",
    "print(sc.version)"
   ]
  },
  {
   "cell_type": "markdown",
   "metadata": {},
   "source": [
    "#### SparkSession"
   ]
  },
  {
   "cell_type": "code",
   "execution_count": 2,
   "metadata": {},
   "outputs": [
    {
     "name": "stdout",
     "output_type": "stream",
     "text": [
      "<pyspark.sql.session.SparkSession object at 0x11252cf28>\n",
      "2.3.2\n"
     ]
    }
   ],
   "source": [
    "from pyspark.sql import SparkSession\n",
    "\n",
    "my_spark = SparkSession.builder.getOrCreate() # creates entry point\n",
    "print(my_spark)\n",
    "print(my_spark.version)"
   ]
  },
  {
   "cell_type": "markdown",
   "metadata": {},
   "source": [
    "#### view tables:\n",
    "-  ```createOrReplaceTempView()```"
   ]
  },
  {
   "cell_type": "code",
   "execution_count": 3,
   "metadata": {},
   "outputs": [
    {
     "name": "stdout",
     "output_type": "stream",
     "text": [
      "root\n",
      " |-- year: string (nullable = true)\n",
      " |-- month: string (nullable = true)\n",
      " |-- day: string (nullable = true)\n",
      " |-- dep_time: string (nullable = true)\n",
      " |-- dep_delay: string (nullable = true)\n",
      " |-- arr_time: string (nullable = true)\n",
      " |-- arr_delay: string (nullable = true)\n",
      " |-- carrier: string (nullable = true)\n",
      " |-- tailnum: string (nullable = true)\n",
      " |-- flight: string (nullable = true)\n",
      " |-- origin: string (nullable = true)\n",
      " |-- dest: string (nullable = true)\n",
      " |-- air_time: string (nullable = true)\n",
      " |-- distance: string (nullable = true)\n",
      " |-- hour: string (nullable = true)\n",
      " |-- minute: string (nullable = true)\n",
      "\n"
     ]
    }
   ],
   "source": [
    "path = '/Users/grp/Documents/BIGDATA/DATACAMP/otherCourses/introtopyspark/flights_small.csv'\n",
    "flights_csv_df = spark.read.option(\"header\", True).csv(path)\n",
    "flights_csv_df.printSchema()"
   ]
  },
  {
   "cell_type": "code",
   "execution_count": 4,
   "metadata": {},
   "outputs": [],
   "source": [
    "flights_csv_df.createOrReplaceTempView(\"flights_sql\")"
   ]
  },
  {
   "cell_type": "code",
   "execution_count": 5,
   "metadata": {},
   "outputs": [
    {
     "name": "stdout",
     "output_type": "stream",
     "text": [
      "[Table(name='flights_sql', database=None, description=None, tableType='TEMPORARY', isTemporary=True)]\n"
     ]
    }
   ],
   "source": [
    "print(spark.catalog.listTables())"
   ]
  },
  {
   "cell_type": "markdown",
   "metadata": {},
   "source": [
    "#### sql query:\n",
    "-  ```spark.sql()```"
   ]
  },
  {
   "cell_type": "code",
   "execution_count": 6,
   "metadata": {
    "scrolled": false
   },
   "outputs": [
    {
     "name": "stdout",
     "output_type": "stream",
     "text": [
      "+----+-----+---+--------+---------+--------+---------+-------+-------+------+------+----+--------+--------+----+------+\n",
      "|year|month|day|dep_time|dep_delay|arr_time|arr_delay|carrier|tailnum|flight|origin|dest|air_time|distance|hour|minute|\n",
      "+----+-----+---+--------+---------+--------+---------+-------+-------+------+------+----+--------+--------+----+------+\n",
      "|2014|   12|  8|     658|       -7|     935|       -5|     VX| N846VA|  1780|   SEA| LAX|     132|     954|   6|    58|\n",
      "|2014|    1| 22|    1040|        5|    1505|        5|     AS| N559AS|   851|   SEA| HNL|     360|    2677|  10|    40|\n",
      "|2014|    3|  9|    1443|       -2|    1652|        2|     VX| N847VA|   755|   SEA| SFO|     111|     679|  14|    43|\n",
      "|2014|    4|  9|    1705|       45|    1839|       34|     WN| N360SW|   344|   PDX| SJC|      83|     569|  17|     5|\n",
      "|2014|    3|  9|     754|       -1|    1015|        1|     AS| N612AS|   522|   SEA| BUR|     127|     937|   7|    54|\n",
      "|2014|    1| 15|    1037|        7|    1352|        2|     WN| N646SW|    48|   PDX| DEN|     121|     991|  10|    37|\n",
      "|2014|    7|  2|     847|       42|    1041|       51|     WN| N422WN|  1520|   PDX| OAK|      90|     543|   8|    47|\n",
      "|2014|    5| 12|    1655|       -5|    1842|      -18|     VX| N361VA|   755|   SEA| SFO|      98|     679|  16|    55|\n",
      "|2014|    4| 19|    1236|       -4|    1508|       -7|     AS| N309AS|   490|   SEA| SAN|     135|    1050|  12|    36|\n",
      "|2014|   11| 19|    1812|       -3|    2352|       -4|     AS| N564AS|    26|   SEA| ORD|     198|    1721|  18|    12|\n",
      "+----+-----+---+--------+---------+--------+---------+-------+-------+------+------+----+--------+--------+----+------+\n",
      "\n"
     ]
    }
   ],
   "source": [
    "query = \"FROM flights_sql SELECT * LIMIT 10\"\n",
    "\n",
    "flights10 = spark.sql(query)\n",
    "\n",
    "flights10.show(truncate=True)"
   ]
  },
  {
   "cell_type": "markdown",
   "metadata": {},
   "source": [
    "#### convert spark df to pandas df:\n",
    "-  only recommended for smaller datasets because data is returned and stored in driver memory\n",
    "-  ```toPandas()```"
   ]
  },
  {
   "cell_type": "code",
   "execution_count": 7,
   "metadata": {},
   "outputs": [
    {
     "name": "stdout",
     "output_type": "stream",
     "text": [
      "+------+----+---+\n",
      "|origin|dest|  N|\n",
      "+------+----+---+\n",
      "|   SEA| RNO|  8|\n",
      "|   SEA| DTW| 98|\n",
      "|   SEA| CLE|  2|\n",
      "|   SEA| LAX|450|\n",
      "|   PDX| SEA|144|\n",
      "+------+----+---+\n",
      "only showing top 5 rows\n",
      "\n",
      "None\n",
      "  origin dest    N\n",
      "0    SEA  RNO    8\n",
      "1    SEA  DTW   98\n",
      "2    SEA  CLE    2\n",
      "3    SEA  LAX  450\n",
      "4    PDX  SEA  144\n"
     ]
    }
   ],
   "source": [
    "import pandas as pd\n",
    "\n",
    "query = \"SELECT origin, dest, COUNT(*) as N FROM flights_sql GROUP BY origin, dest\"\n",
    "\n",
    "flight_counts = spark.sql(query)\n",
    "print(flight_counts.show(5))\n",
    "\n",
    "pd_counts = flight_counts.toPandas()\n",
    "print(pd_counts.head())"
   ]
  },
  {
   "cell_type": "markdown",
   "metadata": {},
   "source": [
    "#### convert pandas df to spark df:\n",
    "-  ```spark.createDataFrame()```"
   ]
  },
  {
   "cell_type": "code",
   "execution_count": 8,
   "metadata": {},
   "outputs": [
    {
     "name": "stdout",
     "output_type": "stream",
     "text": [
      "[Table(name='flights_sql', database=None, description=None, tableType='TEMPORARY', isTemporary=True)]\n",
      "==========\n",
      "[Table(name='flights_sql', database=None, description=None, tableType='TEMPORARY', isTemporary=True), Table(name='temp', database=None, description=None, tableType='TEMPORARY', isTemporary=True)]\n"
     ]
    }
   ],
   "source": [
    "import numpy as np\n",
    "\n",
    "pd_temp = pd.DataFrame(np.random.random(10))\n",
    "\n",
    "spark_temp = spark.createDataFrame(pd_temp)\n",
    "print(spark.catalog.listTables()) # prior\n",
    "print(\"=\"*10)\n",
    "spark_temp.createOrReplaceTempView(\"temp\")\n",
    "print(spark.catalog.listTables()) # confirm temp table is available in spark catalog"
   ]
  },
  {
   "cell_type": "markdown",
   "metadata": {},
   "source": [
    "#### read csv:\n",
    "-  ```spark.read.csv()```"
   ]
  },
  {
   "cell_type": "code",
   "execution_count": 9,
   "metadata": {},
   "outputs": [
    {
     "name": "stdout",
     "output_type": "stream",
     "text": [
      "root\n",
      " |-- faa: string (nullable = true)\n",
      " |-- name: string (nullable = true)\n",
      " |-- lat: string (nullable = true)\n",
      " |-- lon: string (nullable = true)\n",
      " |-- alt: string (nullable = true)\n",
      " |-- tz: string (nullable = true)\n",
      " |-- dst: string (nullable = true)\n",
      "\n"
     ]
    }
   ],
   "source": [
    "path = '/Users/grp/Documents/BIGDATA/DATACAMP/otherCourses/introtopyspark/airports.csv'\n",
    "airports_csv_df = spark.read.option(\"header\", True).csv(path)\n",
    "airports_csv_df.printSchema()"
   ]
  },
  {
   "cell_type": "code",
   "execution_count": 10,
   "metadata": {},
   "outputs": [
    {
     "name": "stdout",
     "output_type": "stream",
     "text": [
      "+---+--------------------+----------------+-----------------+----+---+---+\n",
      "|faa|                name|             lat|              lon| alt| tz|dst|\n",
      "+---+--------------------+----------------+-----------------+----+---+---+\n",
      "|04G|   Lansdowne Airport|      41.1304722|      -80.6195833|1044| -5|  A|\n",
      "|06A|Moton Field Munic...|      32.4605722|      -85.6800278| 264| -5|  A|\n",
      "|06C| Schaumburg Regional|      41.9893408|      -88.1012428| 801| -6|  A|\n",
      "|06N|     Randall Airport|       41.431912|      -74.3915611| 523| -5|  A|\n",
      "|09J|Jekyll Island Air...|      31.0744722|      -81.4277778|  11| -4|  A|\n",
      "|0A9|Elizabethton Muni...|      36.3712222|      -82.1734167|1593| -4|  A|\n",
      "|0G6|Williams County A...|      41.4673056|      -84.5067778| 730| -5|  A|\n",
      "|0G7|Finger Lakes Regi...|      42.8835647|      -76.7812318| 492| -5|  A|\n",
      "|0P2|Shoestring Aviati...|      39.7948244|      -76.6471914|1000| -5|  U|\n",
      "|0S9|Jefferson County ...|      48.0538086|     -122.8106436| 108| -8|  A|\n",
      "|0W3|Harford County Ai...|      39.5668378|      -76.2024028| 409| -5|  A|\n",
      "|10C|  Galt Field Airport|      42.4028889|      -88.3751111| 875| -6|  U|\n",
      "|17G|Port Bucyrus-Craw...|      40.7815556|      -82.9748056|1003| -5|  A|\n",
      "|19A|Jackson County Ai...|      34.1758638|      -83.5615972| 951| -4|  U|\n",
      "|1A3|Martin Campbell F...|      35.0158056|      -84.3468333|1789| -4|  A|\n",
      "|1B9| Mansfield Municipal|      42.0001331|      -71.1967714| 122| -5|  A|\n",
      "|1C9|Frazier Lake Airpark|54.0133333333333|-124.768333333333| 152| -8|  A|\n",
      "|1CS|Clow Internationa...|      41.6959744|      -88.1292306| 670| -6|  U|\n",
      "|1G3|  Kent State Airport|      41.1513889|      -81.4151111|1134| -4|  A|\n",
      "|1OH|     Fortman Airport|      40.5553253|      -84.3866186| 885| -5|  U|\n",
      "+---+--------------------+----------------+-----------------+----+---+---+\n",
      "only showing top 20 rows\n",
      "\n"
     ]
    }
   ],
   "source": [
    "airports_csv_df.show()"
   ]
  },
  {
   "cell_type": "markdown",
   "metadata": {},
   "source": [
    "## _2. Manipulating Data_:\n",
    "-  ```pyspark.sql``` module"
   ]
  },
  {
   "cell_type": "markdown",
   "metadata": {},
   "source": [
    "#### create new columns:\n",
    "-  ```withColumn()```\n",
    "-  ```withColumnRenamed()```"
   ]
  },
  {
   "cell_type": "code",
   "execution_count": 11,
   "metadata": {},
   "outputs": [
    {
     "name": "stdout",
     "output_type": "stream",
     "text": [
      "Row(year='2014', month='12', day='8', dep_time='658', dep_delay='-7', arr_time='935', arr_delay='-5', carrier='VX', tailnum='N846VA', flight='1780', origin='SEA', dest='LAX', air_time='132', distance='954', hour='6', minute='58')\n",
      "Row(year='2014', month='1', day='22', dep_time='1040', dep_delay='5', arr_time='1505', arr_delay='5', carrier='AS', tailnum='N559AS', flight='851', origin='SEA', dest='HNL', air_time='360', distance='2677', hour='10', minute='40')\n",
      "Row(year='2014', month='3', day='9', dep_time='1443', dep_delay='-2', arr_time='1652', arr_delay='2', carrier='VX', tailnum='N847VA', flight='755', origin='SEA', dest='SFO', air_time='111', distance='679', hour='14', minute='43')\n",
      "==========\n",
      "+------------------+\n",
      "|      duration_hrs|\n",
      "+------------------+\n",
      "|               2.2|\n",
      "|               6.0|\n",
      "|              1.85|\n",
      "|1.3833333333333333|\n",
      "|2.1166666666666667|\n",
      "+------------------+\n",
      "only showing top 5 rows\n",
      "\n",
      "==========\n",
      "root\n",
      " |-- year: string (nullable = true)\n",
      " |-- month: string (nullable = true)\n",
      " |-- day: string (nullable = true)\n",
      " |-- dep_time: string (nullable = true)\n",
      " |-- dep_delay: string (nullable = true)\n",
      " |-- arr_time: string (nullable = true)\n",
      " |-- arr_delay: string (nullable = true)\n",
      " |-- carrier: string (nullable = true)\n",
      " |-- tailnum: string (nullable = true)\n",
      " |-- flight: string (nullable = true)\n",
      " |-- origin: string (nullable = true)\n",
      " |-- dest: string (nullable = true)\n",
      " |-- air_time: string (nullable = true)\n",
      " |-- distance: string (nullable = true)\n",
      " |-- hour: string (nullable = true)\n",
      " |-- minute: string (nullable = true)\n",
      " |-- duration_hrs: double (nullable = true)\n",
      "\n"
     ]
    }
   ],
   "source": [
    "flights_sql_df = spark.table(\"flights_sql\")\n",
    "\n",
    "for i in flights_sql_df.take(3): print(i)\n",
    "\n",
    "print(\"=\"*10)\n",
    "\n",
    "flights_df = flights_sql_df.withColumn(\"duration_hrs\", flights_sql_df.air_time/60)\n",
    "flights_df.select(\"duration_hrs\").show(5)\n",
    "\n",
    "print(\"=\"*10)\n",
    "\n",
    "flights_df.printSchema()"
   ]
  },
  {
   "cell_type": "markdown",
   "metadata": {},
   "source": [
    "#### filter data:\n",
    "-  ```filter()```"
   ]
  },
  {
   "cell_type": "code",
   "execution_count": 12,
   "metadata": {},
   "outputs": [
    {
     "name": "stdout",
     "output_type": "stream",
     "text": [
      "Row(year='2014', month='1', day='22', dep_time='1040', dep_delay='5', arr_time='1505', arr_delay='5', carrier='AS', tailnum='N559AS', flight='851', origin='SEA', dest='HNL', air_time='360', distance='2677', hour='10', minute='40', duration_hrs=6.0)\n",
      "Row(year='2014', month='4', day='19', dep_time='1236', dep_delay='-4', arr_time='1508', arr_delay='-7', carrier='AS', tailnum='N309AS', flight='490', origin='SEA', dest='SAN', air_time='135', distance='1050', hour='12', minute='36', duration_hrs=2.25)\n",
      "Row(year='2014', month='11', day='19', dep_time='1812', dep_delay='-3', arr_time='2352', arr_delay='-4', carrier='AS', tailnum='N564AS', flight='26', origin='SEA', dest='ORD', air_time='198', distance='1721', hour='18', minute='12', duration_hrs=3.3)\n",
      "==========\n",
      "Row(year='2014', month='1', day='22', dep_time='1040', dep_delay='5', arr_time='1505', arr_delay='5', carrier='AS', tailnum='N559AS', flight='851', origin='SEA', dest='HNL', air_time='360', distance='2677', hour='10', minute='40', duration_hrs=6.0)\n",
      "Row(year='2014', month='4', day='19', dep_time='1236', dep_delay='-4', arr_time='1508', arr_delay='-7', carrier='AS', tailnum='N309AS', flight='490', origin='SEA', dest='SAN', air_time='135', distance='1050', hour='12', minute='36', duration_hrs=2.25)\n",
      "Row(year='2014', month='11', day='19', dep_time='1812', dep_delay='-3', arr_time='2352', arr_delay='-4', carrier='AS', tailnum='N564AS', flight='26', origin='SEA', dest='ORD', air_time='198', distance='1721', hour='18', minute='12', duration_hrs=3.3)\n"
     ]
    }
   ],
   "source": [
    "long_flights1 = flights_df.filter(\"distance > 1000\")\n",
    "long_flights2 = flights_df.filter(flights_df.distance > 1000)\n",
    "\n",
    "for i in long_flights1.take(3): print(i)\n",
    "print(\"=\"*10)\n",
    "for i in long_flights2.take(3): print(i)"
   ]
  },
  {
   "cell_type": "markdown",
   "metadata": {},
   "source": [
    "#### select data:\n",
    "-  ```select()```\n",
    "-  ```selectExpr()```\n",
    "-  ```cast()```"
   ]
  },
  {
   "cell_type": "code",
   "execution_count": 13,
   "metadata": {},
   "outputs": [
    {
     "name": "stdout",
     "output_type": "stream",
     "text": [
      "+------+----+-------+\n",
      "|origin|dest|carrier|\n",
      "+------+----+-------+\n",
      "|   SEA| PDX|     OO|\n",
      "|   SEA| PDX|     OO|\n",
      "|   SEA| PDX|     OO|\n",
      "|   SEA| PDX|     OO|\n",
      "|   SEA| PDX|     OO|\n",
      "|   SEA| PDX|     AS|\n",
      "|   SEA| PDX|     OO|\n",
      "|   SEA| PDX|     OO|\n",
      "|   SEA| PDX|     OO|\n",
      "|   SEA| PDX|     OO|\n",
      "|   SEA| PDX|     OO|\n",
      "|   SEA| PDX|     OO|\n",
      "|   SEA| PDX|     OO|\n",
      "|   SEA| PDX|     OO|\n",
      "|   SEA| PDX|     AS|\n",
      "|   SEA| PDX|     OO|\n",
      "|   SEA| PDX|     OO|\n",
      "|   SEA| PDX|     OO|\n",
      "|   SEA| PDX|     OO|\n",
      "|   SEA| PDX|     OO|\n",
      "+------+----+-------+\n",
      "only showing top 20 rows\n",
      "\n"
     ]
    }
   ],
   "source": [
    "selected1 = flights_df.select(\"tailnum\", \"origin\", \"dest\")\n",
    "temp = flights_df.select(flights_df.origin, flights_df.dest, flights_df.carrier)\n",
    "\n",
    "filterA = flights_df.origin == \"SEA\"\n",
    "filterB = flights_df.dest == \"PDX\"\n",
    "\n",
    "selected2 = temp.filter(filterA).filter(filterB)\n",
    "selected2.show()"
   ]
  },
  {
   "cell_type": "code",
   "execution_count": 14,
   "metadata": {},
   "outputs": [
    {
     "name": "stdout",
     "output_type": "stream",
     "text": [
      "+------+----+-------+------------------+\n",
      "|origin|dest|tailnum|         avg_speed|\n",
      "+------+----+-------+------------------+\n",
      "|   SEA| LAX| N846VA| 433.6363636363636|\n",
      "|   SEA| HNL| N559AS| 446.1666666666667|\n",
      "|   SEA| SFO| N847VA|367.02702702702703|\n",
      "|   PDX| SJC| N360SW| 411.3253012048193|\n",
      "|   SEA| BUR| N612AS| 442.6771653543307|\n",
      "|   PDX| DEN| N646SW|491.40495867768595|\n",
      "|   PDX| OAK| N422WN|             362.0|\n",
      "|   SEA| SFO| N361VA| 415.7142857142857|\n",
      "|   SEA| SAN| N309AS| 466.6666666666667|\n",
      "|   SEA| ORD| N564AS| 521.5151515151515|\n",
      "|   SEA| LAX| N323AS| 440.3076923076923|\n",
      "|   SEA| PHX| N305AS|431.29870129870125|\n",
      "|   SEA| LAS| N433AS| 409.6062992125984|\n",
      "|   SEA| ANC| N765AS|474.75409836065575|\n",
      "|   SEA| SFO| N713AS| 315.8139534883721|\n",
      "|   PDX| SFO| N27205| 366.6666666666667|\n",
      "|   SEA| SMF| N626AS|477.63157894736844|\n",
      "|   SEA| MDW| N8634A|481.38888888888886|\n",
      "|   SEA| BOS| N597AS| 516.4137931034483|\n",
      "|   PDX| BUR| N215AG| 441.6216216216216|\n",
      "+------+----+-------+------------------+\n",
      "only showing top 20 rows\n",
      "\n",
      "+------+----+-------+------------------+\n",
      "|origin|dest|tailnum|         avg_speed|\n",
      "+------+----+-------+------------------+\n",
      "|   SEA| LAX| N846VA| 433.6363636363636|\n",
      "|   SEA| HNL| N559AS| 446.1666666666667|\n",
      "|   SEA| SFO| N847VA|367.02702702702703|\n",
      "|   PDX| SJC| N360SW| 411.3253012048193|\n",
      "|   SEA| BUR| N612AS| 442.6771653543307|\n",
      "|   PDX| DEN| N646SW|491.40495867768595|\n",
      "|   PDX| OAK| N422WN|             362.0|\n",
      "|   SEA| SFO| N361VA| 415.7142857142857|\n",
      "|   SEA| SAN| N309AS| 466.6666666666667|\n",
      "|   SEA| ORD| N564AS| 521.5151515151515|\n",
      "|   SEA| LAX| N323AS| 440.3076923076923|\n",
      "|   SEA| PHX| N305AS|431.29870129870125|\n",
      "|   SEA| LAS| N433AS| 409.6062992125984|\n",
      "|   SEA| ANC| N765AS|474.75409836065575|\n",
      "|   SEA| SFO| N713AS| 315.8139534883721|\n",
      "|   PDX| SFO| N27205| 366.6666666666667|\n",
      "|   SEA| SMF| N626AS|477.63157894736844|\n",
      "|   SEA| MDW| N8634A|481.38888888888886|\n",
      "|   SEA| BOS| N597AS| 516.4137931034483|\n",
      "|   PDX| BUR| N215AG| 441.6216216216216|\n",
      "+------+----+-------+------------------+\n",
      "only showing top 20 rows\n",
      "\n"
     ]
    }
   ],
   "source": [
    "avg_speed = (flights_df.distance/(flights_df.air_time/60)).alias(\"avg_speed\") # calc col\n",
    "\n",
    "speed1 = flights_df.select(\"origin\", \"dest\", \"tailnum\", avg_speed)\n",
    "speed2 = flights_df.selectExpr(\"origin\", \"dest\", \"tailnum\", \"distance/(air_time/60) as avg_speed\")\n",
    "\n",
    "speed1.show()\n",
    "speed2.show()"
   ]
  },
  {
   "cell_type": "markdown",
   "metadata": {},
   "source": [
    "#### aggregation:\n",
    "-  ```groupBy()```\n",
    "-  ```min()```\n",
    "-  ```max()```\n",
    "-  ```avg()```"
   ]
  },
  {
   "cell_type": "code",
   "execution_count": 15,
   "metadata": {},
   "outputs": [
    {
     "name": "stdout",
     "output_type": "stream",
     "text": [
      "+-------------+\n",
      "|min(distance)|\n",
      "+-------------+\n",
      "|          106|\n",
      "+-------------+\n",
      "\n",
      "+-------------+\n",
      "|max(air_time)|\n",
      "+-------------+\n",
      "|          409|\n",
      "+-------------+\n",
      "\n"
     ]
    }
   ],
   "source": [
    "from pyspark.sql.functions import col, min, max\n",
    "\n",
    "flights_df\\\n",
    ".select(col(\"distance\").cast(\"int\"))\\\n",
    ".filter(flights_df.origin == \"PDX\")\\\n",
    ".groupBy()\\\n",
    ".min(\"distance\")\\\n",
    ".show()\n",
    "\n",
    "flights_df\\\n",
    ".select(col(\"air_time\").cast(\"int\"))\\\n",
    ".filter(flights_df.origin == \"SEA\")\\\n",
    ".groupBy()\\\n",
    ".max(\"air_time\")\\\n",
    ".show()"
   ]
  },
  {
   "cell_type": "code",
   "execution_count": 16,
   "metadata": {},
   "outputs": [
    {
     "name": "stdout",
     "output_type": "stream",
     "text": [
      "+------------------+\n",
      "|     avg(air_time)|\n",
      "+------------------+\n",
      "|188.20689655172413|\n",
      "+------------------+\n",
      "\n",
      "+------------------+\n",
      "| sum(duration_hrs)|\n",
      "+------------------+\n",
      "|25289.600000000126|\n",
      "+------------------+\n",
      "\n"
     ]
    }
   ],
   "source": [
    "flights_df\\\n",
    ".select(col(\"air_time\").cast(\"int\"))\\\n",
    ".filter(flights_df.carrier == \"DL\")\\\n",
    ".filter(flights_df.origin == \"SEA\")\\\n",
    ".groupBy()\\\n",
    ".avg(\"air_time\")\\\n",
    ".show()\n",
    "\n",
    "# total hours in the air\n",
    "flights_df\\\n",
    ".withColumn(\"duration_hrs\", flights_df.air_time/60)\\\n",
    ".groupBy()\\\n",
    ".sum(\"duration_hrs\")\\\n",
    ".show()"
   ]
  },
  {
   "cell_type": "code",
   "execution_count": 17,
   "metadata": {
    "scrolled": false
   },
   "outputs": [
    {
     "name": "stdout",
     "output_type": "stream",
     "text": [
      "+-------+-----+\n",
      "|tailnum|count|\n",
      "+-------+-----+\n",
      "| N442AS|   38|\n",
      "| N102UW|    2|\n",
      "| N36472|    4|\n",
      "| N38451|    4|\n",
      "| N73283|    4|\n",
      "| N513UA|    2|\n",
      "| N954WN|    5|\n",
      "| N388DA|    3|\n",
      "| N567AA|    1|\n",
      "| N516UA|    2|\n",
      "| N927DN|    1|\n",
      "| N8322X|    1|\n",
      "| N466SW|    1|\n",
      "|  N6700|    1|\n",
      "| N607AS|   45|\n",
      "| N622SW|    4|\n",
      "| N584AS|   31|\n",
      "| N914WN|    4|\n",
      "| N654AW|    2|\n",
      "| N336NW|    1|\n",
      "+-------+-----+\n",
      "only showing top 20 rows\n",
      "\n",
      "+------+------------------+\n",
      "|origin| avg(air_time_int)|\n",
      "+------+------------------+\n",
      "|   SEA| 160.4361496051259|\n",
      "|   PDX|137.11543248288737|\n",
      "+------+------------------+\n",
      "\n"
     ]
    }
   ],
   "source": [
    "by_plane = flights_df.groupBy(\"tailnum\")\n",
    "\n",
    "# number of flights each plane made\n",
    "by_plane.count().show()\n",
    "\n",
    "# group by origin + cast air_time as new col to int\n",
    "by_origin = flights_df\\\n",
    ".select(\"*\", col(\"air_time\")\\\n",
    "        .cast(\"int\")\\\n",
    "        .alias(\"air_time_int\"))\\\n",
    ".groupBy(\"origin\")\n",
    "\n",
    "# avg duration of flights from PDX and SEA\n",
    "by_origin\\\n",
    ".avg(\"air_time_int\")\\\n",
    ".show()"
   ]
  },
  {
   "cell_type": "code",
   "execution_count": 18,
   "metadata": {},
   "outputs": [
    {
     "name": "stdout",
     "output_type": "stream",
     "text": [
      "+-----+----+--------------------+\n",
      "|month|dest|  avg(dep_delay_int)|\n",
      "+-----+----+--------------------+\n",
      "|   11| TUS| -2.3333333333333335|\n",
      "|   11| ANC|   7.529411764705882|\n",
      "|    1| BUR|               -1.45|\n",
      "|    1| PDX| -5.6923076923076925|\n",
      "|    6| SBA|                -2.5|\n",
      "|    5| LAX|-0.15789473684210525|\n",
      "|   10| DTW|                 2.6|\n",
      "|    6| SIT|                -1.0|\n",
      "|   10| DFW|  18.176470588235293|\n",
      "|    3| FAI|                -2.2|\n",
      "|   10| SEA|                -0.8|\n",
      "|    2| TUS| -0.6666666666666666|\n",
      "|   12| OGG|  25.181818181818183|\n",
      "|    9| DFW|   4.066666666666666|\n",
      "|    5| EWR|               14.25|\n",
      "|    3| RDM|                -6.2|\n",
      "|    8| DCA|                 2.6|\n",
      "|    7| ATL|   4.675675675675675|\n",
      "|    4| JFK| 0.07142857142857142|\n",
      "|   10| SNA| -1.1333333333333333|\n",
      "+-----+----+--------------------+\n",
      "only showing top 20 rows\n",
      "\n",
      "+-----+----+--------------------------+\n",
      "|month|dest|stddev_samp(dep_delay_int)|\n",
      "+-----+----+--------------------------+\n",
      "|   11| TUS|        3.0550504633038935|\n",
      "|   11| ANC|        18.604716401245316|\n",
      "|    1| BUR|         15.22627576540667|\n",
      "|    1| PDX|         5.677214918493858|\n",
      "|    6| SBA|         2.380476142847617|\n",
      "|    5| LAX|         13.36268698685904|\n",
      "|   10| DTW|         5.639148871948674|\n",
      "|    6| SIT|                       NaN|\n",
      "|   10| DFW|         45.53019017606675|\n",
      "|    3| FAI|        3.1144823004794873|\n",
      "|   10| SEA|         18.70523227029577|\n",
      "|    2| TUS|        14.468356276140469|\n",
      "|   12| OGG|         82.64480404939947|\n",
      "|    9| DFW|        21.728629347782924|\n",
      "|    5| EWR|         42.41595968929191|\n",
      "|    3| RDM|          2.16794833886788|\n",
      "|    8| DCA|         9.946523680831074|\n",
      "|    7| ATL|        22.767001039582183|\n",
      "|    4| JFK|         8.156774303176903|\n",
      "|   10| SNA|        13.726234873756304|\n",
      "+-----+----+--------------------------+\n",
      "only showing top 20 rows\n",
      "\n"
     ]
    }
   ],
   "source": [
    "import pyspark.sql.functions as F\n",
    "\n",
    "# group by month/dest + cast dep_delay as new col to int\n",
    "by_month_dest = flights_df\\\n",
    ".withColumn(\"dep_delay_int\", col(\"dep_delay\")\\\n",
    "        .cast(\"int\"))\\\n",
    ".groupBy(\"month\", \"dest\")\n",
    "\n",
    "by_month_dest.avg(\"dep_delay_int\").show()\n",
    "\n",
    "# standard deviation\n",
    "by_month_dest.agg(F.stddev(\"dep_delay_int\")).show()"
   ]
  },
  {
   "cell_type": "markdown",
   "metadata": {},
   "source": [
    "#### join"
   ]
  },
  {
   "cell_type": "code",
   "execution_count": 19,
   "metadata": {
    "scrolled": false
   },
   "outputs": [
    {
     "name": "stdout",
     "output_type": "stream",
     "text": [
      "+---+--------------------+----------------+-----------------+----+---+---+\n",
      "|faa|                name|             lat|              lon| alt| tz|dst|\n",
      "+---+--------------------+----------------+-----------------+----+---+---+\n",
      "|04G|   Lansdowne Airport|      41.1304722|      -80.6195833|1044| -5|  A|\n",
      "|06A|Moton Field Munic...|      32.4605722|      -85.6800278| 264| -5|  A|\n",
      "|06C| Schaumburg Regional|      41.9893408|      -88.1012428| 801| -6|  A|\n",
      "|06N|     Randall Airport|       41.431912|      -74.3915611| 523| -5|  A|\n",
      "|09J|Jekyll Island Air...|      31.0744722|      -81.4277778|  11| -4|  A|\n",
      "|0A9|Elizabethton Muni...|      36.3712222|      -82.1734167|1593| -4|  A|\n",
      "|0G6|Williams County A...|      41.4673056|      -84.5067778| 730| -5|  A|\n",
      "|0G7|Finger Lakes Regi...|      42.8835647|      -76.7812318| 492| -5|  A|\n",
      "|0P2|Shoestring Aviati...|      39.7948244|      -76.6471914|1000| -5|  U|\n",
      "|0S9|Jefferson County ...|      48.0538086|     -122.8106436| 108| -8|  A|\n",
      "|0W3|Harford County Ai...|      39.5668378|      -76.2024028| 409| -5|  A|\n",
      "|10C|  Galt Field Airport|      42.4028889|      -88.3751111| 875| -6|  U|\n",
      "|17G|Port Bucyrus-Craw...|      40.7815556|      -82.9748056|1003| -5|  A|\n",
      "|19A|Jackson County Ai...|      34.1758638|      -83.5615972| 951| -4|  U|\n",
      "|1A3|Martin Campbell F...|      35.0158056|      -84.3468333|1789| -4|  A|\n",
      "|1B9| Mansfield Municipal|      42.0001331|      -71.1967714| 122| -5|  A|\n",
      "|1C9|Frazier Lake Airpark|54.0133333333333|-124.768333333333| 152| -8|  A|\n",
      "|1CS|Clow Internationa...|      41.6959744|      -88.1292306| 670| -6|  U|\n",
      "|1G3|  Kent State Airport|      41.1513889|      -81.4151111|1134| -4|  A|\n",
      "|1OH|     Fortman Airport|      40.5553253|      -84.3866186| 885| -5|  U|\n",
      "+---+--------------------+----------------+-----------------+----+---+---+\n",
      "only showing top 20 rows\n",
      "\n",
      "root\n",
      " |-- dest: string (nullable = true)\n",
      " |-- year: string (nullable = true)\n",
      " |-- month: string (nullable = true)\n",
      " |-- day: string (nullable = true)\n",
      " |-- dep_time: string (nullable = true)\n",
      " |-- dep_delay: string (nullable = true)\n",
      " |-- arr_time: string (nullable = true)\n",
      " |-- arr_delay: string (nullable = true)\n",
      " |-- carrier: string (nullable = true)\n",
      " |-- tailnum: string (nullable = true)\n",
      " |-- flight: string (nullable = true)\n",
      " |-- origin: string (nullable = true)\n",
      " |-- air_time: string (nullable = true)\n",
      " |-- distance: string (nullable = true)\n",
      " |-- hour: string (nullable = true)\n",
      " |-- minute: string (nullable = true)\n",
      " |-- duration_hrs: double (nullable = true)\n",
      " |-- name: string (nullable = true)\n",
      " |-- lat: string (nullable = true)\n",
      " |-- lon: string (nullable = true)\n",
      " |-- alt: string (nullable = true)\n",
      " |-- tz: string (nullable = true)\n",
      " |-- dst: string (nullable = true)\n",
      "\n"
     ]
    }
   ],
   "source": [
    "airports_csv_df.show()\n",
    "\n",
    "# Rename the faa column\n",
    "airports_df = airports_csv_df.withColumnRenamed(\"faa\", \"dest\")\n",
    "\n",
    "# Join the DataFrames\n",
    "flights_with_airports = flights_df.join(airports_df, on=\"dest\", how=\"left_outer\")\n",
    "\n",
    "# Examine the data again\n",
    "flights_with_airports.printSchema()"
   ]
  },
  {
   "cell_type": "markdown",
   "metadata": {},
   "source": [
    "## _3. Getting Started with Machine Learning Pipelines_:\n",
    "-  ```pyspark.ml``` module:\n",
    "    -  _Transformer_ => ```.transform()``` typically return a new dataframe (i.e. appended column)\n",
    "    -  _Estimator_ => ```.fit()``` typically return a model object\n",
    "    -  all inputs must be _numeric_ (i.e. integers, doubles)\n",
    "    -  ```Pipeline()``` chains stages together\n",
    "-  ```pyspark.ml.feature``` submodule:\n",
    "    -  handling categorical variables:\n",
    "        -  ```StringIndexer()``` map each unique categorical strings to unique numeric numbers\n",
    "        -  ```OneHotEncoder()``` encode numeric numbers as one-hot vectors (i.e. 0 or 1)\n",
    "    -  merge transformers & estimators together:\n",
    "        -  ```VectorAssembler()``` assembles numeric features as vector"
   ]
  },
  {
   "cell_type": "markdown",
   "metadata": {},
   "source": [
    "#### df join"
   ]
  },
  {
   "cell_type": "code",
   "execution_count": 20,
   "metadata": {},
   "outputs": [
    {
     "name": "stdout",
     "output_type": "stream",
     "text": [
      "root\n",
      " |-- tailnum: string (nullable = true)\n",
      " |-- year: string (nullable = true)\n",
      " |-- type: string (nullable = true)\n",
      " |-- manufacturer: string (nullable = true)\n",
      " |-- model: string (nullable = true)\n",
      " |-- engines: string (nullable = true)\n",
      " |-- seats: string (nullable = true)\n",
      " |-- speed: string (nullable = true)\n",
      " |-- engine: string (nullable = true)\n",
      "\n"
     ]
    }
   ],
   "source": [
    "path = '/Users/grp/Documents/BIGDATA/DATACAMP/otherCourses/introtopyspark/planes.csv'\n",
    "planes_csv_df = spark.read.option(\"header\", True).csv(path)\n",
    "planes_csv_df.printSchema()"
   ]
  },
  {
   "cell_type": "code",
   "execution_count": 21,
   "metadata": {},
   "outputs": [],
   "source": [
    "planes_df = planes_csv_df.withColumnRenamed(\"year\", \"plane_year\")\n",
    "model_data = flights_df.join(planes_df, on=\"tailnum\", how=\"left_outer\")"
   ]
  },
  {
   "cell_type": "markdown",
   "metadata": {},
   "source": [
    "#### cast cols to int"
   ]
  },
  {
   "cell_type": "code",
   "execution_count": 22,
   "metadata": {},
   "outputs": [],
   "source": [
    "model_data = model_data.withColumn(\"arr_delay\", model_data.arr_delay.cast(\"integer\"))\n",
    "model_data = model_data.withColumn(\"air_time\", model_data.air_time.cast(\"integer\"))\n",
    "model_data = model_data.withColumn(\"month\", model_data.month.cast(\"integer\"))\n",
    "model_data = model_data.withColumn(\"plane_year\", model_data.plane_year.cast(\"integer\"))"
   ]
  },
  {
   "cell_type": "markdown",
   "metadata": {},
   "source": [
    "#### create new col"
   ]
  },
  {
   "cell_type": "code",
   "execution_count": 23,
   "metadata": {},
   "outputs": [
    {
     "name": "stdout",
     "output_type": "stream",
     "text": [
      "root\n",
      " |-- tailnum: string (nullable = true)\n",
      " |-- year: string (nullable = true)\n",
      " |-- month: integer (nullable = true)\n",
      " |-- day: string (nullable = true)\n",
      " |-- dep_time: string (nullable = true)\n",
      " |-- dep_delay: string (nullable = true)\n",
      " |-- arr_time: string (nullable = true)\n",
      " |-- arr_delay: integer (nullable = true)\n",
      " |-- carrier: string (nullable = true)\n",
      " |-- flight: string (nullable = true)\n",
      " |-- origin: string (nullable = true)\n",
      " |-- dest: string (nullable = true)\n",
      " |-- air_time: integer (nullable = true)\n",
      " |-- distance: string (nullable = true)\n",
      " |-- hour: string (nullable = true)\n",
      " |-- minute: string (nullable = true)\n",
      " |-- duration_hrs: double (nullable = true)\n",
      " |-- plane_year: integer (nullable = true)\n",
      " |-- type: string (nullable = true)\n",
      " |-- manufacturer: string (nullable = true)\n",
      " |-- model: string (nullable = true)\n",
      " |-- engines: string (nullable = true)\n",
      " |-- seats: string (nullable = true)\n",
      " |-- speed: string (nullable = true)\n",
      " |-- engine: string (nullable = true)\n",
      " |-- plane_age: double (nullable = true)\n",
      "\n"
     ]
    }
   ],
   "source": [
    "model_data = model_data.withColumn(\"plane_age\", model_data.year - model_data.plane_year)\n",
    "model_data.printSchema()"
   ]
  },
  {
   "cell_type": "markdown",
   "metadata": {},
   "source": [
    "#### create boolean target var"
   ]
  },
  {
   "cell_type": "code",
   "execution_count": 24,
   "metadata": {},
   "outputs": [
    {
     "name": "stdout",
     "output_type": "stream",
     "text": [
      "+---------+\n",
      "|arr_delay|\n",
      "+---------+\n",
      "|       -5|\n",
      "|        5|\n",
      "|        2|\n",
      "|       34|\n",
      "|        1|\n",
      "+---------+\n",
      "only showing top 5 rows\n",
      "\n"
     ]
    }
   ],
   "source": [
    "model_data.select(\"arr_delay\").show(5)"
   ]
  },
  {
   "cell_type": "code",
   "execution_count": 25,
   "metadata": {},
   "outputs": [],
   "source": [
    "model_data = model_data.withColumn(\"is_late\", model_data.arr_delay > 0) # boolean true/false\n",
    "model_data = model_data.withColumn(\"label\", model_data.is_late.cast(\"integer\"))\n",
    "model_data = model_data\\\n",
    ".filter(\"arr_delay is not NULL \\\n",
    "and dep_delay is not NULL \\\n",
    "and air_time is not NULL \\\n",
    "and plane_year is not NULL\")"
   ]
  },
  {
   "cell_type": "code",
   "execution_count": 26,
   "metadata": {},
   "outputs": [
    {
     "name": "stdout",
     "output_type": "stream",
     "text": [
      "+-------+\n",
      "|is_late|\n",
      "+-------+\n",
      "|  false|\n",
      "|   true|\n",
      "|   true|\n",
      "|   true|\n",
      "|   true|\n",
      "+-------+\n",
      "only showing top 5 rows\n",
      "\n",
      "+-----+\n",
      "|label|\n",
      "+-----+\n",
      "|    0|\n",
      "|    1|\n",
      "|    1|\n",
      "|    1|\n",
      "|    1|\n",
      "+-----+\n",
      "only showing top 5 rows\n",
      "\n"
     ]
    }
   ],
   "source": [
    "model_data.select(\"is_late\").show(5)\n",
    "model_data.select(\"label\").show(5)"
   ]
  },
  {
   "cell_type": "markdown",
   "metadata": {},
   "source": [
    "#### ohe"
   ]
  },
  {
   "cell_type": "code",
   "execution_count": 27,
   "metadata": {},
   "outputs": [],
   "source": [
    "from pyspark.ml.feature import StringIndexer, OneHotEncoder\n",
    "\n",
    "carr_indexer = StringIndexer(inputCol=\"carrier\", outputCol=\"carrier_index\")\n",
    "carr_encoder = OneHotEncoder(inputCol=\"carrier_index\", outputCol=\"carrier_fact\")\n",
    "\n",
    "dest_indexer = StringIndexer(inputCol=\"dest\", outputCol=\"dest_index\")\n",
    "dest_encoder = OneHotEncoder(inputCol=\"dest_index\", outputCol=\"dest_fact\")"
   ]
  },
  {
   "cell_type": "markdown",
   "metadata": {},
   "source": [
    "#### assemble vector"
   ]
  },
  {
   "cell_type": "code",
   "execution_count": 28,
   "metadata": {},
   "outputs": [],
   "source": [
    "from pyspark.ml.feature import VectorAssembler\n",
    "\n",
    "vec_assembler = VectorAssembler(inputCols=[\"month\",\\\n",
    "                                           \"air_time\",\\\n",
    "                                           \"carrier_fact\",\\\n",
    "                                           \"dest_fact\",\\\n",
    "                                           \"plane_age\"],\\\n",
    "                                outputCol=\"features\")"
   ]
  },
  {
   "cell_type": "markdown",
   "metadata": {},
   "source": [
    "#### create pipeline"
   ]
  },
  {
   "cell_type": "code",
   "execution_count": 29,
   "metadata": {},
   "outputs": [],
   "source": [
    "from pyspark.ml import Pipeline\n",
    "\n",
    "flights_pipe = Pipeline(stages=\\\n",
    "                        [dest_indexer,\\\n",
    "                         dest_encoder,\\\n",
    "                         carr_indexer,\\\n",
    "                         carr_encoder,\\\n",
    "                         vec_assembler])"
   ]
  },
  {
   "cell_type": "code",
   "execution_count": 30,
   "metadata": {},
   "outputs": [
    {
     "data": {
      "text/plain": [
       "[StringIndexer_4e9a8130caa1b4ee143a,\n",
       " OneHotEncoder_4487883cf664fea1b0ba,\n",
       " StringIndexer_44ff81ee5447e0f897b6,\n",
       " OneHotEncoder_4091852421518b8f2ad3,\n",
       " VectorAssembler_498db05d0a4f892a173d]"
      ]
     },
     "execution_count": 30,
     "metadata": {},
     "output_type": "execute_result"
    }
   ],
   "source": [
    "flights_pipe.getStages()"
   ]
  },
  {
   "cell_type": "markdown",
   "metadata": {},
   "source": [
    "#### fit feature engineering model"
   ]
  },
  {
   "cell_type": "code",
   "execution_count": 31,
   "metadata": {},
   "outputs": [
    {
     "name": "stdout",
     "output_type": "stream",
     "text": [
      "root\n",
      " |-- tailnum: string (nullable = true)\n",
      " |-- year: string (nullable = true)\n",
      " |-- month: integer (nullable = true)\n",
      " |-- day: string (nullable = true)\n",
      " |-- dep_time: string (nullable = true)\n",
      " |-- dep_delay: string (nullable = true)\n",
      " |-- arr_time: string (nullable = true)\n",
      " |-- arr_delay: integer (nullable = true)\n",
      " |-- carrier: string (nullable = true)\n",
      " |-- flight: string (nullable = true)\n",
      " |-- origin: string (nullable = true)\n",
      " |-- dest: string (nullable = true)\n",
      " |-- air_time: integer (nullable = true)\n",
      " |-- distance: string (nullable = true)\n",
      " |-- hour: string (nullable = true)\n",
      " |-- minute: string (nullable = true)\n",
      " |-- duration_hrs: double (nullable = true)\n",
      " |-- plane_year: integer (nullable = true)\n",
      " |-- type: string (nullable = true)\n",
      " |-- manufacturer: string (nullable = true)\n",
      " |-- model: string (nullable = true)\n",
      " |-- engines: string (nullable = true)\n",
      " |-- seats: string (nullable = true)\n",
      " |-- speed: string (nullable = true)\n",
      " |-- engine: string (nullable = true)\n",
      " |-- plane_age: double (nullable = true)\n",
      " |-- is_late: boolean (nullable = true)\n",
      " |-- label: integer (nullable = true)\n",
      " |-- dest_index: double (nullable = false)\n",
      " |-- dest_fact: vector (nullable = true)\n",
      " |-- carrier_index: double (nullable = false)\n",
      " |-- carrier_fact: vector (nullable = true)\n",
      " |-- features: vector (nullable = true)\n",
      "\n",
      "Row(tailnum='N846VA', year='2014', month=12, day='8', dep_time='658', dep_delay='-7', arr_time='935', arr_delay=-5, carrier='VX', flight='1780', origin='SEA', dest='LAX', air_time=132, distance='954', hour='6', minute='58', duration_hrs=2.2, plane_year=2011, type='Fixed wing multi engine', manufacturer='AIRBUS', model='A320-214', engines='2', seats='182', speed='NA', engine='Turbo-fan', plane_age=3.0, is_late=False, label=0, dest_index=1.0, dest_fact=SparseVector(68, {1: 1.0}), carrier_index=7.0, carrier_fact=SparseVector(10, {7: 1.0}), features=SparseVector(81, {0: 12.0, 1: 132.0, 9: 1.0, 13: 1.0, 80: 3.0}))\n",
      "Row(tailnum='N559AS', year='2014', month=1, day='22', dep_time='1040', dep_delay='5', arr_time='1505', arr_delay=5, carrier='AS', flight='851', origin='SEA', dest='HNL', air_time=360, distance='2677', hour='10', minute='40', duration_hrs=6.0, plane_year=2006, type='Fixed wing multi engine', manufacturer='BOEING', model='737-890', engines='2', seats='149', speed='NA', engine='Turbo-fan', plane_age=8.0, is_late=True, label=1, dest_index=19.0, dest_fact=SparseVector(68, {19: 1.0}), carrier_index=0.0, carrier_fact=SparseVector(10, {0: 1.0}), features=SparseVector(81, {0: 1.0, 1: 360.0, 2: 1.0, 31: 1.0, 80: 8.0}))\n",
      "Row(tailnum='N847VA', year='2014', month=3, day='9', dep_time='1443', dep_delay='-2', arr_time='1652', arr_delay=2, carrier='VX', flight='755', origin='SEA', dest='SFO', air_time=111, distance='679', hour='14', minute='43', duration_hrs=1.85, plane_year=2011, type='Fixed wing multi engine', manufacturer='AIRBUS', model='A320-214', engines='2', seats='182', speed='NA', engine='Turbo-fan', plane_age=3.0, is_late=True, label=1, dest_index=0.0, dest_fact=SparseVector(68, {0: 1.0}), carrier_index=7.0, carrier_fact=SparseVector(10, {7: 1.0}), features=SparseVector(81, {0: 3.0, 1: 111.0, 9: 1.0, 12: 1.0, 80: 3.0}))\n"
     ]
    }
   ],
   "source": [
    "piped_data = flights_pipe.fit(model_data).transform(model_data)\n",
    "piped_data.printSchema()\n",
    "for i in piped_data.take(3): print(i)"
   ]
  },
  {
   "cell_type": "markdown",
   "metadata": {},
   "source": [
    "#### split data"
   ]
  },
  {
   "cell_type": "code",
   "execution_count": 32,
   "metadata": {},
   "outputs": [],
   "source": [
    "training, test = piped_data.randomSplit([.75, .25])"
   ]
  },
  {
   "cell_type": "markdown",
   "metadata": {},
   "source": [
    "## _4. Model Tuning and Selection_:\n",
    "-  hyperparameters:\n",
    "    -  ```pyspark.ml.tuning```\n",
    "-  k-fold cross validation:\n",
    "    -  ```pyspark.ml.tuning```\n",
    "-  model evaluation:\n",
    "    -  ```pyspark.ml.evaluation```"
   ]
  },
  {
   "cell_type": "markdown",
   "metadata": {},
   "source": [
    "#### create learning algorithm"
   ]
  },
  {
   "cell_type": "code",
   "execution_count": 33,
   "metadata": {},
   "outputs": [],
   "source": [
    "from pyspark.ml.classification import LogisticRegression\n",
    "\n",
    "lr = LogisticRegression()"
   ]
  },
  {
   "cell_type": "markdown",
   "metadata": {},
   "source": [
    "#### evaluator:\n",
    "-  examples:\n",
    "    -  AUC (**area under curve**)\n",
    "    -  ROC (**receiver operating curve**)\n",
    "-  ```BinaryClassificationEvaluator()```:\n",
    "    -  calculates the area under the ROC\n",
    "    -  this metric combines the two kinds of errors a binary classifier can make (false positives and false negatives) into a simple number"
   ]
  },
  {
   "cell_type": "code",
   "execution_count": 34,
   "metadata": {},
   "outputs": [],
   "source": [
    "import pyspark.ml.evaluation as evals\n",
    "\n",
    "evaluator = evals.BinaryClassificationEvaluator(metricName=\"areaUnderROC\")"
   ]
  },
  {
   "cell_type": "markdown",
   "metadata": {},
   "source": [
    "#### grid search:\n",
    "-  ```ParamGridBuilder()```"
   ]
  },
  {
   "cell_type": "code",
   "execution_count": 35,
   "metadata": {},
   "outputs": [],
   "source": [
    "import pyspark.ml.tuning as tune\n",
    "\n",
    "grid = tune.ParamGridBuilder()\n",
    "\n",
    "grid = grid.addGrid(lr.regParam, np.arange(0, .1, .01))\n",
    "grid = grid.addGrid(lr.elasticNetParam, [0, 1])\n",
    "\n",
    "grid = grid.build()"
   ]
  },
  {
   "cell_type": "markdown",
   "metadata": {},
   "source": [
    "#### cv:\n",
    "\"_CV splits the training data into a few different subsets (folds). Once the data is split up, one of the subsets is set aside, and the model is fit to the remaing subsets. Then the error is measured against the held out fold. This is repeated for each of the subsets, so every subset of data is held out and used as a test (validation) set exactly once. Then the error on each of the folds is averaged. This is called the cross validation error of the model, and is a good estimate of the actual error on the held out (test) set data._\""
   ]
  },
  {
   "cell_type": "code",
   "execution_count": 36,
   "metadata": {},
   "outputs": [],
   "source": [
    "cv = tune.CrossValidator(estimator=lr,\n",
    "               estimatorParamMaps=grid,\n",
    "               evaluator=evaluator\n",
    "               )"
   ]
  },
  {
   "cell_type": "markdown",
   "metadata": {},
   "source": [
    "#### fit pipeline w/ learning algorithm"
   ]
  },
  {
   "cell_type": "code",
   "execution_count": 37,
   "metadata": {},
   "outputs": [
    {
     "name": "stdout",
     "output_type": "stream",
     "text": [
      "LogisticRegression_4364b33b7373c2acdaec\n"
     ]
    }
   ],
   "source": [
    "# models = cv.fit(training)\n",
    "# best_lr = models.bestModel\n",
    "\n",
    "best_lr = lr.fit(training)\n",
    "print(best_lr)"
   ]
  },
  {
   "cell_type": "markdown",
   "metadata": {},
   "source": [
    "#### test set"
   ]
  },
  {
   "cell_type": "code",
   "execution_count": 38,
   "metadata": {},
   "outputs": [
    {
     "name": "stdout",
     "output_type": "stream",
     "text": [
      "0.7001747051850052\n"
     ]
    }
   ],
   "source": [
    "test_results = best_lr.transform(test)\n",
    "print(evaluator.evaluate(test_results))"
   ]
  },
  {
   "cell_type": "code",
   "execution_count": 39,
   "metadata": {},
   "outputs": [
    {
     "name": "stdout",
     "output_type": "stream",
     "text": [
      "+-----+----------+----------------------------------------+\n",
      "|label|prediction|probability                             |\n",
      "+-----+----------+----------------------------------------+\n",
      "|1    |1.0       |[0.41666750257218893,0.5833324974278111]|\n",
      "|0    |0.0       |[0.5542176992483967,0.4457823007516033] |\n",
      "|0    |0.0       |[0.6693876833008713,0.3306123166991287] |\n",
      "|0    |0.0       |[0.655883400471693,0.344116599528307]   |\n",
      "|1    |0.0       |[0.6007650969608681,0.39923490303913184]|\n",
      "|0    |1.0       |[0.42117985761492577,0.5788201423850743]|\n",
      "|0    |0.0       |[0.8170825280591004,0.18291747194089955]|\n",
      "|1    |1.0       |[0.3310653365041338,0.6689346634958662] |\n",
      "|1    |1.0       |[0.31788391111256753,0.6821160888874325]|\n",
      "|0    |0.0       |[0.8226886697897335,0.1773113302102664] |\n",
      "+-----+----------+----------------------------------------+\n",
      "only showing top 10 rows\n",
      "\n"
     ]
    }
   ],
   "source": [
    "test_results.select(\"label\", \"prediction\", \"probability\").show(10, truncate=False)"
   ]
  },
  {
   "cell_type": "markdown",
   "metadata": {},
   "source": [
    "### grp"
   ]
  }
 ],
 "metadata": {
  "kernelspec": {
   "display_name": "Python 3",
   "language": "python",
   "name": "python3"
  },
  "language_info": {
   "codemirror_mode": {
    "name": "ipython",
    "version": 3
   },
   "file_extension": ".py",
   "mimetype": "text/x-python",
   "name": "python",
   "nbconvert_exporter": "python",
   "pygments_lexer": "ipython3",
   "version": "3.6.8"
  }
 },
 "nbformat": 4,
 "nbformat_minor": 2
}
