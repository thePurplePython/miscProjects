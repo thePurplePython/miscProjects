{
 "cells": [
  {
   "cell_type": "markdown",
   "metadata": {},
   "source": [
    "### grp"
   ]
  },
  {
   "cell_type": "markdown",
   "metadata": {},
   "source": [
    "# Course: _Software Engineering for Data Scientists in Python_:\n",
    "1.  software engineering + data science\n",
    "2.  python modules\n",
    "3.  classes\n",
    "4.  maintainability"
   ]
  },
  {
   "cell_type": "markdown",
   "metadata": {},
   "source": [
    "## _1. Software Engineering & Data Science_:\n",
    "-  PyPi => python package index containing published packages\n",
    "-  PEP8 => de facto style for python code best practices (ex: **pip install pycodestyle** checks a .py file for PEP8 compliance)\n",
    "-  ways to write modular code:\n",
    "    -  packages\n",
    "    -  classes\n",
    "    -  methods"
   ]
  },
  {
   "cell_type": "markdown",
   "metadata": {},
   "source": [
    "#### using numpy package class and method"
   ]
  },
  {
   "cell_type": "code",
   "execution_count": 1,
   "metadata": {},
   "outputs": [
    {
     "name": "stdout",
     "output_type": "stream",
     "text": [
      "[0 3 5 6 7 8 9]\n"
     ]
    }
   ],
   "source": [
    "# import the numpy package\n",
    "import numpy as np\n",
    "\n",
    "# create an array class object\n",
    "arr = np.array([8, 6, 7, 5, 3, 0, 9])\n",
    "\n",
    "# use the sort method\n",
    "arr.sort()\n",
    "\n",
    "# print the sorted array\n",
    "print(arr)"
   ]
  },
  {
   "cell_type": "markdown",
   "metadata": {},
   "source": [
    "#### documentation help"
   ]
  },
  {
   "cell_type": "code",
   "execution_count": 2,
   "metadata": {},
   "outputs": [
    {
     "name": "stdout",
     "output_type": "stream",
     "text": [
      "Help on function most_common in module collections:\n",
      "\n",
      "most_common(self, n=None)\n",
      "    List the n most common elements and their counts from the most\n",
      "    common to the least.  If n is None, then list all element counts.\n",
      "    \n",
      "    >>> Counter('abcdeabcdabcaba').most_common(3)\n",
      "    [('a', 5), ('b', 4), ('c', 3)]\n",
      "\n"
     ]
    }
   ],
   "source": [
    "# load the Counter function into our environment\n",
    "from collections import Counter\n",
    "\n",
    "# View the documentation for Counter.most_common\n",
    "help(Counter.most_common)"
   ]
  },
  {
   "cell_type": "code",
   "execution_count": 3,
   "metadata": {},
   "outputs": [
    {
     "name": "stdout",
     "output_type": "stream",
     "text": [
      "[('a', 3), ('b', 1), ('c', 1), ('x', 1), ('y', 1)]\n"
     ]
    }
   ],
   "source": [
    "words = [\"a\", \"b\", \"c\", \"a\", \"a\", \"x\", \"y\", \"z\"]\n",
    "\n",
    "# Use Counter to find the top 5 most common words\n",
    "top_5_words = Counter(words).most_common(5)\n",
    "\n",
    "# Display the top 5 most common words\n",
    "print(top_5_words)"
   ]
  },
  {
   "cell_type": "markdown",
   "metadata": {},
   "source": [
    "#### PEP8 compliance"
   ]
  },
  {
   "cell_type": "code",
   "execution_count": 4,
   "metadata": {},
   "outputs": [
    {
     "name": "stdout",
     "output_type": "stream",
     "text": [
      "nay_pep8.py:1:1: E265 block comment should start with '# '\n",
      "nay_pep8.py:2:6: E225 missing whitespace around operator\n",
      "nay_pep8.py:4:2: E131 continuation line unaligned for hanging indent\n",
      "nay_pep8.py:5:6: E131 continuation line unaligned for hanging indent\n",
      "nay_pep8.py:6:1: E122 continuation line missing indentation or outdented\n",
      "nay_pep8.py:7:1: E265 block comment should start with '# '\n",
      "nay_pep8.py:8:1: E402 module level import not at top of file\n",
      "nay_pep8.py:9:1: E265 block comment should start with '# '\n",
      "nay_pep8.py:10:1: E302 expected 2 blank lines, found 0\n",
      "nay_pep8.py:10:18: E231 missing whitespace after ','\n",
      "nay_pep8.py:11:2: E111 indentation is not a multiple of four\n",
      "nay_pep8.py:12:2: E111 indentation is not a multiple of four\n",
      "nay_pep8.py:14:1: E265 block comment should start with '# '\n",
      "nay_pep8.py:15:1: E305 expected 2 blank lines after class or function definition, found 1\n",
      "nay_pep8.py:16:11: E111 indentation is not a multiple of four\n",
      "nay_pep8.py:16:17: E225 missing whitespace around operator\n",
      "nay_pep8.py:16:32: E222 multiple spaces after operator\n",
      "nay_pep8.py:16:32: E251 unexpected spaces around keyword / parameter equals\n",
      "nay_pep8.py:16:38: E231 missing whitespace after ','\n",
      "nay_pep8.py:16:44: E221 multiple spaces before operator\n",
      "nay_pep8.py:16:44: E251 unexpected spaces around keyword / parameter equals\n",
      "nay_pep8.py:16:47: E251 unexpected spaces around keyword / parameter equals\n",
      "nay_pep8.py:17:1: W391 blank line at end of file\n",
      "nay_pep8.py:17:11: E111 indentation is not a multiple of four\n",
      "nay_pep8.py:17:17: E201 whitespace after '('\n",
      "nay_pep8.py:17:25: E202 whitespace before ')'\n",
      "yay_pep8.py:20:1: W391 blank line at end of file\n",
      "{'E265': \"block comment should start with '# '\", 'E131': 'continuation line unaligned for hanging indent', 'E122': 'continuation line missing indentation or outdented', 'E225': 'missing whitespace around operator', 'E402': 'module level import not at top of file', 'E302': 'expected 2 blank lines, found 0', 'E231': \"missing whitespace after ','\", 'E111': 'indentation is not a multiple of four', 'E305': 'expected 2 blank lines after class or function definition, found 1', 'E251': 'unexpected spaces around keyword / parameter equals', 'E222': 'multiple spaces after operator', 'E221': 'multiple spaces before operator', 'W391': 'blank line at end of file', 'E201': \"whitespace after '('\", 'E202': \"whitespace before ')'\"}\n"
     ]
    }
   ],
   "source": [
    "# Import needed package\n",
    "import pycodestyle\n",
    "\n",
    "# Create a StyleGuide instance\n",
    "style_checker = pycodestyle.StyleGuide()\n",
    "\n",
    "# Run PEP 8 check on multiple files\n",
    "result = style_checker.check_files(['nay_pep8.py', 'yay_pep8.py'])\n",
    "\n",
    "# Print result of PEP 8 style check\n",
    "print(result.messages)"
   ]
  },
  {
   "cell_type": "markdown",
   "metadata": {},
   "source": [
    "## _2. Writing a Python Module_:\n",
    "-  package modules:\n",
    "    -  https://www.python.org/dev/peps/pep-0008/#package-and-module-name\n",
    "    -  **______init__.py** => lets python know directory created is a package (allows package to be imported)\n",
    "-  package portability:\n",
    "    -  **setup.py** => contains metadata like package name, version, description, author, and required package versions / sub-packages so ***one can pip install package / publish it to PyPi***\n",
    "    -  **requirements.txt** => list of python package version numbers and dependencies"
   ]
  },
  {
   "cell_type": "markdown",
   "metadata": {},
   "source": [
    "#### package functionality"
   ]
  },
  {
   "cell_type": "code",
   "execution_count": 5,
   "metadata": {},
   "outputs": [
    {
     "name": "stdout",
     "output_type": "stream",
     "text": [
      "Software Engineering for Data Scientists in Python.ipynb\r\n",
      "nay_pep8.py\r\n",
      "requirements.txt\r\n",
      "setup.py\r\n",
      "\u001b[34mtests\u001b[m\u001b[m\r\n",
      "\u001b[34mtext_analyzer\u001b[m\u001b[m\r\n",
      "yay_pep8.py\r\n"
     ]
    }
   ],
   "source": [
    "! ls ."
   ]
  },
  {
   "cell_type": "code",
   "execution_count": 6,
   "metadata": {},
   "outputs": [
    {
     "name": "stdout",
     "output_type": "stream",
     "text": [
      "__init__.py      document.py      social_media.py\r\n",
      "\u001b[34m__pycache__\u001b[m\u001b[m      filter_utils.py  token_utils.py\r\n",
      "counter_utils.py parser.py        tweets.py\r\n"
     ]
    }
   ],
   "source": [
    "! ls text_analyzer/"
   ]
  },
  {
   "cell_type": "code",
   "execution_count": 7,
   "metadata": {},
   "outputs": [
    {
     "name": "stdout",
     "output_type": "stream",
     "text": [
      "# Import needed functionality\r\n",
      "from collections import Counter\r\n",
      "\r\n",
      "def plot_counter(counter, n_most_common=5):\r\n",
      "  # Subset the n_most_common items from the input counter\r\n",
      "  top_items = counter.most_common(n_most_common)\r\n",
      "  # Plot `top_items`\r\n",
      "  plot_counter_most_common(top_items)\r\n",
      "\r\n",
      "# Import needed functionality\r\n",
      "import matplotlib.pyplot as plt\r\n",
      "\r\n",
      "def plot_counter_most_common(top_items):\r\n",
      "    top_items_dict = dict(top_items)\r\n",
      "    plt.figure()\r\n",
      "    plt.bar(range(len(top_items_dict)), list(top_items_dict.values()), align='center')\r\n",
      "    plt.xticks(range(len(top_items_dict)), list(top_items_dict.keys()), rotation='vertical')\r\n",
      "    plt.tight_layout()\r\n",
      "    plt.show()\r\n",
      "\r\n",
      "# Import needed functionality\r\n",
      "from collections import Counter\r\n",
      "\r\n",
      "def sum_counters(counters):\r\n",
      "  # Sum the inputted counters\r\n",
      "  return sum(counters, Counter())"
     ]
    }
   ],
   "source": [
    "! cat text_analyzer/counter_utils.py"
   ]
  },
  {
   "cell_type": "code",
   "execution_count": 8,
   "metadata": {},
   "outputs": [
    {
     "name": "stdout",
     "output_type": "stream",
     "text": [
      "from .counter_utils import plot_counter, sum_counters, plot_counter_most_common\r\n",
      "from .token_utils import tokenize\r\n",
      "from .filter_utils import filter_word_counts\r\n",
      "from .document import Document\r\n",
      "from .parser import Parser\r\n",
      "from .social_media import SocialMedia\r\n",
      "from .tweets import Tweets"
     ]
    }
   ],
   "source": [
    "! cat text_analyzer/__init__.py"
   ]
  },
  {
   "cell_type": "code",
   "execution_count": 9,
   "metadata": {},
   "outputs": [],
   "source": [
    "from text_analyzer import plot_counter, sum_counters, plot_counter_most_common"
   ]
  },
  {
   "cell_type": "code",
   "execution_count": 10,
   "metadata": {},
   "outputs": [],
   "source": [
    "word_counts = [Counter({'AutoML': 3,\n",
    "          'DataCamp': 1,\n",
    "          'H': 2,\n",
    "          'In': 1,\n",
    "          'Introduction': 1,\n",
    "          'O': 2,\n",
    "          'a': 1,\n",
    "          'about': 1,\n",
    "          'and': 1,\n",
    "          'auto': 1,\n",
    "          'glimpse': 1,\n",
    "          'have': 1,\n",
    "          'its': 1,\n",
    "          'learn': 1,\n",
    "          'of': 1,\n",
    "          'this': 1,\n",
    "          'to': 1,\n",
    "          'tutorial': 1,\n",
    "          'will': 1,\n",
    "          'you': 1}),\n",
    " Counter({'DataCamp': 4,\n",
    "          'Hacking': 7,\n",
    "          'Learn': 1,\n",
    "          'Significance': 1,\n",
    "          'Stocks': 1,\n",
    "          'Testing': 1,\n",
    "          'and': 1,\n",
    "          'co': 1,\n",
    "          'data': 1,\n",
    "          'how': 1,\n",
    "          'manipulate': 1,\n",
    "          'p': 1,\n",
    "          'pandas': 11,\n",
    "          'series': 1,\n",
    "          'time': 1,\n",
    "          'to': 1,\n",
    "          'with': 1}),\n",
    " Counter({'#DataCamp': 1,\n",
    "          '#DataScience': 1,\n",
    "          '#Python': 1,\n",
    "          '#sklearn': 6,\n",
    "          '@cbismuth': 1,\n",
    "          'Linear': 1,\n",
    "          'RT': 1,\n",
    "          'detection': 1,\n",
    "          'example': 1,\n",
    "          'features': 1,\n",
    "          'most': 1,\n",
    "          'regression': 1,\n",
    "          'significant': 1,\n",
    "          'with': 1})]"
   ]
  },
  {
   "cell_type": "code",
   "execution_count": 11,
   "metadata": {},
   "outputs": [
    {
     "data": {
      "image/png": "[encoded data removed]",
      "text/plain": [
       "<Figure size 432x288 with 1 Axes>"
      ]
     },
     "metadata": {
      "needs_background": "light"
     },
     "output_type": "display_data"
    }
   ],
   "source": [
    "# Import local package\n",
    "import text_analyzer\n",
    "\n",
    "# Sum word_counts using sum_counters from text_analyzer\n",
    "word_count_totals = text_analyzer.sum_counters(word_counts)\n",
    "\n",
    "# Plot word_count_totals using plot_counter from text_analyzer\n",
    "text_analyzer.plot_counter(word_count_totals)"
   ]
  },
  {
   "cell_type": "markdown",
   "metadata": {},
   "source": [
    "#### sample requirements.txt"
   ]
  },
  {
   "cell_type": "code",
   "execution_count": 12,
   "metadata": {},
   "outputs": [
    {
     "name": "stdout",
     "output_type": "stream",
     "text": [
      "matplotlib>=3.0.0\r\n",
      "numpy==1.15.4\r\n",
      "pandas<=0.22.0\r\n",
      "pycodestyle"
     ]
    }
   ],
   "source": [
    "# pip install -r requirements.txt\n",
    "! cat requirements.txt"
   ]
  },
  {
   "cell_type": "markdown",
   "metadata": {},
   "source": [
    "#### create setup.py"
   ]
  },
  {
   "cell_type": "code",
   "execution_count": 13,
   "metadata": {},
   "outputs": [
    {
     "name": "stdout",
     "output_type": "stream",
     "text": [
      "# Import needed function from setuptools\r\n",
      "from setuptools import setup\r\n",
      "\r\n",
      "# Create proper setup to be used by pip\r\n",
      "setup(name='text_analyzer',\r\n",
      "      version='0.0.1',\r\n",
      "      description='Perform and visualize a text anaylsis.',\r\n",
      "      author='username',\r\n",
      "      packages=['text_analyzer'],\r\n",
      "      install_requires=['matplotlib>=3.0.0'])"
     ]
    }
   ],
   "source": [
    "! cat setup.py"
   ]
  },
  {
   "cell_type": "markdown",
   "metadata": {},
   "source": [
    "#### package dir"
   ]
  },
  {
   "cell_type": "code",
   "execution_count": 14,
   "metadata": {},
   "outputs": [
    {
     "name": "stdout",
     "output_type": "stream",
     "text": [
      "Software Engineering for Data Scientists in Python.ipynb\r\n",
      "nay_pep8.py\r\n",
      "requirements.txt\r\n",
      "setup.py\r\n",
      "\u001b[34mtests\u001b[m\u001b[m\r\n",
      "\u001b[34mtext_analyzer\u001b[m\u001b[m\r\n",
      "yay_pep8.py\r\n"
     ]
    }
   ],
   "source": [
    "! ls ."
   ]
  },
  {
   "cell_type": "markdown",
   "metadata": {},
   "source": [
    "## _3. Utilizing Classes_:\n",
    "-  **______init__** => builds instance of class\n",
    "-  ***self*** => represents instance of the class with access to attributes and methods of the class\n",
    "-  ***method*** => functions associated with an object\n",
    "-  ***attribute*** => variables (value) stored within an object\n",
    "-  ***non-public methods*** => develop with leading _ (___intended for method to only to be used inside the package___) => _tokenize()"
   ]
  },
  {
   "cell_type": "markdown",
   "metadata": {},
   "source": [
    "#### create class"
   ]
  },
  {
   "cell_type": "code",
   "execution_count": 15,
   "metadata": {},
   "outputs": [
    {
     "name": "stdout",
     "output_type": "stream",
     "text": [
      "# Define Document class\r\n",
      "class Document:\r\n",
      "    \"\"\"A class for text analysis\r\n",
      "    \r\n",
      "    :param text: string of text to be analyzed\r\n",
      "    :ivar text: string of text to be analyzed; set by `text` parameter\r\n",
      "    \"\"\"\r\n",
      "    # Method to create a new instance of MyClass\r\n",
      "    def __init__(self, text):\r\n",
      "        # Store text parameter to the text attribute\r\n",
      "        self.text = text"
     ]
    }
   ],
   "source": [
    "! cat text_analyzer/document.py"
   ]
  },
  {
   "cell_type": "code",
   "execution_count": 16,
   "metadata": {},
   "outputs": [
    {
     "name": "stdout",
     "output_type": "stream",
     "text": [
      "Basic linear regression example. #DataCamp #DataScience #Python #sklearn\n"
     ]
    }
   ],
   "source": [
    "datacamp_tweet = 'Basic linear regression example. #DataCamp #DataScience #Python #sklearn'\n",
    "\n",
    "# Import custom text_analyzer package\n",
    "import text_analyzer\n",
    "\n",
    "# Create an instance of Document with datacamp_tweet\n",
    "my_document = text_analyzer.Document(text=datacamp_tweet)\n",
    "\n",
    "# Print the text attribute of the Document instance\n",
    "print(my_document.text)"
   ]
  },
  {
   "cell_type": "markdown",
   "metadata": {},
   "source": [
    "#### non-public method"
   ]
  },
  {
   "cell_type": "code",
   "execution_count": 17,
   "metadata": {},
   "outputs": [
    {
     "name": "stdout",
     "output_type": "stream",
     "text": [
      "# Import needed functionality\r\n",
      "from .token_utils import tokenize\r\n",
      "from collections import Counter\r\n",
      "\r\n",
      "class Parser:\r\n",
      "  def __init__(self, text):\r\n",
      "    self.text = text\r\n",
      "    # pre tokenize the document with non-public tokenize method\r\n",
      "    self.tokens = self._tokenize()\r\n",
      "    # pre tokenize the document with non-public count_words\r\n",
      "    self.word_counts = self._count_words()\r\n",
      "\r\n",
      "  def _tokenize(self):\r\n",
      "    return tokenize(self.text)\r\n",
      "\r\n",
      "  # non-public method to tally document's word counts with Counter\r\n",
      "  def _count_words(self):\r\n",
      "    return Counter(self.tokens)"
     ]
    }
   ],
   "source": [
    "! cat text_analyzer/parser.py"
   ]
  },
  {
   "cell_type": "code",
   "execution_count": 18,
   "metadata": {},
   "outputs": [
    {
     "name": "stdout",
     "output_type": "stream",
     "text": [
      "['[DataCamp]', 'Introduction', 'to', 'H', 'O']\n",
      "[('#DataScience', 4), ('#Python', 4), ('[DataCamp]', 3), ('to', 3), ('with', 3)]\n"
     ]
    }
   ],
   "source": [
    "datacamp_tweets = \"\"\"\n",
    "[DataCamp] Introduction to H2O AutoML --> In this tutorial, you will learn about H2O and have a glimpse of its auto…\n",
    "\\n[DataCamp] Stocks, Significance Testing & p-Hacking --> Learn how to manipulate time series data with pandas and co…\n",
    "\\nRT @cbismuth: Linear regression example with most significant features detection. #DataCamp #DataScience #Python #sklearn …\n",
    "\\nLinear regression example with most significant features detection. #DataCamp #DataScience #Python #sklearn\\nBasic linear regression example. #DataCamp #DataScience #Python #sklearn\n",
    "\\nRT @David_Makinde_: I just completed Introduction to Python for Data Science \n",
    "\\n#Datacamp\\n#DataScience \\n#Python\\n[DataCamp]\n",
    "\"\"\"\n",
    "\n",
    "# create a new document instance from datacamp_tweets\n",
    "datacamp_doc = text_analyzer.Parser(datacamp_tweets)\n",
    "\n",
    "# print the first 5 tokens from datacamp_doc\n",
    "print(datacamp_doc.tokens[:5])\n",
    "\n",
    "# print the top 5 most used words in datacamp_doc\n",
    "print(datacamp_doc.word_counts.most_common(5))"
   ]
  },
  {
   "cell_type": "markdown",
   "metadata": {},
   "source": [
    "#### inheritance"
   ]
  },
  {
   "cell_type": "code",
   "execution_count": 19,
   "metadata": {},
   "outputs": [
    {
     "name": "stdout",
     "output_type": "stream",
     "text": [
      "# Define a SocialMedia class that is a child of the `Parser class`\r\n",
      "\r\n",
      "# Import needed functionality\r\n",
      "from .filter_utils import filter_word_counts\r\n",
      "from .parser import Parser\r\n",
      "\r\n",
      "class SocialMedia(Parser):\r\n",
      "    def __init__(self, text):\r\n",
      "        Parser.__init__(self, text)\r\n",
      "        self.hashtag_counts = self._count_hashtags()\r\n",
      "        self.mention_counts = self._count_mentions()\r\n",
      "        \r\n",
      "    def _count_hashtags(self):\r\n",
      "        # Filter attribute so only words starting with '#' remain\r\n",
      "        return filter_word_counts(self.word_counts, first_char='#')\r\n",
      "    \r\n",
      "    def _count_mentions(self):\r\n",
      "        # Filter attribute so only words starting with '@' remain\r\n",
      "        return filter_word_counts(self.word_counts, first_char='@')"
     ]
    }
   ],
   "source": [
    "! cat text_analyzer/social_media.py"
   ]
  },
  {
   "cell_type": "markdown",
   "metadata": {},
   "source": [
    "#### use child class"
   ]
  },
  {
   "cell_type": "code",
   "execution_count": 20,
   "metadata": {},
   "outputs": [
    {
     "name": "stdout",
     "output_type": "stream",
     "text": [
      "[('@ascentt', 1), ('@DataCamp', 1), ('@AWS', 1)]\n"
     ]
    },
    {
     "data": {
      "image/png": "[encoded data removed]",
      "text/plain": [
       "<Figure size 432x288 with 1 Axes>"
      ]
     },
     "metadata": {
      "needs_background": "light"
     },
     "output_type": "display_data"
    }
   ],
   "source": [
    "datacamp_tweets = \"\"\"\n",
    "#DataCamp #Python #sklearn\\nMy pretty first classifier! \n",
    "#DataCamp #Python #sklearn\\nRT @ascentt: The different \n",
    "#DataScience roles on the job market. \n",
    "\\n\\n\\n\\n#SoftwareEngineer #DataEngineer #DataScientist #…\n",
    "\\nThe different #DataScience roles on the job market.\n",
    "\\n\\n\\n\\n#SoftwareTesting #DataEngineer @DataCamp @AWS\n",
    "\"\"\"\n",
    "\n",
    "# Import custom text_analyzer package\n",
    "import text_analyzer\n",
    "\n",
    "# Create a SocialMedia instance with datacamp_tweets\n",
    "dc_tweets = text_analyzer.SocialMedia(text=datacamp_tweets)\n",
    "\n",
    "# Print the top five most most mentioned users\n",
    "print(dc_tweets.mention_counts.most_common(5))\n",
    "\n",
    "# Plot the most used hashtags\n",
    "text_analyzer.plot_counter(dc_tweets.hashtag_counts)"
   ]
  },
  {
   "cell_type": "markdown",
   "metadata": {},
   "source": [
    "#### class methods"
   ]
  },
  {
   "cell_type": "code",
   "execution_count": 21,
   "metadata": {},
   "outputs": [],
   "source": [
    "# Import needed package\n",
    "import text_analyzer\n",
    "\n",
    "# Create instance of document\n",
    "my_doc = text_analyzer.Parser(datacamp_tweets)"
   ]
  },
  {
   "cell_type": "code",
   "execution_count": 22,
   "metadata": {},
   "outputs": [
    {
     "data": {
      "text/plain": [
       "['__class__',\n",
       " '__delattr__',\n",
       " '__dict__',\n",
       " '__dir__',\n",
       " '__doc__',\n",
       " '__eq__',\n",
       " '__format__',\n",
       " '__ge__',\n",
       " '__getattribute__',\n",
       " '__gt__',\n",
       " '__hash__',\n",
       " '__init__',\n",
       " '__init_subclass__',\n",
       " '__le__',\n",
       " '__lt__',\n",
       " '__module__',\n",
       " '__ne__',\n",
       " '__new__',\n",
       " '__reduce__',\n",
       " '__reduce_ex__',\n",
       " '__repr__',\n",
       " '__setattr__',\n",
       " '__sizeof__',\n",
       " '__str__',\n",
       " '__subclasshook__',\n",
       " '__weakref__',\n",
       " '_count_words',\n",
       " '_tokenize',\n",
       " 'text',\n",
       " 'tokens',\n",
       " 'word_counts']"
      ]
     },
     "execution_count": 22,
     "metadata": {},
     "output_type": "execute_result"
    }
   ],
   "source": [
    "dir(my_doc)"
   ]
  },
  {
   "cell_type": "code",
   "execution_count": 23,
   "metadata": {
    "scrolled": false
   },
   "outputs": [
    {
     "name": "stdout",
     "output_type": "stream",
     "text": [
      "Help on list object:\n",
      "\n",
      "class list(object)\n",
      " |  list() -> new empty list\n",
      " |  list(iterable) -> new list initialized from iterable's items\n",
      " |  \n",
      " |  Methods defined here:\n",
      " |  \n",
      " |  __add__(self, value, /)\n",
      " |      Return self+value.\n",
      " |  \n",
      " |  __contains__(self, key, /)\n",
      " |      Return key in self.\n",
      " |  \n",
      " |  __delitem__(self, key, /)\n",
      " |      Delete self[key].\n",
      " |  \n",
      " |  __eq__(self, value, /)\n",
      " |      Return self==value.\n",
      " |  \n",
      " |  __ge__(self, value, /)\n",
      " |      Return self>=value.\n",
      " |  \n",
      " |  __getattribute__(self, name, /)\n",
      " |      Return getattr(self, name).\n",
      " |  \n",
      " |  __getitem__(...)\n",
      " |      x.__getitem__(y) <==> x[y]\n",
      " |  \n",
      " |  __gt__(self, value, /)\n",
      " |      Return self>value.\n",
      " |  \n",
      " |  __iadd__(self, value, /)\n",
      " |      Implement self+=value.\n",
      " |  \n",
      " |  __imul__(self, value, /)\n",
      " |      Implement self*=value.\n",
      " |  \n",
      " |  __init__(self, /, *args, **kwargs)\n",
      " |      Initialize self.  See help(type(self)) for accurate signature.\n",
      " |  \n",
      " |  __iter__(self, /)\n",
      " |      Implement iter(self).\n",
      " |  \n",
      " |  __le__(self, value, /)\n",
      " |      Return self<=value.\n",
      " |  \n",
      " |  __len__(self, /)\n",
      " |      Return len(self).\n",
      " |  \n",
      " |  __lt__(self, value, /)\n",
      " |      Return self<value.\n",
      " |  \n",
      " |  __mul__(self, value, /)\n",
      " |      Return self*value.\n",
      " |  \n",
      " |  __ne__(self, value, /)\n",
      " |      Return self!=value.\n",
      " |  \n",
      " |  __new__(*args, **kwargs) from builtins.type\n",
      " |      Create and return a new object.  See help(type) for accurate signature.\n",
      " |  \n",
      " |  __repr__(self, /)\n",
      " |      Return repr(self).\n",
      " |  \n",
      " |  __reversed__(...)\n",
      " |      L.__reversed__() -- return a reverse iterator over the list\n",
      " |  \n",
      " |  __rmul__(self, value, /)\n",
      " |      Return value*self.\n",
      " |  \n",
      " |  __setitem__(self, key, value, /)\n",
      " |      Set self[key] to value.\n",
      " |  \n",
      " |  __sizeof__(...)\n",
      " |      L.__sizeof__() -- size of L in memory, in bytes\n",
      " |  \n",
      " |  append(...)\n",
      " |      L.append(object) -> None -- append object to end\n",
      " |  \n",
      " |  clear(...)\n",
      " |      L.clear() -> None -- remove all items from L\n",
      " |  \n",
      " |  copy(...)\n",
      " |      L.copy() -> list -- a shallow copy of L\n",
      " |  \n",
      " |  count(...)\n",
      " |      L.count(value) -> integer -- return number of occurrences of value\n",
      " |  \n",
      " |  extend(...)\n",
      " |      L.extend(iterable) -> None -- extend list by appending elements from the iterable\n",
      " |  \n",
      " |  index(...)\n",
      " |      L.index(value, [start, [stop]]) -> integer -- return first index of value.\n",
      " |      Raises ValueError if the value is not present.\n",
      " |  \n",
      " |  insert(...)\n",
      " |      L.insert(index, object) -- insert object before index\n",
      " |  \n",
      " |  pop(...)\n",
      " |      L.pop([index]) -> item -- remove and return item at index (default last).\n",
      " |      Raises IndexError if list is empty or index is out of range.\n",
      " |  \n",
      " |  remove(...)\n",
      " |      L.remove(value) -> None -- remove first occurrence of value.\n",
      " |      Raises ValueError if the value is not present.\n",
      " |  \n",
      " |  reverse(...)\n",
      " |      L.reverse() -- reverse *IN PLACE*\n",
      " |  \n",
      " |  sort(...)\n",
      " |      L.sort(key=None, reverse=False) -> None -- stable sort *IN PLACE*\n",
      " |  \n",
      " |  ----------------------------------------------------------------------\n",
      " |  Data and other attributes defined here:\n",
      " |  \n",
      " |  __hash__ = None\n",
      "\n"
     ]
    },
    {
     "data": {
      "text/plain": [
       "['#DataCamp',\n",
       " '#Python',\n",
       " '#sklearn',\n",
       " 'My',\n",
       " 'pretty',\n",
       " 'first',\n",
       " 'classifier',\n",
       " '#DataCamp',\n",
       " '#Python',\n",
       " '#sklearn',\n",
       " 'RT',\n",
       " '@ascentt',\n",
       " 'The',\n",
       " 'different',\n",
       " '#DataScience',\n",
       " 'roles',\n",
       " 'on',\n",
       " 'the',\n",
       " 'job',\n",
       " 'market',\n",
       " '#SoftwareEngineer',\n",
       " '#DataEngineer',\n",
       " '#DataScientist',\n",
       " 'The',\n",
       " 'different',\n",
       " '#DataScience',\n",
       " 'roles',\n",
       " 'on',\n",
       " 'the',\n",
       " 'job',\n",
       " 'market',\n",
       " '#SoftwareTesting',\n",
       " '#DataEngineer',\n",
       " '@DataCamp',\n",
       " '@AWS']"
      ]
     },
     "execution_count": 23,
     "metadata": {},
     "output_type": "execute_result"
    }
   ],
   "source": [
    "# Import needed package\n",
    "import text_analyzer\n",
    "\n",
    "# Create instance of document\n",
    "my_doc = text_analyzer.Parser(datacamp_tweets)\n",
    "\n",
    "# Run help on my_doc's tokens method\n",
    "help(my_doc.tokens)\n",
    "\n",
    "# Plot the tokens of my_doc\n",
    "my_doc.tokens"
   ]
  },
  {
   "cell_type": "markdown",
   "metadata": {},
   "source": [
    "#### grandchild class"
   ]
  },
  {
   "cell_type": "code",
   "execution_count": 24,
   "metadata": {},
   "outputs": [
    {
     "name": "stdout",
     "output_type": "stream",
     "text": [
      "# Import needed functionality\r\n",
      "from .filter_utils import filter_lines\r\n",
      "from .parser import Parser\r\n",
      "from .social_media import SocialMedia\r\n",
      "\r\n",
      "# Define a Tweet class that inherits from SocialMedia\r\n",
      "class Tweets(SocialMedia):\r\n",
      "    def __init__(self, text):\r\n",
      "        # Call parent's __init__ with super()\r\n",
      "        super().__init__(text)\r\n",
      "        # Define retweets attribute with non-public method\r\n",
      "        self.retweets = self._process_retweets()\r\n",
      "\r\n",
      "    def _process_retweets(self):\r\n",
      "        # Filter tweet text to only include retweets\r\n",
      "        retweet_text = filter_lines(self.text, first_chars='RT')\r\n",
      "        # Return retweet_text as a SocialMedia object\r\n",
      "        return SocialMedia(retweet_text)"
     ]
    }
   ],
   "source": [
    "! cat text_analyzer/tweets.py"
   ]
  },
  {
   "cell_type": "markdown",
   "metadata": {},
   "source": [
    "#### use inherited methods"
   ]
  },
  {
   "cell_type": "code",
   "execution_count": 25,
   "metadata": {},
   "outputs": [
    {
     "data": {
      "image/png": "[encoded data removed]",
      "text/plain": [
       "<Figure size 432x288 with 1 Axes>"
      ]
     },
     "metadata": {
      "needs_background": "light"
     },
     "output_type": "display_data"
    },
    {
     "name": "stdout",
     "output_type": "stream",
     "text": [
      "RT @mona_khm: \n"
     ]
    }
   ],
   "source": [
    "datacamp_tweets = \"\"\"\n",
    "They emphasise the famous Venn diagram is of Data Science, \n",
    "n…\\nNew Course by @NicholasStrayer: Visualization Best Practices in R! \n",
    "This course will help you take your #data…\\nRT @mona_khm: \n",
    "I wrote a post for @DataCamp\n",
    "\"\"\"\n",
    "# Import needed package\n",
    "import text_analyzer\n",
    "\n",
    "# Create instance of Tweets\n",
    "my_tweets = text_analyzer.Tweets(datacamp_tweets)\n",
    "\n",
    "# Plot the most used hashtags in the tweets\n",
    "text_analyzer.plot_counter(my_tweets.hashtag_counts)\n",
    "\n",
    "print(my_tweets.retweets.text)"
   ]
  },
  {
   "cell_type": "code",
   "execution_count": 26,
   "metadata": {},
   "outputs": [
    {
     "data": {
      "text/plain": [
       "['__class__',\n",
       " '__delattr__',\n",
       " '__dict__',\n",
       " '__dir__',\n",
       " '__doc__',\n",
       " '__eq__',\n",
       " '__format__',\n",
       " '__ge__',\n",
       " '__getattribute__',\n",
       " '__gt__',\n",
       " '__hash__',\n",
       " '__init__',\n",
       " '__init_subclass__',\n",
       " '__le__',\n",
       " '__lt__',\n",
       " '__module__',\n",
       " '__ne__',\n",
       " '__new__',\n",
       " '__reduce__',\n",
       " '__reduce_ex__',\n",
       " '__repr__',\n",
       " '__setattr__',\n",
       " '__sizeof__',\n",
       " '__str__',\n",
       " '__subclasshook__',\n",
       " '__weakref__',\n",
       " '_count_hashtags',\n",
       " '_count_mentions',\n",
       " '_count_words',\n",
       " '_process_retweets',\n",
       " '_tokenize',\n",
       " 'hashtag_counts',\n",
       " 'mention_counts',\n",
       " 'retweets',\n",
       " 'text',\n",
       " 'tokens',\n",
       " 'word_counts']"
      ]
     },
     "execution_count": 26,
     "metadata": {},
     "output_type": "execute_result"
    }
   ],
   "source": [
    "dir(my_tweets)"
   ]
  },
  {
   "cell_type": "markdown",
   "metadata": {},
   "source": [
    "## _4. Maintainability_:\n",
    "-  Documentation:\n",
    "    -  comments\n",
    "    -  docstrings\n",
    "    -  separate folder at package level testing scripts (***doctest***, ***pytest***)\n",
    "-  Zen of Python => ***import this***"
   ]
  },
  {
   "cell_type": "markdown",
   "metadata": {},
   "source": [
    "#### comments"
   ]
  },
  {
   "cell_type": "code",
   "execution_count": 27,
   "metadata": {},
   "outputs": [
    {
     "name": "stdout",
     "output_type": "stream",
     "text": [
      "Our competitor pricing is $10.50 an inch. Our price is $125.00 a foot.\n",
      "['$10.50', '$125.00']\n"
     ]
    }
   ],
   "source": [
    "text = \"Our competitor pricing is $10.50 an inch. Our price is $125.00 a foot.\"\n",
    "\n",
    "import re\n",
    "\n",
    "def extract_0(text):\n",
    "    # match and extract dollar amounts from the text\n",
    "    return re.findall(r'\\$\\d+\\.\\d\\d', text)\n",
    "\n",
    "def extract_1(text):\n",
    "    # return all matches to regex pattern\n",
    "    return re.findall(r'\\$\\d+\\.\\d\\d', text)\n",
    "\n",
    "# Print the text\n",
    "print(text)\n",
    "\n",
    "# Print the results of the function with better commenting\n",
    "print(extract_0(text))"
   ]
  },
  {
   "cell_type": "markdown",
   "metadata": {},
   "source": [
    "#### view docstrings"
   ]
  },
  {
   "cell_type": "code",
   "execution_count": 28,
   "metadata": {},
   "outputs": [],
   "source": [
    "def mary(white_as='snow'):\n",
    "    \"\"\"How white was mary's little lamb?\n",
    "\n",
    "    >>> mary(white_as='salt')\n",
    "    'Mary had a little lamb whose fleece was white as salt'\n",
    "    \"\"\"\n",
    "    return \"Mary had a little lamb whose fleece was white as {}\".format(white_as)"
   ]
  },
  {
   "cell_type": "code",
   "execution_count": 29,
   "metadata": {},
   "outputs": [
    {
     "name": "stdout",
     "output_type": "stream",
     "text": [
      "Help on function mary in module __main__:\n",
      "\n",
      "mary(white_as='snow')\n",
      "    How white was mary's little lamb?\n",
      "    \n",
      "    >>> mary(white_as='salt')\n",
      "    'Mary had a little lamb whose fleece was white as salt'\n",
      "\n"
     ]
    }
   ],
   "source": [
    "help(mary)"
   ]
  },
  {
   "cell_type": "code",
   "execution_count": 30,
   "metadata": {},
   "outputs": [],
   "source": [
    "def rapunzel(hair_len=20):\n",
    "    \"\"\"Lets down hair from tower to be used as climbing rope\n",
    "\n",
    "    :param hair_len: length of hair (cannot be negative)\n",
    "    :return: strand of hair that is hair_len characters long\n",
    "\n",
    "    >>> rapunzel(hair_len=15)\n",
    "    '~~~~~~~~~~~~~~~'\n",
    "    \"\"\"\n",
    "    if hair_len < 0:\n",
    "        ValueError('hair_len cannot be negative!')\n",
    "\n",
    "    return \"~\" * hair_len"
   ]
  },
  {
   "cell_type": "code",
   "execution_count": 31,
   "metadata": {},
   "outputs": [
    {
     "name": "stdout",
     "output_type": "stream",
     "text": [
      "Help on function rapunzel in module __main__:\n",
      "\n",
      "rapunzel(hair_len=20)\n",
      "    Lets down hair from tower to be used as climbing rope\n",
      "    \n",
      "    :param hair_len: length of hair (cannot be negative)\n",
      "    :return: strand of hair that is hair_len characters long\n",
      "    \n",
      "    >>> rapunzel(hair_len=15)\n",
      "    '~~~~~~~~~~~~~~~'\n",
      "\n"
     ]
    }
   ],
   "source": [
    "help(rapunzel)"
   ]
  },
  {
   "cell_type": "markdown",
   "metadata": {},
   "source": [
    "#### writing a docstring"
   ]
  },
  {
   "cell_type": "code",
   "execution_count": 32,
   "metadata": {},
   "outputs": [
    {
     "name": "stdout",
     "output_type": "stream",
     "text": [
      "Help on function tokenize in module __main__:\n",
      "\n",
      "tokenize(text, regex='[a-zA-z]+')\n",
      "    Split text into tokens using a regular expression\n",
      "    \n",
      "    :param text: text to be tokenized\n",
      "    :param regex: regular expression used to match tokens using re.findall \n",
      "    :return: a list of resulting tokens\n",
      "    \n",
      "    >>> tokenize('the rain in spain')\n",
      "    ['the', 'rain', 'in', 'spain']\n",
      "\n"
     ]
    }
   ],
   "source": [
    "# Complete the function's docstring\n",
    "def tokenize(text, regex=r'[a-zA-z]+'):\n",
    "  \"\"\"Split text into tokens using a regular expression\n",
    "\n",
    "  :param text: text to be tokenized\n",
    "  :param regex: regular expression used to match tokens using re.findall \n",
    "  :return: a list of resulting tokens\n",
    "\n",
    "  >>> tokenize('the rain in spain')\n",
    "  ['the', 'rain', 'in', 'spain']\n",
    "  \"\"\"\n",
    "  return re.findall(regex, text, flags=re.IGNORECASE)\n",
    "\n",
    "# Print the docstring\n",
    "help(tokenize)"
   ]
  },
  {
   "cell_type": "markdown",
   "metadata": {},
   "source": [
    "#### good function name example"
   ]
  },
  {
   "cell_type": "code",
   "execution_count": 33,
   "metadata": {},
   "outputs": [
    {
     "name": "stdout",
     "output_type": "stream",
     "text": [
      "10.0\n"
     ]
    }
   ],
   "source": [
    "def hypotenuse_length(leg_a, leg_b):\n",
    "    \"\"\"Find the length of a right triangle's hypotenuse\n",
    "\n",
    "    :param leg_a: length of one leg of triangle\n",
    "    :param leg_b: length of other leg of triangle\n",
    "    :return: length of hypotenuse\n",
    "    \n",
    "    >>> hypotenuse_length(3, 4)\n",
    "    5\n",
    "    \"\"\"\n",
    "    import math\n",
    "    return math.sqrt(leg_a**2 + leg_b**2)\n",
    "\n",
    "  \n",
    "# Print the length of the hypotenuse with legs 6 & 8\n",
    "print(hypotenuse_length(6, 8))"
   ]
  },
  {
   "cell_type": "markdown",
   "metadata": {},
   "source": [
    "#### good variable name example"
   ]
  },
  {
   "cell_type": "code",
   "execution_count": 34,
   "metadata": {},
   "outputs": [
    {
     "name": "stdout",
     "output_type": "stream",
     "text": [
      "5.04\n"
     ]
    }
   ],
   "source": [
    "from statistics import mean\n",
    "\n",
    "# Sample measurements of pupil diameter in mm\n",
    "pupil_diameter = [3.3, 6.8, 7.0, 5.4, 2.7]\n",
    "\n",
    "# Average pupil diameter from sample\n",
    "mean_diameter = mean(pupil_diameter)\n",
    "\n",
    "print(mean_diameter)"
   ]
  },
  {
   "cell_type": "markdown",
   "metadata": {},
   "source": [
    "#### code refactoring (smaller functions)"
   ]
  },
  {
   "cell_type": "code",
   "execution_count": 35,
   "metadata": {},
   "outputs": [
    {
     "name": "stdout",
     "output_type": "stream",
     "text": [
      "259.80762113533166\n"
     ]
    }
   ],
   "source": [
    "import math \n",
    "\n",
    "def polygon_perimeter(n_sides, side_len):\n",
    "    return n_sides * side_len\n",
    "\n",
    "def polygon_apothem(n_sides, side_len):\n",
    "    denominator = 2 * math.tan(math.pi / n_sides)\n",
    "    return side_len / denominator\n",
    "\n",
    "def polygon_area(n_sides, side_len):\n",
    "    perimeter = polygon_perimeter(n_sides, side_len)\n",
    "    apothem = polygon_apothem(n_sides, side_len)\n",
    "\n",
    "    return perimeter * apothem / 2\n",
    "\n",
    "# Print the area of a hexagon with legs of size 10\n",
    "print(polygon_area(n_sides=6, side_len=10))"
   ]
  },
  {
   "cell_type": "markdown",
   "metadata": {},
   "source": [
    "#### doctest"
   ]
  },
  {
   "cell_type": "code",
   "execution_count": 36,
   "metadata": {},
   "outputs": [],
   "source": [
    "import doctest\n",
    "import text_analyzer\n",
    "from collections import Counter\n",
    "\n",
    "def sum_counters(counters):\n",
    "    \"\"\"Aggregate collections.Counter objects by summing counts\n",
    "\n",
    "    :param counters: list/tuple of counters to sum\n",
    "    :return: aggregated counters with counts summed\n",
    "\n",
    "    >>> d1 = text_analyzer.Parser('1 2 fizz 4 buzz fizz 7 8')\n",
    "    >>> d2 = text_analyzer.Parser('fizz buzz 11 fizz 13 14')\n",
    "    >>> sum_counters([d1.word_counts, d2.word_counts])\n",
    "    Counter({'fizz': 4, 'buzz': 2})\n",
    "    \"\"\"\n",
    "    return sum(counters, Counter())\n",
    "\n",
    "#doctest.testmod()"
   ]
  },
  {
   "cell_type": "markdown",
   "metadata": {},
   "source": [
    "#### pytest"
   ]
  },
  {
   "cell_type": "code",
   "execution_count": 37,
   "metadata": {},
   "outputs": [
    {
     "name": "stdout",
     "output_type": "stream",
     "text": [
      "from collections import Counter\r\n",
      "from text_analyzer import SocialMedia\r\n",
      "\r\n",
      "# Create an instance of SocialMedia for testing\r\n",
      "test_post = 'learning #python & #rstats is awesome! thanks @datacamp!'\r\n",
      "sm_post = SocialMedia(test_post)\r\n",
      "\r\n",
      "# Test hashtag counts are created properly\r\n",
      "def test_social_media_hashtags():\r\n",
      "    expected_hashtag_counts = Counter({'#python': 1, '#rstats': 1})\r\n",
      "    assert sm_post.hashtag_counts == expected_hashtag_counts"
     ]
    }
   ],
   "source": [
    "! cat tests/test_social_media.py"
   ]
  },
  {
   "cell_type": "markdown",
   "metadata": {},
   "source": [
    "#### sphinx\n",
    "-  http://www.sphinx-doc.org/en/master/"
   ]
  },
  {
   "cell_type": "markdown",
   "metadata": {},
   "source": [
    "#### final package dir structure"
   ]
  },
  {
   "cell_type": "code",
   "execution_count": 38,
   "metadata": {},
   "outputs": [
    {
     "name": "stdout",
     "output_type": "stream",
     "text": [
      "Software Engineering for Data Scientists in Python.ipynb\r\n",
      "nay_pep8.py\r\n",
      "requirements.txt\r\n",
      "setup.py\r\n",
      "\u001b[34mtests\u001b[m\u001b[m\r\n",
      "\u001b[34mtext_analyzer\u001b[m\u001b[m\r\n",
      "yay_pep8.py\r\n"
     ]
    }
   ],
   "source": [
    "! ls"
   ]
  },
  {
   "cell_type": "markdown",
   "metadata": {},
   "source": [
    "### grp"
   ]
  }
 ],
 "metadata": {
  "kernelspec": {
   "display_name": "Python 3",
   "language": "python",
   "name": "python3"
  },
  "language_info": {
   "codemirror_mode": {
    "name": "ipython",
    "version": 3
   },
   "file_extension": ".py",
   "mimetype": "text/x-python",
   "name": "python",
   "nbconvert_exporter": "python",
   "pygments_lexer": "ipython3",
   "version": "3.6.8"
  }
 },
 "nbformat": 4,
 "nbformat_minor": 2
}
