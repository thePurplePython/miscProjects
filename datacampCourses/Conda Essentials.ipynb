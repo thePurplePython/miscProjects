{
 "cells": [
  {
   "cell_type": "markdown",
   "metadata": {},
   "source": [
    "### grp"
   ]
  },
  {
   "cell_type": "markdown",
   "metadata": {},
   "source": [
    "# Course: _Conda Essentials_:\n",
    "1.  packages\n",
    "2.  channels\n",
    "3.  environments\n",
    "4.  case study"
   ]
  },
  {
   "cell_type": "markdown",
   "metadata": {},
   "source": [
    "## _1. Installing Packages_:\n",
    "-  **Execution**:\n",
    "    -  CLI tool (**conda**) + GUI tool (**Acanonda Navigator**) used to install, remove, and examine packages\n",
    "    -  _**conda package**_ => file containing all files needed to make program execute on system\n",
    "-  **Compatibility**:\n",
    "    -  compatible with many programming languages (_R, Scala, Julia, Python_)\n",
    "    -  compatible with many OS systems (_Windows, OSX, Linux_) => (**win-32, win-64, osx-64, linux-32, linux-64**)\n",
    "-  **Management**:\n",
    "    -  one of the powerful aspects of conda (both the tool and the package format) is _**dependency managament**_\n",
    "    -  when a conda package is installed any other package dependencies are installed automatically\n",
    "-  **Versioning**:\n",
    "    -  semantic versioning + format => https://semver.org + (**MAJOR.MINOR.PATCH**)\n",
    "    -  ability to **install/update/remove** specific package version"
   ]
  },
  {
   "cell_type": "markdown",
   "metadata": {},
   "source": [
    "#### conda help"
   ]
  },
  {
   "cell_type": "code",
   "execution_count": 1,
   "metadata": {},
   "outputs": [
    {
     "name": "stdout",
     "output_type": "stream",
     "text": [
      "usage: conda [-h] [-V] command ...\r\n",
      "\r\n",
      "conda is a tool for managing and deploying applications, environments and packages.\r\n",
      "\r\n",
      "Options:\r\n",
      "\r\n",
      "positional arguments:\r\n",
      "  command\r\n",
      "    clean        Remove unused packages and caches.\r\n",
      "    config       Modify configuration values in .condarc. This is modeled\r\n",
      "                 after the git config command. Writes to the user .condarc\r\n",
      "                 file (/Users/grp/.condarc) by default.\r\n",
      "    create       Create a new conda environment from a list of specified\r\n",
      "                 packages.\r\n",
      "    help         Displays a list of available conda commands and their help\r\n",
      "                 strings.\r\n",
      "    info         Display information about current conda install.\r\n",
      "    init         Initialize conda for shell interaction. [Experimental]\r\n",
      "    install      Installs a list of packages into a specified conda\r\n",
      "                 environment.\r\n",
      "    list         List linked packages in a conda environment.\r\n",
      "    package      Low-level conda package utility. (EXPERIMENTAL)\r\n",
      "    remove       Remove a list of packages from a specified conda environment.\r\n",
      "    uninstall    Alias for conda remove.\r\n",
      "    run          Run an executable in a conda environment. [Experimental]\r\n",
      "    search       Search for packages and display associated information. The\r\n",
      "                 input is a MatchSpec, a query language for conda packages.\r\n",
      "                 See examples below.\r\n",
      "    update       Updates conda packages to the latest compatible version.\r\n",
      "    upgrade      Alias for conda update.\r\n",
      "\r\n",
      "optional arguments:\r\n",
      "  -h, --help     Show this help message and exit.\r\n",
      "  -V, --version  Show the conda version number and exit.\r\n",
      "\r\n",
      "conda commands available from other packages:\r\n",
      "  build\r\n",
      "  convert\r\n",
      "  develop\r\n",
      "  env\r\n",
      "  index\r\n",
      "  inspect\r\n",
      "  metapackage\r\n",
      "  render\r\n",
      "  server\r\n",
      "  skeleton\r\n",
      "  verify\r\n"
     ]
    }
   ],
   "source": [
    "! conda --help"
   ]
  },
  {
   "cell_type": "markdown",
   "metadata": {},
   "source": [
    "#### conda version"
   ]
  },
  {
   "cell_type": "code",
   "execution_count": 2,
   "metadata": {},
   "outputs": [
    {
     "name": "stdout",
     "output_type": "stream",
     "text": [
      "conda 4.6.7\r\n"
     ]
    }
   ],
   "source": [
    "! conda --version"
   ]
  },
  {
   "cell_type": "markdown",
   "metadata": {},
   "source": [
    "#### conda install help"
   ]
  },
  {
   "cell_type": "code",
   "execution_count": 3,
   "metadata": {
    "scrolled": false
   },
   "outputs": [
    {
     "name": "stdout",
     "output_type": "stream",
     "text": [
      "usage: conda install [-h] [--revision REVISION] [-n ENVIRONMENT | -p PATH]\n",
      "                     [-c CHANNEL] [--use-local] [--override-channels]\n",
      "                     [--strict-channel-priority] [--no-channel-priority]\n",
      "                     [--no-deps | --only-deps] [--no-pin] [--copy] [-C] [-k]\n",
      "                     [--offline] [-d] [--json] [-q] [-v] [-y]\n",
      "                     [--download-only] [--show-channel-urls] [--file FILE]\n",
      "                     [--prune] [--force-reinstall]\n",
      "                     [--freeze-installed | --update-deps | -S | --update-all]\n",
      "                     [-m] [--clobber]\n",
      "                     [package_spec [package_spec ...]]\n",
      "\n",
      "Installs a list of packages into a specified conda environment.\n",
      "\n",
      "    This command accepts a list of package specifications (e.g, bitarray=0.8)\n",
      "    and installs a set of packages consistent with those specifications and\n",
      "    compatible with the underlying environment. If full compatibility cannot\n",
      "    be assured, an error is reported and the environment is not changed.\n",
      "\n",
      "    Conda attempts to install the newest versions of the requested packages. To\n",
      "    accomplish this, it may update some packages that are already installed, or\n",
      "    install additional packages. To prevent existing packages from updating,\n",
      "    use the --freeze-installed option. This may force conda to install older\n",
      "    versions of the requested packages, and it does not prevent additional\n",
      "    dependency packages from being installed.\n",
      "\n",
      "    If you wish to skip dependency checking altogether, use the '--no-deps'\n",
      "    option. This may result in an environment with incompatible packages, so\n",
      "    this option must be used with great caution.\n",
      "\n",
      "    conda can also be called with a list of explicit conda package filenames\n",
      "    (e.g. ./lxml-3.2.0-py27_0.tar.bz2). Using conda in this mode implies the\n",
      "    --no-deps option, and should likewise be used with great caution. Explicit\n",
      "    filenames and package specifications cannot be mixed in a single command.\n",
      "\n",
      "Options:\n",
      "\n",
      "positional arguments:\n",
      "  package_spec          Packages to install or update in the conda\n",
      "                        environment.\n",
      "\n",
      "optional arguments:\n",
      "  -h, --help            Show this help message and exit.\n",
      "  --revision REVISION   Revert to the specified REVISION.\n",
      "  --file FILE           Read package versions from the given file. Repeated\n",
      "                        file specifications can be passed (e.g. --file=file1\n",
      "                        --file=file2).\n",
      "\n",
      "Target Environment Specification:\n",
      "  -n ENVIRONMENT, --name ENVIRONMENT\n",
      "                        Name of environment.\n",
      "  -p PATH, --prefix PATH\n",
      "                        Full path to environment location (i.e. prefix).\n",
      "\n",
      "Channel Customization:\n",
      "  -c CHANNEL, --channel CHANNEL\n",
      "                        Additional channel to search for packages. These are\n",
      "                        URLs searched in the order they are given (including\n",
      "                        file:// for local directories). Then, the defaults or\n",
      "                        channels from .condarc are searched (unless\n",
      "                        --override-channels is given). You can use 'defaults'\n",
      "                        to get the default packages for conda. You can also\n",
      "                        use any name and the .condarc channel_alias value will\n",
      "                        be prepended. The default channel_alias is\n",
      "                        http://conda.anaconda.org/.\n",
      "  --use-local           Use locally built packages. Identical to '-c local'.\n",
      "  --override-channels   Do not search default or .condarc channels. Requires\n",
      "                        --channel.\n",
      "\n",
      "Solver Mode Modifiers:\n",
      "  --strict-channel-priority\n",
      "                        Packages in lower priority channels are not considered\n",
      "                        if a package with the same name appears in a higher\n",
      "                        priority channel.\n",
      "  --no-channel-priority\n",
      "                        Package version takes precedence over channel\n",
      "                        priority. Overrides the value given by `conda config\n",
      "                        --show channel_priority`.\n",
      "  --no-deps             Do not install, update, remove, or change\n",
      "                        dependencies. This WILL lead to broken environments\n",
      "                        and inconsistent behavior. Use at your own risk.\n",
      "  --only-deps           Only install dependencies.\n",
      "  --no-pin              Ignore pinned file.\n",
      "  --prune               Remove packages that have previously been brought into\n",
      "                        the environment to satisfy dependencies of user-\n",
      "                        requested packages, but are no longer needed.\n",
      "  --force-reinstall     Ensure that any user-requested package for the current\n",
      "                        operation is uninstalled and reinstalled, even if that\n",
      "                        package already exists in the environment.\n",
      "  --freeze-installed, --no-update-deps\n",
      "                        Do not update or change already-installed\n",
      "                        dependencies.\n",
      "  --update-deps         Update dependencies.\n",
      "  -S, --satisfied-skip-solve\n",
      "                        Exit early and do not run the solver if the requested\n",
      "                        specs are satisfied. Also skips aggressive updates as\n",
      "                        configured by 'aggressive_update_packages'. Similar to\n",
      "                        the default behavior of 'pip install'.\n",
      "  --update-all, --all   Update all installed packages in the environment.\n",
      "\n",
      "Package Linking and Install-time Options:\n",
      "  --copy                Install all packages using copies instead of hard- or\n",
      "                        soft-linking.\n",
      "  -m, --mkdir           Create the environment directory if necessary.\n",
      "  --clobber             Allow clobbering of overlapping file paths within\n",
      "                        packages, and suppress related warnings.\n",
      "\n",
      "Networking Options:\n",
      "  -C, --use-index-cache\n",
      "                        Use cache of channel index files, even if it has\n",
      "                        expired.\n",
      "  -k, --insecure        Allow conda to perform \"insecure\" SSL connections and\n",
      "                        transfers. Equivalent to setting 'ssl_verify' to\n",
      "                        'false'.\n",
      "  --offline             Offline mode. Don't connect to the Internet.\n",
      "\n",
      "Output, Prompt, and Flow Control Options:\n",
      "  -d, --dry-run         Only display what would have been done.\n",
      "  --json                Report all output as json. Suitable for using conda\n",
      "                        programmatically.\n",
      "  -q, --quiet           Do not display progress bar.\n",
      "  -v, --verbose         Can be used multiple times. Once for INFO, twice for\n",
      "                        DEBUG, three times for TRACE.\n",
      "  -y, --yes             Do not ask for confirmation.\n",
      "  --download-only       Solve an environment and ensure package caches are\n",
      "                        populated, but exit prior to unlinking and linking\n",
      "                        packages into the prefix.\n",
      "  --show-channel-urls   Show channel urls. Overrides the value given by `conda\n",
      "                        config --show show_channel_urls`.\n",
      "\n",
      "Examples:\n",
      "\n",
      "    conda install -n myenv scipy\n",
      "\n",
      "Note: you may need to restart the kernel to use updated packages.\n"
     ]
    }
   ],
   "source": [
    "conda install --help"
   ]
  },
  {
   "cell_type": "markdown",
   "metadata": {},
   "source": [
    "#### conda install help search example"
   ]
  },
  {
   "cell_type": "code",
   "execution_count": 4,
   "metadata": {},
   "outputs": [
    {
     "name": "stdout",
     "output_type": "stream",
     "text": [
      "                     [package_spec [package_spec ...]]\r\n",
      "  package_spec          Packages to install or update in the conda\r\n"
     ]
    }
   ],
   "source": [
    "! conda install --help | grep package_spec"
   ]
  },
  {
   "cell_type": "markdown",
   "metadata": {},
   "source": [
    "#### conda list help"
   ]
  },
  {
   "cell_type": "code",
   "execution_count": 5,
   "metadata": {},
   "outputs": [
    {
     "name": "stdout",
     "output_type": "stream",
     "text": [
      "usage: conda list [-h] [-n ENVIRONMENT | -p PATH] [--json] [-v] [-q]\r\n",
      "                  [--show-channel-urls] [-c] [-f] [--explicit] [--md5] [-e]\r\n",
      "                  [-r] [--no-pip]\r\n",
      "                  [regex]\r\n",
      "\r\n",
      "List linked packages in a conda environment.\r\n",
      "\r\n",
      "Options:\r\n",
      "\r\n",
      "positional arguments:\r\n",
      "  regex                 List only packages matching this regular expression.\r\n",
      "\r\n",
      "optional arguments:\r\n",
      "  -h, --help            Show this help message and exit.\r\n",
      "  --show-channel-urls   Show channel urls. Overrides the value given by `conda\r\n",
      "                        config --show show_channel_urls`.\r\n",
      "  -c, --canonical       Output canonical names of packages only. Implies --no-\r\n",
      "                        pip.\r\n",
      "  -f, --full-name       Only search for full names, i.e., ^<regex>$.\r\n",
      "  --explicit            List explicitly all installed conda packaged with URL\r\n",
      "                        (output may be used by conda create --file).\r\n",
      "  --md5                 Add MD5 hashsum when using --explicit\r\n",
      "  -e, --export          Output requirement string only (output may be used by\r\n",
      "                        conda create --file).\r\n",
      "  -r, --revisions       List the revision history and exit.\r\n",
      "  --no-pip              Do not include pip-only installed packages.\r\n",
      "\r\n",
      "Target Environment Specification:\r\n",
      "  -n ENVIRONMENT, --name ENVIRONMENT\r\n",
      "                        Name of environment.\r\n",
      "  -p PATH, --prefix PATH\r\n",
      "                        Full path to environment location (i.e. prefix).\r\n",
      "\r\n",
      "Output, Prompt, and Flow Control Options:\r\n",
      "  --json                Report all output as json. Suitable for using conda\r\n",
      "                        programmatically.\r\n",
      "  -v, --verbose         Use once for info, twice for debug, three times for\r\n",
      "                        trace.\r\n",
      "  -q, --quiet           Do not display progress bar.\r\n",
      "\r\n",
      "Examples:\r\n",
      "\r\n",
      "List all packages in the current environment:\r\n",
      "\r\n",
      "    conda list\r\n",
      "\r\n",
      "List all packages installed into the environment 'myenv':\r\n",
      "\r\n",
      "    conda list -n myenv\r\n",
      "\r\n",
      "Save packages for future use:\r\n",
      "\r\n",
      "    conda list --export > package-list.txt\r\n",
      "\r\n",
      "Reinstall packages from an export file:\r\n",
      "\r\n",
      "    conda create -n myenv --file package-list.txt\r\n"
     ]
    }
   ],
   "source": [
    "! conda list --help"
   ]
  },
  {
   "cell_type": "markdown",
   "metadata": {},
   "source": [
    "#### conda package version"
   ]
  },
  {
   "cell_type": "code",
   "execution_count": 6,
   "metadata": {},
   "outputs": [
    {
     "name": "stdout",
     "output_type": "stream",
     "text": [
      "scikit-learn              0.20.0           py36h4f467ca_1  \r\n"
     ]
    }
   ],
   "source": [
    "! conda list | grep scikit-learn"
   ]
  },
  {
   "cell_type": "markdown",
   "metadata": {},
   "source": [
    "#### conda install specific package version (MAJOR.MINOR.PATCH)"
   ]
  },
  {
   "cell_type": "code",
   "execution_count": 7,
   "metadata": {},
   "outputs": [],
   "source": [
    "# conda install foo-lib=12.3\n",
    "# conda install foo-lib=13\n",
    "# conda install foo-lib=14.3.2\n",
    "# conda install attrs=17.3"
   ]
  },
  {
   "cell_type": "markdown",
   "metadata": {},
   "source": [
    "#### conda install specific package version expressions (MAJOR.MINOR.PATCH)"
   ]
  },
  {
   "cell_type": "code",
   "execution_count": 8,
   "metadata": {},
   "outputs": [],
   "source": [
    "# conda install 'bar-lib>=1.3.4,<1.1'\n",
    "# conda install 'attrs>=16,<17.3'"
   ]
  },
  {
   "cell_type": "markdown",
   "metadata": {},
   "source": [
    "#### conda update package "
   ]
  },
  {
   "cell_type": "code",
   "execution_count": 9,
   "metadata": {},
   "outputs": [],
   "source": [
    "# conda update foo bar blob\n",
    "# conda update cytoolz"
   ]
  },
  {
   "cell_type": "markdown",
   "metadata": {},
   "source": [
    "#### conda remove package"
   ]
  },
  {
   "cell_type": "markdown",
   "metadata": {},
   "source": [
    "```conda remove cytoolz```"
   ]
  },
  {
   "cell_type": "markdown",
   "metadata": {},
   "source": [
    "#### conda search packages available"
   ]
  },
  {
   "cell_type": "code",
   "execution_count": 10,
   "metadata": {
    "scrolled": false
   },
   "outputs": [
    {
     "name": "stdout",
     "output_type": "stream",
     "text": [
      "Loading channels: done\n",
      "# Name                       Version           Build  Channel             \n",
      "tensorflow                     1.1.0     np112py27_0  pkgs/free           \n",
      "tensorflow                     1.1.0     np112py35_0  pkgs/free           \n",
      "tensorflow                     1.1.0     np112py36_0  pkgs/free           \n",
      "tensorflow                     1.9.0 eigen_py27hc3c435f_1  pkgs/main           \n",
      "tensorflow                     1.9.0 eigen_py35h40edd97_1  pkgs/main           \n",
      "tensorflow                     1.9.0 eigen_py36hf07811a_1  pkgs/main           \n",
      "tensorflow                     1.9.0 mkl_py27h45ac830_1  pkgs/main           \n",
      "tensorflow                     1.9.0 mkl_py35h34e052c_1  pkgs/main           \n",
      "tensorflow                     1.9.0 mkl_py36h4fc8490_1  pkgs/main           \n",
      "tensorflow                    1.10.0 eigen_py27hf93ee88_0  pkgs/main           \n",
      "tensorflow                    1.10.0 eigen_py35h5ac2770_0  pkgs/main           \n",
      "tensorflow                    1.10.0 eigen_py36h0906837_0  pkgs/main           \n",
      "tensorflow                    1.11.0 eigen_py27h6ba8707_0  pkgs/main           \n",
      "tensorflow                    1.11.0 eigen_py36hae858b4_0  pkgs/main           \n",
      "tensorflow                    1.11.0 mkl_py27h6c571c4_0  pkgs/main           \n",
      "tensorflow                    1.11.0 mkl_py36h44b7a51_0  pkgs/main           \n",
      "tensorflow                    1.12.0 eigen_py27hdc0099c_0  pkgs/main           \n",
      "tensorflow                    1.12.0 eigen_py36hce7705b_0  pkgs/main           \n",
      "tensorflow                    1.12.0 mkl_py27h5e07bc0_0  pkgs/main           \n",
      "tensorflow                    1.12.0 mkl_py36h2b2bbaf_0  pkgs/main           \n",
      "tensorflow                    1.13.1 eigen_py27h96e6990_0  pkgs/main           \n",
      "tensorflow                    1.13.1 eigen_py36h1469504_0  pkgs/main           \n",
      "tensorflow                    1.13.1 eigen_py37hbabb2b2_0  pkgs/main           \n",
      "tensorflow                    1.13.1 mkl_py27h5a22803_0  pkgs/main           \n",
      "tensorflow                    1.13.1 mkl_py36haf07a9b_0  pkgs/main           \n",
      "tensorflow                    1.13.1 mkl_py37h70c3834_0  pkgs/main           \n"
     ]
    }
   ],
   "source": [
    "! conda search tensorflow"
   ]
  },
  {
   "cell_type": "markdown",
   "metadata": {},
   "source": [
    "#### conda information"
   ]
  },
  {
   "cell_type": "markdown",
   "metadata": {},
   "source": [
    "```conda info```"
   ]
  },
  {
   "cell_type": "markdown",
   "metadata": {},
   "source": [
    "#### find dependencies for package versions"
   ]
  },
  {
   "cell_type": "code",
   "execution_count": 11,
   "metadata": {
    "scrolled": false
   },
   "outputs": [
    {
     "name": "stdout",
     "output_type": "stream",
     "text": [
      "Loading channels: done\n",
      "numpy 1.13.1 py36_0\n",
      "-------------------\n",
      "file name   : numpy-1.13.1-py36_0.tar.bz2\n",
      "name        : numpy\n",
      "version     : 1.13.1\n",
      "build       : py36_0\n",
      "build number: 0\n",
      "size        : 3.6 MB\n",
      "license     : BSD\n",
      "subdir      : osx-64\n",
      "url         : https://repo.anaconda.com/pkgs/free/osx-64/numpy-1.13.1-py36_0.tar.bz2\n",
      "md5         : ed93078cbf3103e27e92dec0468a2c74\n",
      "dependencies: \n",
      "  - blas * mkl\n",
      "  - mkl 2017.0.*\n",
      "  - python 3.6*\n",
      "\n",
      "\n",
      "numpy 1.13.1 py36_nomkl_0\n",
      "-------------------------\n",
      "file name   : numpy-1.13.1-py36_nomkl_0.tar.bz2\n",
      "name        : numpy\n",
      "version     : 1.13.1\n",
      "build       : py36_nomkl_0\n",
      "build number: 0\n",
      "size        : 3.6 MB\n",
      "license     : BSD\n",
      "subdir      : osx-64\n",
      "url         : https://repo.anaconda.com/pkgs/free/osx-64/numpy-1.13.1-py36_nomkl_0.tar.bz2\n",
      "md5         : a4a3bc4b98c10faa49b524b153b569fa\n",
      "dependencies: \n",
      "  - blas * openblas\n",
      "  - python 3.6*\n",
      "\n",
      "\n",
      "numpy 1.13.1 py36h93d791d_2\n",
      "---------------------------\n",
      "file name   : numpy-1.13.1-py36h93d791d_2.tar.bz2\n",
      "name        : numpy\n",
      "version     : 1.13.1\n",
      "build       : py36h93d791d_2\n",
      "build number: 2\n",
      "size        : 3.7 MB\n",
      "license     : BSD 3-Clause\n",
      "subdir      : osx-64\n",
      "url         : https://repo.anaconda.com/pkgs/main/osx-64/numpy-1.13.1-py36h93d791d_2.tar.bz2\n",
      "md5         : f4c399563e9bb9435ab05833b38d48b7\n",
      "timestamp   : 2017-09-22 15:55:57 UTC\n",
      "dependencies: \n",
      "  - libgfortran >=3.0.1,<4.0.0.a0\n",
      "  - python >=3.6,<3.7.0a0\n",
      "  - mkl >=2018.0.0,<2019.0a0\n",
      "  - blas * mkl\n",
      "\n",
      "\n"
     ]
    }
   ],
   "source": [
    "! conda search 'numpy=1.13.1=py36*' --info"
   ]
  },
  {
   "cell_type": "markdown",
   "metadata": {},
   "source": [
    "## _2. Utilizing Channels_:\n",
    "-  **Channels**:\n",
    "    -  _a **conda channel** is an identifier of a path (e.g., as in a web address) from which conda packages can be obtained_\n",
    "    -  public cloud **_main channel_** at https://repo.continuum.io/pkgs/main where hundreds of packages are available\n",
    "    -  _**default channel**_ may point to a different (internal) URL\n",
    "    -  **one may register an account with Anaconda Cloud thus creating their own personal conda channel**\n",
    "-  **Searching**:\n",
    "    -  ability to search published channels by people\n",
    "-  **Conda-Forge**:\n",
    "    -  this channel acts as the \"community curation\" of relatively well-vetted packages\n",
    "    -  https://github.com/conda-forge\n",
    "    -  approx. 30,000 linux-64 packages (approx. 50,000 total across osx-64, linux-32, linux-64, win-32, win-64)"
   ]
  },
  {
   "cell_type": "markdown",
   "metadata": {},
   "source": [
    "#### channel search (-c)"
   ]
  },
  {
   "cell_type": "code",
   "execution_count": 12,
   "metadata": {},
   "outputs": [
    {
     "name": "stdout",
     "output_type": "stream",
     "text": [
      "Loading channels: done\n",
      "# Name                       Version           Build  Channel             \n",
      "textadapter                    2.0.0          py27_0  davidmertz          \n",
      "textadapter                    2.0.0          py27_0  gbrener             \n",
      "textadapter                    2.0.0          py27_0  conda-forge         \n",
      "textadapter                    2.0.0  py27h355e19c_0  conda-forge         \n",
      "textadapter                    2.0.0 py27h418f4c1_1000  conda-forge         \n",
      "textadapter                    2.0.0          py35_0  davidmertz          \n",
      "textadapter                    2.0.0          py35_0  gbrener             \n",
      "textadapter                    2.0.0          py35_0  conda-forge         \n",
      "textadapter                    2.0.0          py36_0  davidmertz          \n"
     ]
    }
   ],
   "source": [
    "# conda search --channel <name> --override-channels --platform linux-64\n",
    "! conda search -c conda-forge -c sseefeld -c gbrener -c davidmertz --platform osx-64 textadapter"
   ]
  },
  {
   "cell_type": "markdown",
   "metadata": {},
   "source": [
    "#### anaconda client"
   ]
  },
  {
   "cell_type": "code",
   "execution_count": 13,
   "metadata": {},
   "outputs": [
    {
     "name": "stdout",
     "output_type": "stream",
     "text": [
      "Using Anaconda API: https://api.anaconda.org\n",
      "Packages:\n",
      "     Name                      |  Version | Package Types   | Platforms       | Builds    \n",
      "     ------------------------- |   ------ | --------------- | --------------- | ----------\n",
      "     DavidMertz/textadapter    |    2.0.0 | conda           | linux-64, osx-64 | py36_0, py35_0, py27_0\n",
      "     conda-forge/textadapter   |    2.0.0 | conda           | linux-64, win-32, osx-64, win-64 | py27h355e19c_0, py27h0ff66c2_1000, py27h418f4c1_1000, py35_0, py27_0\n",
      "     gbrener/textadapter       |    2.0.0 | conda           | linux-64, osx-64 | py35_0, py27_0\n",
      "                                          : python interface Amazon S3, and large data files\n",
      "     sseefeld/textadapter      |    2.0.0 | conda           | win-64          | py36_0, py34_0, py35_0, py27_0\n",
      "                                          : python interface Amazon S3, and large data files\n",
      "     stuarteberg/textadapter   |    2.0.0 | conda           | osx-64          | py36_0    \n",
      "Found 5 packages\n",
      "\n",
      "Run 'anaconda show <USER/PACKAGE>' to get installation details\n"
     ]
    }
   ],
   "source": [
    "! anaconda search textadapter"
   ]
  },
  {
   "cell_type": "markdown",
   "metadata": {},
   "source": [
    "#### install from channel"
   ]
  },
  {
   "cell_type": "code",
   "execution_count": 14,
   "metadata": {},
   "outputs": [],
   "source": [
    "# conda install -c conda-forge youtube-dl\n",
    "# conda list | grep youtube-dl"
   ]
  },
  {
   "cell_type": "markdown",
   "metadata": {},
   "source": [
    "## _3. Working with Environments_:\n",
    "-  **Environments**:\n",
    "    -  filepath containing a collection of mutually compatible packages\n",
    "    -  bundles packages and their dependencies in distinct environments\n",
    "    -  prevents inconsistencies with package versions when sharing code\n",
    "    -  documents all package versions and dependencies within an isolated environment"
   ]
  },
  {
   "cell_type": "markdown",
   "metadata": {},
   "source": [
    "#### list conda envs"
   ]
  },
  {
   "cell_type": "markdown",
   "metadata": {},
   "source": [
    "```conda env list```"
   ]
  },
  {
   "cell_type": "markdown",
   "metadata": {},
   "source": [
    "#### installed packages in current env"
   ]
  },
  {
   "cell_type": "code",
   "execution_count": 15,
   "metadata": {},
   "outputs": [
    {
     "name": "stdout",
     "output_type": "stream",
     "text": [
      "# packages in environment at /anaconda3:\r\n",
      "#\r\n",
      "# Name                    Version                   Build  Channel\r\n",
      "msgpack-numpy             0.4.1                    pypi_0    pypi\r\n",
      "numpy                     1.15.2                   pypi_0    pypi\r\n",
      "numpy-base                1.16.2           py36h6575580_0  \r\n",
      "numpydoc                  0.8.0                    py36_0  \r\n",
      "pandas                    0.24.1           py36h0a44026_0  \r\n"
     ]
    }
   ],
   "source": [
    "! conda list 'numpy|pandas'"
   ]
  },
  {
   "cell_type": "markdown",
   "metadata": {},
   "source": [
    "#### installed packages in other envs"
   ]
  },
  {
   "cell_type": "markdown",
   "metadata": {},
   "source": [
    "```conda list --name test-env 'numpy|pandas'```"
   ]
  },
  {
   "cell_type": "markdown",
   "metadata": {},
   "source": [
    "#### switch between conda envs"
   ]
  },
  {
   "cell_type": "code",
   "execution_count": 16,
   "metadata": {},
   "outputs": [],
   "source": [
    "# conda activate <env>\n",
    "# conda deactivate ... => takes you back to 'base' env\n",
    "\n",
    "# source activate <env> ... => Linux/OSX conda version < 4.4\n",
    "# source deactivate ... => Linux/OSX conda version < 4.4"
   ]
  },
  {
   "cell_type": "markdown",
   "metadata": {},
   "source": [
    "#### remove conda env"
   ]
  },
  {
   "cell_type": "markdown",
   "metadata": {},
   "source": [
    "```conda env remove --name <env>```"
   ]
  },
  {
   "cell_type": "markdown",
   "metadata": {},
   "source": [
    "#### create new conda env"
   ]
  },
  {
   "cell_type": "markdown",
   "metadata": {},
   "source": [
    "```conda create --name <env_name> python=<version> pandas=<version> scipy statsmodels```"
   ]
  },
  {
   "cell_type": "markdown",
   "metadata": {},
   "source": [
    "#### export conda env"
   ]
  },
  {
   "cell_type": "markdown",
   "metadata": {},
   "source": [
    "```conda env export -n course-env -f course-env.yml```"
   ]
  },
  {
   "cell_type": "markdown",
   "metadata": {},
   "source": [
    "#### create env via .yml file"
   ]
  },
  {
   "cell_type": "markdown",
   "metadata": {},
   "source": [
    "```conda env create --name <env_name> --file file-name.yml```"
   ]
  },
  {
   "cell_type": "markdown",
   "metadata": {},
   "source": [
    "## _4. Case Study on Using Environments_:\n",
    "-  executing .py\n",
    "-  updating .py"
   ]
  },
  {
   "cell_type": "markdown",
   "metadata": {},
   "source": [
    "#### execute .py"
   ]
  },
  {
   "cell_type": "markdown",
   "metadata": {},
   "source": [
    "```\n",
    "(base) $ cat weekly_humidity.py\n",
    "# weekly_humidity.py\n",
    "# rolling mean of humidity\n",
    "import pandas as pd\n",
    "df = pd.read_csv('pittsburgh2015_celsius.csv')\n",
    "humidity = df['Mean Humidity']\n",
    "print(pd.rolling_mean(humidity, 7).tail(5))\n",
    "\n",
    "(base) $ python weekly_humidity.py\n",
    "weekly_humidity.py:6: FutureWarning: pd.rolling_mean is deprecated for \n",
    "  Series and will be removed in a future version, replace with\n",
    "        Series.rolling(window=7,center=False).mean()\n",
    "  print(pd.rolling_mean(humidity, 7).tail(5))\n",
    "360    77.000000\n",
    "361    80.428571\n",
    "362    78.857143\n",
    "363    78.285714\n",
    "364    78.714286\n",
    "Name: Mean Humidity, dtype: float64\n",
    "\n",
    "(base) $ conda activate pd-2015\n",
    "\n",
    "(pd-2015) $ python weekly_humidity.py\n",
    "360    77.000000\n",
    "361    80.428571\n",
    "362    78.857143\n",
    "363    78.285714\n",
    "364    78.714286\n",
    "Name: Mean Humidity, dtype: float64\n",
    "```"
   ]
  },
  {
   "cell_type": "markdown",
   "metadata": {},
   "source": [
    "#### update .py"
   ]
  },
  {
   "cell_type": "code",
   "execution_count": 17,
   "metadata": {},
   "outputs": [],
   "source": [
    "# via vim or nano"
   ]
  },
  {
   "cell_type": "markdown",
   "metadata": {},
   "source": [
    "### grp"
   ]
  }
 ],
 "metadata": {
  "kernelspec": {
   "display_name": "Python 3",
   "language": "python",
   "name": "python3"
  },
  "language_info": {
   "codemirror_mode": {
    "name": "ipython",
    "version": 3
   },
   "file_extension": ".py",
   "mimetype": "text/x-python",
   "name": "python",
   "nbconvert_exporter": "python",
   "pygments_lexer": "ipython3",
   "version": "3.6.8"
  }
 },
 "nbformat": 4,
 "nbformat_minor": 2
}
