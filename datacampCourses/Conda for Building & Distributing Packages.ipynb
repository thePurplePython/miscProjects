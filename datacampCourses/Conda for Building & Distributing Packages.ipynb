{
 "cells": [
  {
   "cell_type": "markdown",
   "metadata": {},
   "source": [
    "### grp"
   ]
  },
  {
   "cell_type": "markdown",
   "metadata": {},
   "source": [
    "# Course: _Conda for Building & Distributing Packages_:\n",
    "1.  anaconda projects\n",
    "2.  python packages\n",
    "3.  conda packages"
   ]
  },
  {
   "cell_type": "markdown",
   "metadata": {},
   "source": [
    "## _1. Anaconda Project_:\n",
    "-  **Capabilities**:\n",
    "    -  https://anaconda-project.readthedocs.io/en/latest/\n",
    "    -  data science asset that specifies package installs, file downloads, and executable commands\n",
    "    -  shared amongst data scientists as compressed directories containing the conda environment specification, URLs for downloadable files, and source code for commands\n",
    "-  **YAML**:\n",
    "    -  ```anaconda-project.yml``` => project specification file\n",
    "    -  each separate project created will be in it's own subdirectory containing a distinct ```anaconda-project.yml```\n",
    "    -  core component of all Anaconda Projects\n",
    "-  **Commands**:\n",
    "    -  _Anaconda Projects_ support four types of commands:\n",
    "        -  Unix commands: shell-based commands that run on Mac or Unix systems\n",
    "        -  Windows commands: Windows shell commands\n",
    "        -  Bokeh App: Run bokeh-server with a given Python script\n",
    "        -  Jupyter Notebook: Launch Jupyter Notebook with the specified notebook file"
   ]
  },
  {
   "cell_type": "markdown",
   "metadata": {},
   "source": [
    "#### install anaconda project"
   ]
  },
  {
   "cell_type": "markdown",
   "metadata": {},
   "source": [
    "```conda install anaconda-project```"
   ]
  },
  {
   "cell_type": "markdown",
   "metadata": {},
   "source": [
    "#### find required pacakges for project"
   ]
  },
  {
   "cell_type": "markdown",
   "metadata": {},
   "source": [
    "```anaconda-project list-packages```"
   ]
  },
  {
   "cell_type": "markdown",
   "metadata": {},
   "source": [
    "#### prepare new conda env within project"
   ]
  },
  {
   "cell_type": "markdown",
   "metadata": {},
   "source": [
    "```anaconda-project prepare```"
   ]
  },
  {
   "cell_type": "markdown",
   "metadata": {},
   "source": [
    "#### find project commands"
   ]
  },
  {
   "cell_type": "markdown",
   "metadata": {},
   "source": [
    "```anaconda-project list-commands```"
   ]
  },
  {
   "cell_type": "markdown",
   "metadata": {},
   "source": [
    "#### inspect sample .yml file"
   ]
  },
  {
   "cell_type": "markdown",
   "metadata": {},
   "source": [
    "```\n",
    "# This is an Anaconda project file.\n",
    "#\n",
    "# Here you can describe your project and how to run it.\n",
    "# Use `anaconda-project run` to run the project.\n",
    "# The file is in YAML format, please see http://www.yaml.org/start.html for more.\n",
    "#\n",
    "\n",
    "#\n",
    "# Set the 'name' key to name your project\n",
    "#\n",
    "name: babynames\n",
    "#\n",
    "# Set the 'icon' key to give your project an icon\n",
    "#\n",
    "icon:\n",
    "#\n",
    "# Set a one-sentence-or-so 'description' key with project details\n",
    "#\n",
    "description:\n",
    "#\n",
    "# In the commands section, list your runnable scripts, notebooks, andother code.\n",
    "# Use `anaconda-project add-command` to add commands.\n",
    "#\n",
    "commands: {search-names: {unix: python main.py, env_spec: default}}\n",
    "#\n",
    "# In the variables section, list any environment variables your code depends on.\n",
    "# Use `anaconda-project add-variable` to add variables.\n",
    "#\n",
    "variables: {}\n",
    "#\n",
    "# In the services section, list any services that should be\n",
    "# available before your code runs.\n",
    "# Use `anaconda-project add-service` to add services.\n",
    "#\n",
    "services: {}\n",
    "#\n",
    "# In the downloads section, list any URLs to download to local files\n",
    "# before your code runs.\n",
    "# Use `anaconda-project add-download` to add downloads.\n",
    "#\n",
    "downloads: {NAMES: {url: 'https://s3.amazonaws.com/assets.datacamp.com/production/course_6859/datasets/names.zip'}}\n",
    "#\n",
    "# In the packages section, list any packages that must be installed\n",
    "# before your code runs.\n",
    "# Use `anaconda-project add-packages` to add packages.\n",
    "#\n",
    "packages:\n",
    "- python=3\n",
    "- pandas\n",
    "#\n",
    "# In the channels section, list any Conda channel URLs to be searched\n",
    "# for packages.\n",
    "#\n",
    "# For example,\n",
    "#\n",
    "# channels:\n",
    "#    - mychannel\n",
    "#\n",
    "channels: []\n",
    "#\n",
    "# In the platforms section, list platforms the project should work on\n",
    "# Examples: \"linux-64\", \"osx-64\", \"win-64\"\n",
    "# Use `anaconda-project add-platforms` to add platforms.\n",
    "#\n",
    "platforms:\n",
    "- linux-64\n",
    "- osx-64\n",
    "- win-64\n",
    "#\n",
    "# You can define multiple, named environment specs.\n",
    "# Each inherits any global packages or channels,\n",
    "# but can have its own unique ones also.\n",
    "# Use `anaconda-project add-env-spec` to add environment specs.\n",
    "#\n",
    "env_specs:\n",
    "  default:\n",
    "    description: Default environment spec for running commands\n",
    "    packages: []\n",
    "    channels: []\n",
    "    platforms: []\n",
    "```"
   ]
  },
  {
   "cell_type": "markdown",
   "metadata": {},
   "source": [
    "#### initialize a new anaconda project"
   ]
  },
  {
   "cell_type": "code",
   "execution_count": 1,
   "metadata": {},
   "outputs": [],
   "source": [
    "# 1. $ mkdir new_project\n",
    "# 2. $ cd new_project\n",
    "# 3. $ anaconda-project init \n",
    "# 4. $ ls -ltr\n",
    "# ... anaconda-project.yml will be in project directory"
   ]
  },
  {
   "cell_type": "markdown",
   "metadata": {},
   "source": [
    "#### add packages, downloads, and commands to anaconda project"
   ]
  },
  {
   "cell_type": "code",
   "execution_count": 2,
   "metadata": {},
   "outputs": [],
   "source": [
    "# anaconda-project add-packages python=<VERSION> <PACKAGES> ... => packages\n",
    "    # anaconda-project add-packages python=3 pandas statsmodels\n",
    "\n",
    "# anaconda-project add-download <ENV_VARIABLE> <DOWNLOAD_URL> ... => downloads\n",
    "    # anaconda-project add-download MORTGAGE_RATES https://goo.gl/jpbAsR\n",
    "\n",
    "# anaconda-project add-command [flags] <name> <command-to-execute> ... => commands\n",
    "    # MORTGAGE_RATES = os.environ[\"MORTGAGE_RATES\"] ... => sets env var for data download\n",
    "    # anaconda-project add-command forecast \"python forecast.py\"\n",
    "\n",
    "# anaconda-project run ... => execute project"
   ]
  },
  {
   "cell_type": "markdown",
   "metadata": {},
   "source": [
    "#### update all packages"
   ]
  },
  {
   "cell_type": "markdown",
   "metadata": {},
   "source": [
    "```anaconda-project update```"
   ]
  },
  {
   "cell_type": "markdown",
   "metadata": {},
   "source": [
    "#### write current versions of every package (plus low level deps) to anaconda-project-lock.yml"
   ]
  },
  {
   "cell_type": "markdown",
   "metadata": {},
   "source": [
    "```anaconda-project lock```"
   ]
  },
  {
   "cell_type": "markdown",
   "metadata": {},
   "source": [
    "#### archive anaconda project files:\n",
    "-  it is best practice not to create the zip archive within the project directory"
   ]
  },
  {
   "cell_type": "code",
   "execution_count": 3,
   "metadata": {},
   "outputs": [],
   "source": [
    "# anaconda-project archive <zip-file>\n",
    "    # anaconda-project archive /home/repl/mortgage_rates.zip"
   ]
  },
  {
   "cell_type": "markdown",
   "metadata": {},
   "source": [
    "#### anaconda cloud login:\n",
    "-  https://anaconda.org"
   ]
  },
  {
   "cell_type": "code",
   "execution_count": 4,
   "metadata": {},
   "outputs": [],
   "source": [
    "# anaconda login\n",
    "    # username:\n",
    "    # password:"
   ]
  },
  {
   "cell_type": "markdown",
   "metadata": {},
   "source": [
    "#### upload archive to anaconda cloud"
   ]
  },
  {
   "cell_type": "code",
   "execution_count": 5,
   "metadata": {},
   "outputs": [],
   "source": [
    "# anaconda upload <zip-file> --package-type=project\n",
    "    # anaconda upload /home/repl/mortgage_rates.zip -t=project"
   ]
  },
  {
   "cell_type": "markdown",
   "metadata": {},
   "source": [
    "## _2. Python Packages_:\n",
    "-  **Scripts**:\n",
    "    -  ```python <script-file>.py```\n",
    "    - a Python _package_ is a collection of separate modules collected under a single name that share metadata, documentation, licensing, and version numbering\n",
    "-  **Modules**:\n",
    "    -  reusable python source files\n",
    "    -  .py files stored in a location where the **import** statement can find them\n",
    "    -  all rows above ```if __name__ == '__main__':``` are executed and imported; anything after is not executed\n",
    "-  **Setup**:\n",
    "    -  ```setup.py``` script file coordinates installing the package into your Python distribution\n",
    "    -  ```__init__.py``` script file defines what gets imported from a directory\n",
    "-  **Packages**:\n",
    "    -  a Python _package_ can have any number of directories and module source files\n",
    "    -  _packaging scripts_ define metadata about your package like the author, the license, and what subdirectories contain the package code\n",
    "    -  https://packaging.python.org\n",
    "-  **Licensing**:\n",
    "    -  https://en.wikipedia.org/wiki/Software_license\n",
    "-  **Versioning**:\n",
    "    -  https://packaging.python.org/guides/single-sourcing-package-version/"
   ]
  },
  {
   "cell_type": "markdown",
   "metadata": {},
   "source": [
    "#### import module from pwd"
   ]
  },
  {
   "cell_type": "code",
   "execution_count": 6,
   "metadata": {},
   "outputs": [
    {
     "name": "stdout",
     "output_type": "stream",
     "text": [
      "pi.py\r\n",
      "pi2.py\r\n"
     ]
    }
   ],
   "source": [
    "! ls | grep pi"
   ]
  },
  {
   "cell_type": "code",
   "execution_count": 7,
   "metadata": {},
   "outputs": [
    {
     "data": {
      "text/plain": [
       "3.1408069608284515"
      ]
     },
     "execution_count": 7,
     "metadata": {},
     "output_type": "execute_result"
    }
   ],
   "source": [
    "import pi\n",
    "\n",
    "pi.compute_pi(n_iters = 1000)"
   ]
  },
  {
   "cell_type": "markdown",
   "metadata": {},
   "source": [
    "#### import module from pwd w/ ```if __name__ == '__main__':``` logic"
   ]
  },
  {
   "cell_type": "code",
   "execution_count": 8,
   "metadata": {},
   "outputs": [
    {
     "name": "stdout",
     "output_type": "stream",
     "text": [
      "pi is approximately 3.1415926\n"
     ]
    }
   ],
   "source": [
    "import pi\n",
    "\n",
    "if __name__ == '__main__':\n",
    "    pi = pi.compute_pi(int(8e6))\n",
    "    print('pi is approximately {:.7f}'.format(pi))"
   ]
  },
  {
   "cell_type": "code",
   "execution_count": 9,
   "metadata": {},
   "outputs": [],
   "source": [
    "import pi2"
   ]
  },
  {
   "cell_type": "markdown",
   "metadata": {},
   "source": [
    "#### package directory structure"
   ]
  },
  {
   "cell_type": "markdown",
   "metadata": {},
   "source": [
    "```\n",
    "my_package/\n",
    "    LICENSE\n",
    "    README\n",
    "    setup.py\n",
    "    my_package/\n",
    "        __init__.py\n",
    "        module1.py\n",
    "        module2.py\n",
    "        ...\n",
    "```"
   ]
  },
  {
   "cell_type": "markdown",
   "metadata": {},
   "source": [
    "#### import package"
   ]
  },
  {
   "cell_type": "markdown",
   "metadata": {},
   "source": [
    "```\n",
    "mortgage_forecasts/\n",
    "  mortgage_forecasts/\n",
    "    models.py\n",
    "    utils.py\n",
    "```\n",
    "\n",
    "from mortgage_forecasts.models import MortgageRateModel"
   ]
  },
  {
   "cell_type": "markdown",
   "metadata": {},
   "source": [
    "#### sample __init__.py"
   ]
  },
  {
   "cell_type": "markdown",
   "metadata": {},
   "source": [
    "```\n",
    "'''Predictive modeling of 30-year mortgage rates in the US.'''\n",
    "from .models import MortgageRateModel\n",
    "from .utils import read_data\n",
    "```"
   ]
  },
  {
   "cell_type": "markdown",
   "metadata": {},
   "source": [
    "#### sample setup.py:\n",
    "-  ```find_packages()``` function searches the directory where ```setup.py``` resides and returns a list of all subdirectories that have an ```__init__.py``` file"
   ]
  },
  {
   "cell_type": "markdown",
   "metadata": {},
   "source": [
    "```\n",
    "from setuptools import setup, find_packages\n",
    "\n",
    "setup(\n",
    "        name = \"mortgage_forecasts\",\n",
    "        author = \"grp\",\n",
    "        description = \"30 year mortgage rate models\",\n",
    "     )\n",
    "\n",
    "packages = find_packages()\n",
    "```"
   ]
  },
  {
   "cell_type": "markdown",
   "metadata": {},
   "source": [
    "#### include license"
   ]
  },
  {
   "cell_type": "markdown",
   "metadata": {},
   "source": [
    "```\n",
    "$ cd mortgage_forecasts$ ls\n",
    "LICENSE  mortgage_forecasts  setup.py\n",
    "```"
   ]
  },
  {
   "cell_type": "markdown",
   "metadata": {},
   "source": [
    "#### add version to ```__init__.py```"
   ]
  },
  {
   "cell_type": "markdown",
   "metadata": {},
   "source": [
    "```\n",
    "'''Predictive modeling of 30-year mortgage rates in the US.'''\n",
    "__version__ = \"0.1\"\n",
    "from .models import MortgageRateModel\n",
    "from .utils import read_data\n",
    "```"
   ]
  },
  {
   "cell_type": "markdown",
   "metadata": {},
   "source": [
    "## _3. Conda Packages_:\n",
    "-  **Alternative**:\n",
    "    -  pip & virtualenv => https://packaging.python.org/guides/installing-using-pip-and-virtualenv/\n",
    "-  **Recipe**:\n",
    "    -  create a _Conda Recipe_ via ```meta.yaml``` file which defines the dependent conda _packages_\n",
    "    -  https://conda.io/projects/conda-build/en/latest/resources/define-metadata.html\n",
    "    -  sections:\n",
    "        -  ```package``` defines the package name and version\n",
    "        -  ```source``` provides the relative path (or Github repository) to the package source files\n",
    "        -  ```build``` defines the command to install the package\n",
    "        -  ```requirements``` specify the conda packages required to build and run the package\n",
    "        -  ```about``` provides other important metadata like the license and description\n",
    "-  **Build**:\n",
    "    -  need ```conda-build``` package installed which reads _Conda Recipe_ and constructs a package file to be uploaded to _Anaconda Cloud_ and installed in a conda env"
   ]
  },
  {
   "cell_type": "markdown",
   "metadata": {},
   "source": [
    "#### install conda build"
   ]
  },
  {
   "cell_type": "markdown",
   "metadata": {},
   "source": [
    "```conda install conda-build```"
   ]
  },
  {
   "cell_type": "markdown",
   "metadata": {},
   "source": [
    "#### template meta.yaml file"
   ]
  },
  {
   "cell_type": "markdown",
   "metadata": {},
   "source": [
    "```\n",
    "{% set setup_py = load_setup_py_data() %}\n",
    "\n",
    "package:\n",
    "    name: 'mortgage_forecasts'\n",
    "    version: {{ setup_py.get('version') }}\n",
    "\n",
    "source:\n",
    "    path: ./\n",
    "\n",
    "build:\n",
    "    script: <command to install>\n",
    "\n",
    "requirements:\n",
    "    run:\n",
    "        # Packages that must be installed\n",
    "        # in the user's conda environment\n",
    "        # to run this package.\n",
    "\n",
    "    build:\n",
    "        # Packages used by setup.py\n",
    "        # to install this package.\n",
    "        # May also install compilers\n",
    "        # for non-python code.\n",
    "\n",
    "about:\n",
    "    license: {{ setup_py.get('license') }}\n",
    "    license_file: LICENSE\n",
    "    summary: {{ setup_py.get('description') }}\n",
    "```"
   ]
  },
  {
   "cell_type": "markdown",
   "metadata": {},
   "source": [
    "#### sample meta.yaml file"
   ]
  },
  {
   "cell_type": "markdown",
   "metadata": {},
   "source": [
    "```\n",
    "{% set setup_py = load_setup_py_data() %}\n",
    "\n",
    "package:\n",
    "    name: 'mortgage_forecasts'\n",
    "    version: {{ setup_py.get('version') }}\n",
    "\n",
    "source:\n",
    "    path: ./\n",
    "\n",
    "build:\n",
    "    script: python setup.py install --single-version-externally-managed --record=record.txt\n",
    "\n",
    "requirements:\n",
    "    run:\n",
    "        - python >=2.7\n",
    "        - pandas >=0.20\n",
    "        - statsmodels\n",
    "        - scipy\n",
    "    build:\n",
    "        - python\n",
    "        - setuptools\n",
    "\n",
    "about:\n",
    "    license: {{ setup_py.get('license') }}\n",
    "    license_file: LICENSE\n",
    "    summary: {{ setup_py.get('description') }}\n",
    "```"
   ]
  },
  {
   "cell_type": "markdown",
   "metadata": {},
   "source": [
    "#### build package (outputs a tar)"
   ]
  },
  {
   "cell_type": "markdown",
   "metadata": {},
   "source": [
    "```conda build <package-name>```"
   ]
  },
  {
   "cell_type": "markdown",
   "metadata": {},
   "source": [
    "#### verify package metadata"
   ]
  },
  {
   "cell_type": "markdown",
   "metadata": {},
   "source": [
    "```conda search --use-local --info <package-name>```"
   ]
  },
  {
   "cell_type": "markdown",
   "metadata": {},
   "source": [
    "#### install local build example"
   ]
  },
  {
   "cell_type": "markdown",
   "metadata": {},
   "source": [
    "```conda install --use-local pandas=0.22```"
   ]
  },
  {
   "cell_type": "markdown",
   "metadata": {},
   "source": [
    "#### cross architecture independent python versions (add to meta.yaml)"
   ]
  },
  {
   "cell_type": "markdown",
   "metadata": {},
   "source": [
    "```\n",
    "build:\n",
    "    noarch: python\n",
    "    number: 1\n",
    "```"
   ]
  },
  {
   "cell_type": "markdown",
   "metadata": {},
   "source": [
    "#### upload finished package to anaconda cloud"
   ]
  },
  {
   "cell_type": "markdown",
   "metadata": {},
   "source": [
    "```\n",
    "$ pwd\n",
    "/home/repl/miniconda/conda-bld\n",
    "$ ls -ltr\n",
    "total 8\n",
    "drwxr-xr-x 2 repl repl 4096 Apr 21 17:51 linux-64\n",
    "drwxr-xr-x 2 repl repl 4096 Apr 21 17:51 noarch\n",
    "$ ls -ltr noarch/\n",
    "total 16\n",
    "-rw-r--r-- 1 repl repl 5953 Apr 21 17:51 mortgage_forecasts-0.1-py_1.tar.bz2\n",
    "-rw-r--r-- 1 repl repl  364 Apr 21 17:51 repodata.json.bz2\n",
    "-rw-r--r-- 1 repl repl  601 Apr 21 17:51 repodata.json\n",
    "$ anaconda upload noarch/mortgage_forecasts-0.1-py_1.tar.bz2\n",
    "```"
   ]
  },
  {
   "cell_type": "markdown",
   "metadata": {},
   "source": [
    "### grp"
   ]
  }
 ],
 "metadata": {
  "kernelspec": {
   "display_name": "Python 3",
   "language": "python",
   "name": "python3"
  },
  "language_info": {
   "codemirror_mode": {
    "name": "ipython",
    "version": 3
   },
   "file_extension": ".py",
   "mimetype": "text/x-python",
   "name": "python",
   "nbconvert_exporter": "python",
   "pygments_lexer": "ipython3",
   "version": "3.6.8"
  }
 },
 "nbformat": 4,
 "nbformat_minor": 2
}
