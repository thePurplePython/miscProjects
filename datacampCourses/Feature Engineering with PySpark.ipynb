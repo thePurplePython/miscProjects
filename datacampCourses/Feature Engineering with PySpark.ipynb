{
 "cells": [
  {
   "cell_type": "markdown",
   "metadata": {},
   "source": [
    "### grp"
   ]
  },
  {
   "cell_type": "markdown",
   "metadata": {},
   "source": [
    "# Course: _Feature Engineering with PySpark_:\n",
    "1.  eda\n",
    "2.  functions\n",
    "3.  fe\n",
    "4.  ml pipelines"
   ]
  },
  {
   "cell_type": "markdown",
   "metadata": {},
   "source": [
    "https://spark.apache.org/docs/latest/api/python/index.html"
   ]
  },
  {
   "cell_type": "markdown",
   "metadata": {},
   "source": [
    "## _1. Exploratory Data Analysis_:\n",
    "1. Project Scoping / Data Collection\n",
    "2. Exploratory Analysis\n",
    "3. Data Cleaning\n",
    "4. Feature Engineering\n",
    "5. Model Training\n",
    "6. Project Delivery / Insights"
   ]
  },
  {
   "cell_type": "markdown",
   "metadata": {},
   "source": [
    "-  EDA functions:\n",
    "    -  ```pyspark.sql.functions.mean(col)```\n",
    "    -  ```pyspark.sql.functions.skewness(col)```\n",
    "    -  ```pyspark.sql.functions.min(col)```\n",
    "    -  ```cov(col1, col2)``` \n",
    "    -  ```corr(col1, col2)```\n",
    "    -  ```sample(withReplacement, fraction, seed=None)```"
   ]
  },
  {
   "cell_type": "markdown",
   "metadata": {},
   "source": [
    "#### versions"
   ]
  },
  {
   "cell_type": "code",
   "execution_count": 1,
   "metadata": {},
   "outputs": [
    {
     "name": "stdout",
     "output_type": "stream",
     "text": [
      "2.4.3\n",
      "sys.version_info(major=3, minor=6, micro=8, releaselevel='final', serial=0)\n"
     ]
    }
   ],
   "source": [
    "print(spark.version)\n",
    "import sys\n",
    "print(sys.version_info)"
   ]
  },
  {
   "cell_type": "markdown",
   "metadata": {},
   "source": [
    "#### libs"
   ]
  },
  {
   "cell_type": "code",
   "execution_count": 2,
   "metadata": {},
   "outputs": [],
   "source": [
    "from pyspark.sql import functions as F\n",
    "from pyspark.sql import types as T\n",
    "from pyspark.sql import Row\n",
    "from pyspark.sql.window import Window\n",
    "import pandas as pd\n",
    "import numpy as np\n",
    "import seaborn as sns\n",
    "import matplotlib.pyplot as plt"
   ]
  },
  {
   "cell_type": "markdown",
   "metadata": {},
   "source": [
    "#### read"
   ]
  },
  {
   "cell_type": "code",
   "execution_count": 3,
   "metadata": {},
   "outputs": [],
   "source": [
    "PATH = \"course_data/spark_fe/2017_StPaul_MN_Real_Estate.csv\"\n",
    "df = spark.read.csv(PATH, header=True, inferSchema=True)"
   ]
  },
  {
   "cell_type": "code",
   "execution_count": 4,
   "metadata": {},
   "outputs": [],
   "source": [
    "def cleanCols(df):\n",
    "    l = df.columns\n",
    "    cols = [c.replace(' ','_').\n",
    "              replace('[.]','_').\n",
    "              replace('.','_').\n",
    "              replace('[[:punct:]]','_').\n",
    "              lower() for c in l]\n",
    "    return df.toDF(*cols)\n",
    "df = cleanCols(df)"
   ]
  },
  {
   "cell_type": "code",
   "execution_count": 5,
   "metadata": {},
   "outputs": [],
   "source": [
    "for i in df.columns:\n",
    "    df = df.withColumnRenamed(i, i.upper()) # upper all cols"
   ]
  },
  {
   "cell_type": "markdown",
   "metadata": {},
   "source": [
    "#### examine dv"
   ]
  },
  {
   "cell_type": "code",
   "execution_count": 6,
   "metadata": {},
   "outputs": [
    {
     "name": "stdout",
     "output_type": "stream",
     "text": [
      "+-------+------------------+\n",
      "|summary|   SALESCLOSEPRICE|\n",
      "+-------+------------------+\n",
      "|  count|              5000|\n",
      "|   mean|       262804.4668|\n",
      "| stddev|140559.82591998563|\n",
      "|    min|             48000|\n",
      "|    max|           1700000|\n",
      "+-------+------------------+\n",
      "\n"
     ]
    }
   ],
   "source": [
    "Y_df = df.select('SALESCLOSEPRICE')\n",
    "Y_df.describe().show()"
   ]
  },
  {
   "cell_type": "markdown",
   "metadata": {},
   "source": [
    "#### verify data load"
   ]
  },
  {
   "cell_type": "code",
   "execution_count": 7,
   "metadata": {},
   "outputs": [
    {
     "name": "stdout",
     "output_type": "stream",
     "text": [
      "Validation Passed\n"
     ]
    }
   ],
   "source": [
    "def check_load(df, num_records, num_columns):\n",
    "  # Takes a dataframe and compares record and column counts to input\n",
    "  # Message to return if the critera below aren't met\n",
    "  message = 'Validation Failed'\n",
    "  # Check number of records\n",
    "  if num_records == df.count():\n",
    "    # Check number of columns\n",
    "    if num_columns == len(df.columns):\n",
    "      # Success message\n",
    "      message = 'Validation Passed'\n",
    "  return message\n",
    "\n",
    "print(check_load(df, 5000, 74))"
   ]
  },
  {
   "cell_type": "markdown",
   "metadata": {},
   "source": [
    "#### verify data types"
   ]
  },
  {
   "cell_type": "code",
   "execution_count": 8,
   "metadata": {},
   "outputs": [],
   "source": [
    "validation_dict = {'ASSESSMENTPENDING': 'string',\n",
    " 'ASSESSEDVALUATION': 'double',\n",
    " 'ASSOCIATIONFEE': 'int',\n",
    " 'ASSUMABLEMORTGAGE': 'string',\n",
    " 'SQFTBELOWGROUND': 'int'}"
   ]
  },
  {
   "cell_type": "code",
   "execution_count": 9,
   "metadata": {},
   "outputs": [
    {
     "name": "stdout",
     "output_type": "stream",
     "text": [
      "[('NO_', 'int'), ('MLSID', 'string'), ('STREETNUMBERNUMERIC', 'int'), ('STREETADDRESS', 'string'), ('STREETNAME', 'string'), ('POSTALCODE', 'int'), ('STATEORPROVINCE', 'string'), ('CITY', 'string'), ('SALESCLOSEPRICE', 'int'), ('LISTDATE', 'string'), ('LISTPRICE', 'int'), ('LISTTYPE', 'string'), ('ORIGINALLISTPRICE', 'int'), ('PRICEPERTSFT', 'double'), ('FOUNDATIONSIZE', 'int'), ('FENCE', 'string'), ('MAPLETTER', 'string'), ('LOTSIZEDIMENSIONS', 'string'), ('SCHOOLDISTRICTNUMBER', 'string'), ('DAYSONMARKET', 'int'), ('OFFMARKETDATE', 'string'), ('FIREPLACES', 'int'), ('ROOMAREA4', 'string'), ('ROOMTYPE', 'string'), ('ROOF', 'string'), ('ROOMFLOOR4', 'string'), ('POTENTIALSHORTSALE', 'string'), ('POOLDESCRIPTION', 'string'), ('PDOM', 'int'), ('GARAGEDESCRIPTION', 'string'), ('SQFTABOVEGROUND', 'int'), ('TAXES', 'int'), ('ROOMFLOOR1', 'string'), ('ROOMAREA1', 'string'), ('TAXWITHASSESSMENTS', 'double'), ('TAXYEAR', 'int'), ('LIVINGAREA', 'int'), ('UNITNUMBER', 'string'), ('YEARBUILT', 'int'), ('ZONING', 'string'), ('STYLE', 'string'), ('ACRES', 'double'), ('COOLINGDESCRIPTION', 'string'), ('APPLIANCES', 'string'), ('BACKONMARKETDATE', 'string'), ('ROOMFAMILYCHAR', 'string'), ('ROOMAREA3', 'string'), ('EXTERIOR', 'string'), ('ROOMFLOOR3', 'string'), ('ROOMFLOOR2', 'string'), ('ROOMAREA2', 'string'), ('DININGROOMDESCRIPTION', 'string'), ('BASEMENT', 'string'), ('BATHSFULL', 'int'), ('BATHSHALF', 'int'), ('BATHQUARTER', 'int'), ('BATHSTHREEQUARTER', 'int'), ('CLASS', 'string'), ('BATHSTOTAL', 'int'), ('BATHDESC', 'string'), ('ROOMAREA5', 'string'), ('ROOMFLOOR5', 'string'), ('ROOMAREA6', 'string'), ('ROOMFLOOR6', 'string'), ('ROOMAREA7', 'string'), ('ROOMFLOOR7', 'string'), ('ROOMAREA8', 'string'), ('ROOMFLOOR8', 'string'), ('BEDROOMS', 'int'), ('SQFTBELOWGROUND', 'int'), ('ASSUMABLEMORTGAGE', 'string'), ('ASSOCIATIONFEE', 'int'), ('ASSESSMENTPENDING', 'string'), ('ASSESSEDVALUATION', 'double')]\n",
      "==========\n",
      "SQFTBELOWGROUND has expected dtype.\n",
      "ASSUMABLEMORTGAGE has expected dtype.\n",
      "ASSOCIATIONFEE has expected dtype.\n",
      "ASSESSMENTPENDING has expected dtype.\n",
      "ASSESSEDVALUATION has expected dtype.\n"
     ]
    }
   ],
   "source": [
    "# Create list of actual dtypes to check\n",
    "actual_dtypes_list = df.dtypes\n",
    "print(actual_dtypes_list)\n",
    "print(\"=\"*10)\n",
    "\n",
    "# Iterate through the list of actual dtypes tuples\n",
    "for attribute_tuple in actual_dtypes_list:\n",
    "  \n",
    "  # Check if column name is dictionary of expected dtypes\n",
    "  col_name = attribute_tuple[0]\n",
    "  if col_name in validation_dict:\n",
    "\n",
    "    # Compare attribute names and types\n",
    "    col_type = attribute_tuple[1]\n",
    "    if col_type == validation_dict[col_name]:\n",
    "      print(col_name + ' has expected dtype.')"
   ]
  },
  {
   "cell_type": "markdown",
   "metadata": {},
   "source": [
    "#### correlation"
   ]
  },
  {
   "cell_type": "code",
   "execution_count": 10,
   "metadata": {},
   "outputs": [],
   "source": [
    "columns = ['FOUNDATIONSIZE',\n",
    " 'DAYSONMARKET',\n",
    " 'FIREPLACES',\n",
    " 'PDOM',\n",
    " 'SQFTABOVEGROUND',\n",
    " 'TAXES',\n",
    " 'TAXWITHASSESSMENTS',\n",
    " 'TAXYEAR',\n",
    " 'LIVINGAREA',\n",
    " 'YEARBUILT',\n",
    " 'ACRES',\n",
    " 'BATHSFULL',\n",
    " 'BATHSHALF',\n",
    " 'BATHQUARTER',\n",
    " 'BATHSTHREEQUARTER',\n",
    " 'BATHSTOTAL',\n",
    " 'BEDROOMS',\n",
    " 'SQFTBELOWGROUND',\n",
    " 'ASSOCIATIONFEE',\n",
    " 'ASSESSEDVALUATION']"
   ]
  },
  {
   "cell_type": "code",
   "execution_count": 11,
   "metadata": {},
   "outputs": [
    {
     "name": "stdout",
     "output_type": "stream",
     "text": [
      "LIVINGAREA\n"
     ]
    }
   ],
   "source": [
    "# Name and value of col with max corr\n",
    "corr_max = 0\n",
    "corr_max_col = columns[0]\n",
    "\n",
    "# Loop to check all columns contained in list\n",
    "for col in columns:\n",
    "    # Check the correlation of a pair of columns\n",
    "    corr_val = df.corr('SALESCLOSEPRICE', col)\n",
    "    # Logic to compare corr_max with current corr_val\n",
    "    if corr_val > corr_max:\n",
    "        # Update the column name and corr value\n",
    "        corr_max = corr_val\n",
    "        corr_max_col = col\n",
    "\n",
    "print(corr_max_col)"
   ]
  },
  {
   "cell_type": "markdown",
   "metadata": {},
   "source": [
    "#### visualize"
   ]
  },
  {
   "cell_type": "code",
   "execution_count": 13,
   "metadata": {},
   "outputs": [
    {
     "name": "stdout",
     "output_type": "stream",
     "text": [
      "[Row(skewness(LISTPRICE)=2.790448093916559)]\n"
     ]
    },
    {
     "data": {
      "image/png": "[encoded data removed]",
      "text/plain": [
       "<Figure size 432x288 with 1 Axes>"
      ]
     },
     "metadata": {
      "needs_background": "light"
     },
     "output_type": "display_data"
    }
   ],
   "source": [
    "# Sample\n",
    "sample_df = df.select(['LISTPRICE']).sample(False, 0.5, 42)\n",
    "pandas_df = sample_df.toPandas()\n",
    "\n",
    "# Plot distribution of pandas_df and display plot\n",
    "sns.distplot(pandas_df)\n",
    "\n",
    "# Compute and print skewness of LISTPRICE\n",
    "print(df.agg({'LISTPRICE': 'skewness'}).collect())"
   ]
  },
  {
   "cell_type": "code",
   "execution_count": 14,
   "metadata": {},
   "outputs": [
    {
     "data": {
      "text/plain": [
       "<seaborn.axisgrid.FacetGrid at 0x119e4a358>"
      ]
     },
     "execution_count": 14,
     "metadata": {},
     "output_type": "execute_result"
    },
    {
     "data": {
      "image/png": "[encoded data removed]",
      "text/plain": [
       "<Figure size 360x360 with 1 Axes>"
      ]
     },
     "metadata": {
      "needs_background": "light"
     },
     "output_type": "display_data"
    }
   ],
   "source": [
    "# Select a the relevant columns and sample\n",
    "sample_df = df.select(['SALESCLOSEPRICE', 'LIVINGAREA']).sample(False, 0.5, 42)\n",
    "\n",
    "# Convert to pandas dataframe\n",
    "pandas_df = sample_df.toPandas()\n",
    "\n",
    "# Linear model plot of pandas_df\n",
    "sns.lmplot(x='LIVINGAREA', y='SALESCLOSEPRICE', data=pandas_df)"
   ]
  },
  {
   "cell_type": "markdown",
   "metadata": {},
   "source": [
    "## _2. Wrangling with Spark Functions_:\n",
    "- Bad Data Topics:\n",
    "    -  incorrect format\n",
    "    -  duplications\n",
    "    -  missing\n",
    "    -  irrelevant\n",
    "    -  recorded wrong\n",
    "- Functions:\n",
    "    -  ```drop(*cols)```\n",
    "    -  ```where(condition)```\n",
    "    -  ```like(other)```\n",
    "    -  ```~``` => NOT condition\n",
    "    -  ```dropna(...)```\n",
    "    -  ```fillna(...)```\n",
    "    -  ```dropDuplicates()```\n",
    "-  MinMaxScaling:\n",
    "    -  scale each feature between 0 and 1\n",
    "-  Standardization:\n",
    "    -  transform data to standard normal distribution\n",
    "    -  mean of 0 and standard deviation of 1\n",
    "-  Log Scaling:\n",
    "    -  scales skewed data distributions\n",
    "-  Joins:\n",
    "    -  inner join\n",
    "    -  left join\n",
    "    -  right join\n",
    "    -  full join"
   ]
  },
  {
   "cell_type": "markdown",
   "metadata": {},
   "source": [
    "#### drop specific cols"
   ]
  },
  {
   "cell_type": "code",
   "execution_count": 15,
   "metadata": {},
   "outputs": [],
   "source": [
    "cols_to_drop = ['STREETNUMBERNUMERIC', 'LOTSIZEDIMENSIONS']\n",
    "df = df.drop(*cols_to_drop)"
   ]
  },
  {
   "cell_type": "markdown",
   "metadata": {},
   "source": [
    "#### text filters"
   ]
  },
  {
   "cell_type": "code",
   "execution_count": 16,
   "metadata": {},
   "outputs": [
    {
     "name": "stdout",
     "output_type": "stream",
     "text": [
      "+-------------------+\n",
      "|  ASSUMABLEMORTGAGE|\n",
      "+-------------------+\n",
      "|  Yes w/ Qualifying|\n",
      "| Information Coming|\n",
      "|               null|\n",
      "|Yes w/No Qualifying|\n",
      "|      Not Assumable|\n",
      "+-------------------+\n",
      "\n",
      "4976\n"
     ]
    }
   ],
   "source": [
    "# Inspect unique values in the column 'ASSUMABLEMORTGAGE'\n",
    "df.select(['ASSUMABLEMORTGAGE']).distinct().show()\n",
    "\n",
    "# List of possible values containing 'yes'\n",
    "yes_values = ['Yes w/ Qualifying', 'Yes w/No Qualifying']\n",
    "\n",
    "# Filter the text values out of df but keep null values\n",
    "text_filter = ~df['ASSUMABLEMORTGAGE']\\\n",
    ".isin(yes_values) | df['ASSUMABLEMORTGAGE']\\\n",
    ".isNull() # keep nulls\n",
    "df = df.where(text_filter)\n",
    "\n",
    "# print count of remaining records\n",
    "print(df.count())"
   ]
  },
  {
   "cell_type": "code",
   "execution_count": 17,
   "metadata": {},
   "outputs": [
    {
     "name": "stdout",
     "output_type": "stream",
     "text": [
      "+------------------+\n",
      "| ASSUMABLEMORTGAGE|\n",
      "+------------------+\n",
      "|Information Coming|\n",
      "|              null|\n",
      "|     Not Assumable|\n",
      "+------------------+\n",
      "\n"
     ]
    }
   ],
   "source": [
    "df.select(\"ASSUMABLEMORTGAGE\").distinct().show()"
   ]
  },
  {
   "cell_type": "markdown",
   "metadata": {},
   "source": [
    "#### remove outliers"
   ]
  },
  {
   "cell_type": "code",
   "execution_count": 18,
   "metadata": {},
   "outputs": [],
   "source": [
    "schema = T.StructType([T.StructField('log_SalesClosePrice', T.FloatType())])"
   ]
  },
  {
   "cell_type": "code",
   "execution_count": 19,
   "metadata": {},
   "outputs": [],
   "source": [
    "scaled_DF = spark\\\n",
    ".createDataFrame\\\n",
    "([Row(log_SalesClosePrice=11.870599909242044),\n",
    "  Row(log_SalesClosePrice=12.154779351142624),\n",
    "  Row(log_SalesClosePrice=12.323855681186558),\n",
    "  Row(log_SalesClosePrice=12.487485104968359),\n",
    "  Row(log_SalesClosePrice=12.428816116823043),\n",
    "  Row(log_SalesClosePrice=12.449018824140563),\n",
    "  Row(log_SalesClosePrice=12.421184025147118),\n",
    "  Row(log_SalesClosePrice=12.409013489526863),\n",
    "  Row(log_SalesClosePrice=12.448979607685333),\n",
    "  Row(log_SalesClosePrice=12.429216196844383)], schema=schema)"
   ]
  },
  {
   "cell_type": "code",
   "execution_count": 20,
   "metadata": {},
   "outputs": [
    {
     "name": "stdout",
     "output_type": "stream",
     "text": [
      "12.342294692993164\n",
      "0.19077796152944548\n"
     ]
    }
   ],
   "source": [
    "# Calculate values used for outlier filtering\n",
    "mean_val = scaled_DF.agg({'log_SalesClosePrice': 'mean'}).collect()[0][0]\n",
    "stddev_val = scaled_DF.agg({'log_SalesClosePrice': 'stddev'}).collect()[0][0]\n",
    "print(mean_val)\n",
    "print(stddev_val)\n",
    "\n",
    "# Create three standard deviation (μ ± 3σ) lower and upper bounds for data\n",
    "low_bound = mean_val - (3 * stddev_val)\n",
    "hi_bound = mean_val + (3 * stddev_val)\n",
    "\n",
    "# Filter the data to fit between the lower and upper bounds\n",
    "scaled_DF = scaled_DF\\\n",
    ".where((scaled_DF['log_SalesClosePrice'] < hi_bound)\\\n",
    "       & (scaled_DF['log_SalesClosePrice'] > low_bound))"
   ]
  },
  {
   "cell_type": "markdown",
   "metadata": {},
   "source": [
    "#### manual scaling"
   ]
  },
  {
   "cell_type": "code",
   "execution_count": 21,
   "metadata": {},
   "outputs": [
    {
     "name": "stdout",
     "output_type": "stream",
     "text": [
      "225\n",
      "0\n",
      "[Row(max(percentage_scaled_days)=100.0)]\n",
      "[Row(min(percentage_scaled_days)=0.0)]\n"
     ]
    }
   ],
   "source": [
    "# Define max and min values and collect them\n",
    "max_days = df.agg({'DAYSONMARKET': 'max'}).collect()[0][0]\n",
    "min_days = df.agg({'DAYSONMARKET': 'min'}).collect()[0][0]\n",
    "print(max_days)\n",
    "print(min_days)\n",
    "\n",
    "# Create a new column based off the scaled data\n",
    "df = df.withColumn('percentage_scaled_days', \n",
    "                  F.round((df['DAYSONMARKET'] - min_days) / (max_days - min_days)) * 100)\n",
    "\n",
    "# Calc max and min for new column\n",
    "print(df.agg({'percentage_scaled_days': 'max'}).collect())\n",
    "print(df.agg({'percentage_scaled_days': 'min'}).collect())"
   ]
  },
  {
   "cell_type": "markdown",
   "metadata": {},
   "source": [
    "#### function scaling"
   ]
  },
  {
   "cell_type": "code",
   "execution_count": 22,
   "metadata": {},
   "outputs": [],
   "source": [
    "cols_to_scale = ['FOUNDATIONSIZE', 'DAYSONMARKET', 'FIREPLACES']"
   ]
  },
  {
   "cell_type": "code",
   "execution_count": 23,
   "metadata": {},
   "outputs": [
    {
     "name": "stdout",
     "output_type": "stream",
     "text": [
      "+------------+--------------------+\n",
      "|DAYSONMARKET| scaled_DAYSONMARKET|\n",
      "+------------+--------------------+\n",
      "|          10|0.044444444444444446|\n",
      "|           4|0.017777777777777778|\n",
      "|          28| 0.12444444444444444|\n",
      "|          19| 0.08444444444444445|\n",
      "|          21| 0.09333333333333334|\n",
      "|          17| 0.07555555555555556|\n",
      "|          32| 0.14222222222222222|\n",
      "|           5|0.022222222222222223|\n",
      "|          23| 0.10222222222222223|\n",
      "|          73|  0.3244444444444444|\n",
      "|          80| 0.35555555555555557|\n",
      "|          79|  0.3511111111111111|\n",
      "|          12| 0.05333333333333334|\n",
      "|           1|0.004444444444444...|\n",
      "|          18|                0.08|\n",
      "|           2|0.008888888888888889|\n",
      "|          12| 0.05333333333333334|\n",
      "|          45|                 0.2|\n",
      "|          31| 0.13777777777777778|\n",
      "|          16| 0.07111111111111111|\n",
      "+------------+--------------------+\n",
      "only showing top 20 rows\n",
      "\n"
     ]
    }
   ],
   "source": [
    "def min_max_scaler(df, cols_to_scale):\n",
    "  # Takes a dataframe and list of columns to minmax scale. Returns a dataframe.\n",
    "  for col in cols_to_scale:\n",
    "    # Define min and max values and collect them\n",
    "    max_days = df.agg({col: 'max'}).collect()[0][0]\n",
    "    min_days = df.agg({col: 'min'}).collect()[0][0]\n",
    "    new_column_name = 'scaled_' + col\n",
    "    # Create a new column based off the scaled data\n",
    "    df = df.withColumn(new_column_name, \n",
    "                      (df[col] - min_days) / (max_days - min_days))\n",
    "  return df\n",
    "  \n",
    "df = min_max_scaler(df, cols_to_scale)\n",
    "# Show that our data is now between 0 and 1\n",
    "df[['DAYSONMARKET', 'scaled_DAYSONMARKET']].show()"
   ]
  },
  {
   "cell_type": "markdown",
   "metadata": {},
   "source": [
    "#### skewed features"
   ]
  },
  {
   "cell_type": "code",
   "execution_count": 24,
   "metadata": {},
   "outputs": [
    {
     "name": "stdout",
     "output_type": "stream",
     "text": [
      "[Row(skewness(YEARBUILT)=-0.25060307835912676)]\n"
     ]
    }
   ],
   "source": [
    "# Compute the skewness\n",
    "print(df.agg({'YEARBUILT': 'skewness'}).collect())\n",
    "\n",
    "# Calculate the max year\n",
    "max_year = df.agg({'YEARBUILT': 'max'}).collect()[0][0]\n",
    "\n",
    "# Create a new column of reflected data\n",
    "df = df.withColumn('Reflect_YearBuilt', (max_year + 1) - df['YEARBUILT'])\n",
    "\n",
    "# Create a new column based reflected data\n",
    "df = df.withColumn('adj_yearbuilt', 1 / F.log(df['Reflect_YearBuilt']))"
   ]
  },
  {
   "cell_type": "markdown",
   "metadata": {},
   "source": [
    "#### visualize missing data"
   ]
  },
  {
   "cell_type": "code",
   "execution_count": 25,
   "metadata": {},
   "outputs": [],
   "source": [
    "columns = ['APPLIANCES',\n",
    " 'BACKONMARKETDATE',\n",
    " 'ROOMFAMILYCHAR',\n",
    " 'BASEMENT',\n",
    " 'DININGROOMDESCRIPTION']"
   ]
  },
  {
   "cell_type": "code",
   "execution_count": 26,
   "metadata": {},
   "outputs": [
    {
     "data": {
      "image/png": "[encoded data removed]",
      "text/plain": [
       "<Figure size 432x288 with 2 Axes>"
      ]
     },
     "metadata": {
      "needs_background": "light"
     },
     "output_type": "display_data"
    }
   ],
   "source": [
    "# Sample the dataframe and convert to Pandas\n",
    "sample_df = df.select(columns).sample(False, 0.5, 42)\n",
    "pandas_df = sample_df.toPandas()\n",
    "\n",
    "# Convert all values to T/F\n",
    "tf_df = pandas_df.isnull()\n",
    "\n",
    "# Plot it\n",
    "sns.heatmap(data=tf_df)\n",
    "plt.xticks(rotation=30, fontsize=10)\n",
    "plt.yticks(rotation=0, fontsize=10)\n",
    "\n",
    "# Set the answer to the column with the most missing data\n",
    "answer = 'BACKONMARKETDATE'"
   ]
  },
  {
   "cell_type": "markdown",
   "metadata": {},
   "source": [
    "#### imputing missing data"
   ]
  },
  {
   "cell_type": "code",
   "execution_count": 27,
   "metadata": {},
   "outputs": [],
   "source": [
    "# Count missing rows\n",
    "missing = df.where(df['PDOM'].isNull()).count()\n",
    "\n",
    "# Calculate the mean value\n",
    "col_mean = df.agg({'PDOM': 'mean'}).collect()[0][0]\n",
    "\n",
    "# Replacing with the mean value for that column\n",
    "df = df.fillna(col_mean, subset=['PDOM'])"
   ]
  },
  {
   "cell_type": "markdown",
   "metadata": {},
   "source": [
    "#### drop missing cols function"
   ]
  },
  {
   "cell_type": "code",
   "execution_count": 28,
   "metadata": {},
   "outputs": [
    {
     "data": {
      "text/plain": [
       "78"
      ]
     },
     "execution_count": 28,
     "metadata": {},
     "output_type": "execute_result"
    }
   ],
   "source": [
    "len(df.columns)"
   ]
  },
  {
   "cell_type": "code",
   "execution_count": 29,
   "metadata": {},
   "outputs": [],
   "source": [
    "def column_dropper(df, threshold):\n",
    "  # Takes a dataframe and threshold for missing values. Returns a dataframe.\n",
    "  total_records = df.count()\n",
    "  for col in df.columns:\n",
    "    # Calculate the percentage of missing values\n",
    "    missing = df.where(df[col].isNull()).count()\n",
    "    missing_percent = missing / total_records\n",
    "    # Drop column if percent of missing is more than threshold\n",
    "    if missing_percent > threshold:\n",
    "      df = df.drop(col)\n",
    "  return df\n",
    "\n",
    "# Drop columns that are more than 60% missing\n",
    "df = column_dropper(df, .6)"
   ]
  },
  {
   "cell_type": "code",
   "execution_count": 30,
   "metadata": {},
   "outputs": [
    {
     "data": {
      "text/plain": [
       "72"
      ]
     },
     "execution_count": 30,
     "metadata": {},
     "output_type": "execute_result"
    }
   ],
   "source": [
    "len(df.columns)"
   ]
  },
  {
   "cell_type": "markdown",
   "metadata": {},
   "source": [
    "#### joins"
   ]
  },
  {
   "cell_type": "code",
   "execution_count": 31,
   "metadata": {},
   "outputs": [],
   "source": [
    "walk_schema = T.StructType([T.StructField('latitude', T.DoubleType()),\\\n",
    "                     T.StructField('longitude', T.DoubleType()),\\\n",
    "                     T.StructField('walkscore', T.IntegerType()),\\\n",
    "                     T.StructField('bikescore', T.IntegerType()),\\\n",
    "                     T.StructField('transitscore',T.IntegerType())])\n",
    "\n",
    "round_schema = T.StructType([T.StructField('latitude', T.DoubleType()),\\\n",
    "                     T.StructField('longitude', T.DoubleType())])"
   ]
  },
  {
   "cell_type": "code",
   "execution_count": 32,
   "metadata": {},
   "outputs": [],
   "source": [
    "walk_df = spark\\\n",
    ".createDataFrame\\\n",
    "([Row(latitude=45.00585, longitude=-92.87286, walkscore=61, bikescore=72, transitscore=None),\n",
    "  Row(latitude=44.9581, longitude=-93.17982, walkscore=74, bikescore=83, transitscore=None),\n",
    "  Row(latitude=44.93788, longitude=-93.12767, walkscore=84, bikescore=73, transitscore=None),\n",
    "  Row(latitude=44.95359, longitude=-93.09431, walkscore=48, bikescore=60, transitscore=None),\n",
    "  Row(latitude=44.97547, longitude=-92.93275, walkscore=83, bikescore=53, transitscore=None),\n",
    "  Row(latitude=44.98683, longitude=-93.03703, walkscore=37, bikescore=48, transitscore=None),\n",
    "  Row(latitude=44.97599, longitude=-93.0087, walkscore=6, bikescore=48, transitscore=None),\n",
    "  Row(latitude=44.9536, longitude=-92.9059, walkscore=30, bikescore=None, transitscore=None),\n",
    "  Row(latitude=44.89481, longitude=-92.93275, walkscore=4, bikescore=None, transitscore=None),\n",
    "  Row(latitude=44.97947, longitude=-93.1949, walkscore=71, bikescore=76, transitscore=None)], schema=walk_schema)\n",
    "\n",
    "round_df = spark\\\n",
    ".createDataFrame\\\n",
    "([Row(latitude=45.005846, longitude=-92.872856),\n",
    " Row(latitude=44.994875, longitude=-92.879271),\n",
    " Row(latitude=44.99224807, longitude=-92.9327565),\n",
    " Row(latitude=44.9948004, longitude=-92.8779735),\n",
    " Row(latitude=44.99087303, longitude=-92.93379917),\n",
    " Row(latitude=45.00314641, longitude=-92.87810291),\n",
    " Row(latitude=44.953597, longitude=-92.9058957),\n",
    " Row(latitude=44.953597, longitude=-92.9058957),\n",
    " Row(latitude=44.953597, longitude=-92.9058957),\n",
    " Row(latitude=44.953597, longitude=-92.9058957)], schema=round_schema)"
   ]
  },
  {
   "cell_type": "code",
   "execution_count": 33,
   "metadata": {},
   "outputs": [
    {
     "name": "stdout",
     "output_type": "stream",
     "text": [
      "5\n",
      "+--------+---------+--------+---------+---------+---------+------------+\n",
      "|latitude|longitude|latitude|longitude|walkscore|bikescore|transitscore|\n",
      "+--------+---------+--------+---------+---------+---------+------------+\n",
      "| 44.9536| -92.9059| 44.9536| -92.9059|       30|     null|        null|\n",
      "| 44.9536| -92.9059| 44.9536| -92.9059|       30|     null|        null|\n",
      "| 44.9536| -92.9059| 44.9536| -92.9059|       30|     null|        null|\n",
      "| 44.9536| -92.9059| 44.9536| -92.9059|       30|     null|        null|\n",
      "|45.00585|-92.87286|45.00585|-92.87286|       61|       72|        null|\n",
      "|44.99087| -92.9338|    null|     null|     null|     null|        null|\n",
      "|44.99225|-92.93276|    null|     null|     null|     null|        null|\n",
      "| 44.9948|-92.87797|    null|     null|     null|     null|        null|\n",
      "|45.00315| -92.8781|    null|     null|     null|     null|        null|\n",
      "|44.99488|-92.87927|    null|     null|     null|     null|        null|\n",
      "+--------+---------+--------+---------+---------+---------+------------+\n",
      "\n"
     ]
    }
   ],
   "source": [
    "# Cast data types\n",
    "walk_df = walk_df.withColumn('longitude', walk_df['longitude'].cast('double'))\n",
    "walk_df = walk_df.withColumn('latitude', walk_df['latitude'].cast('double'))\n",
    "\n",
    "# Round percision\n",
    "round_df = round_df.withColumn('longitude', F.round(round_df['longitude'], 5))\n",
    "round_df = round_df.withColumn('latitude', F.round(round_df['latitude'], 5))\n",
    "\n",
    "# Create join condition\n",
    "condition = [(round_df['longitude'] == walk_df['longitude']),\\\n",
    "             (round_df['latitude'] == walk_df['latitude'])]\n",
    "\n",
    "# Join the dataframes together\n",
    "join_df = round_df.join(walk_df, on=condition, how='left')\n",
    "# Count non-null records from new field\n",
    "print(join_df.where(~join_df['walkscore'].isNull()).count())\n",
    "join_df.show()"
   ]
  },
  {
   "cell_type": "markdown",
   "metadata": {},
   "source": [
    "#### spark sql join"
   ]
  },
  {
   "cell_type": "code",
   "execution_count": 34,
   "metadata": {},
   "outputs": [],
   "source": [
    "# Register dataframes as tables\n",
    "walk_df.createOrReplaceTempView(\"walk_df\")\n",
    "round_df.createOrReplaceTempView(\"round_df\")\n",
    "\n",
    "# SQL to join dataframes\n",
    "join_sql = \\\n",
    "\"\"\"\n",
    "SELECT *\n",
    "FROM round_df\n",
    "LEFT JOIN walk_df\n",
    "ON round_df.longitude = walk_df.longitude\n",
    "AND round_df.latitude = walk_df.latitude\n",
    "\"\"\"\n",
    "# Perform sql join\n",
    "joined_df = spark.sql(join_sql)"
   ]
  },
  {
   "cell_type": "code",
   "execution_count": 35,
   "metadata": {},
   "outputs": [
    {
     "name": "stdout",
     "output_type": "stream",
     "text": [
      "+--------+---------+--------+---------+---------+---------+------------+\n",
      "|latitude|longitude|latitude|longitude|walkscore|bikescore|transitscore|\n",
      "+--------+---------+--------+---------+---------+---------+------------+\n",
      "| 44.9536| -92.9059| 44.9536| -92.9059|       30|     null|        null|\n",
      "| 44.9536| -92.9059| 44.9536| -92.9059|       30|     null|        null|\n",
      "| 44.9536| -92.9059| 44.9536| -92.9059|       30|     null|        null|\n",
      "| 44.9536| -92.9059| 44.9536| -92.9059|       30|     null|        null|\n",
      "|45.00585|-92.87286|45.00585|-92.87286|       61|       72|        null|\n",
      "|44.99087| -92.9338|    null|     null|     null|     null|        null|\n",
      "|44.99225|-92.93276|    null|     null|     null|     null|        null|\n",
      "| 44.9948|-92.87797|    null|     null|     null|     null|        null|\n",
      "|45.00315| -92.8781|    null|     null|     null|     null|        null|\n",
      "|44.99488|-92.87927|    null|     null|     null|     null|        null|\n",
      "+--------+---------+--------+---------+---------+---------+------------+\n",
      "\n"
     ]
    }
   ],
   "source": [
    "joined_df.show()"
   ]
  },
  {
   "cell_type": "markdown",
   "metadata": {},
   "source": [
    "#### bad join"
   ]
  },
  {
   "cell_type": "code",
   "execution_count": 36,
   "metadata": {},
   "outputs": [],
   "source": [
    "walk_df = spark\\\n",
    ".createDataFrame\\\n",
    "([Row(latitude=45.00585, longitude=-92.87286, walkscore=61, bikescore=72, transitscore=None),\n",
    "  Row(latitude=44.9581, longitude=-93.17982, walkscore=74, bikescore=83, transitscore=None),\n",
    "  Row(latitude=44.93788, longitude=-93.12767, walkscore=84, bikescore=73, transitscore=None),\n",
    "  Row(latitude=44.95359, longitude=-93.09431, walkscore=48, bikescore=60, transitscore=None),\n",
    "  Row(latitude=44.97547, longitude=-92.93275, walkscore=83, bikescore=53, transitscore=None),\n",
    "  Row(latitude=44.98683, longitude=-93.03703, walkscore=37, bikescore=48, transitscore=None),\n",
    "  Row(latitude=44.97599, longitude=-93.0087, walkscore=6, bikescore=48, transitscore=None),\n",
    "  Row(latitude=44.9536, longitude=-92.9059, walkscore=30, bikescore=None, transitscore=None),\n",
    "  Row(latitude=44.89481, longitude=-92.93275, walkscore=4, bikescore=None, transitscore=None),\n",
    "  Row(latitude=44.97947, longitude=-93.1949, walkscore=71, bikescore=76, transitscore=None)], schema=walk_schema)\n",
    "\n",
    "round_df = spark\\\n",
    ".createDataFrame\\\n",
    "([Row(latitude=45.005846, longitude=-92.872856),\n",
    " Row(latitude=44.994875, longitude=-92.879271),\n",
    " Row(latitude=44.99224807, longitude=-92.9327565),\n",
    " Row(latitude=44.9948004, longitude=-92.8779735),\n",
    " Row(latitude=44.99087303, longitude=-92.93379917),\n",
    " Row(latitude=45.00314641, longitude=-92.87810291),\n",
    " Row(latitude=44.953597, longitude=-92.9058957),\n",
    " Row(latitude=44.953597, longitude=-92.9058957),\n",
    " Row(latitude=44.953597, longitude=-92.9058957),\n",
    " Row(latitude=44.953597, longitude=-92.9058957)], schema=round_schema)"
   ]
  },
  {
   "cell_type": "code",
   "execution_count": 37,
   "metadata": {},
   "outputs": [
    {
     "name": "stdout",
     "output_type": "stream",
     "text": [
      "10\n",
      "5\n",
      "Record Count of the Too Few Keys Join Example: 10\n",
      "Record Count of the Correct Join Example: 10\n"
     ]
    }
   ],
   "source": [
    "# Join on mismatched keys precision \n",
    "wrong_prec_cond = [round_df['longitude'] == walk_df['longitude'], round_df['latitude'] == walk_df['latitude']]\n",
    "wrong_prec_df = round_df.join(walk_df, on=wrong_prec_cond, how='left')\n",
    "\n",
    "# Compare bad join to the correct one\n",
    "print(wrong_prec_df.where(wrong_prec_df['walkscore'].isNull()).count())\n",
    "print(joined_df.where(joined_df['walkscore'].isNull()).count())\n",
    "\n",
    "# Create a join on too few keys\n",
    "few_keys_cond = [round_df['longitude'] == walk_df['longitude']]\n",
    "few_keys_df = round_df.join(walk_df, on=few_keys_cond, how='left')\n",
    "\n",
    "# Compare bad join to the correct one\n",
    "print(\"Record Count of the Too Few Keys Join Example: \" + str(few_keys_df.count()))\n",
    "print(\"Record Count of the Correct Join Example: \" + str(joined_df.count()))"
   ]
  },
  {
   "cell_type": "markdown",
   "metadata": {},
   "source": [
    "## _3. Feature Engineering_:\n",
    "-  New Feature Generation Techniques:\n",
    "    -  multiplying\n",
    "    -  summing\n",
    "    -  differencing\n",
    "    -  dividing\n",
    "    -  splitting\n",
    "    -  exploding\n",
    "    -  joining\n",
    "    -  binarizing\n",
    "    -  bucketing\n",
    "    -  encoding"
   ]
  },
  {
   "cell_type": "markdown",
   "metadata": {},
   "source": [
    "#### feature difference"
   ]
  },
  {
   "cell_type": "code",
   "execution_count": 38,
   "metadata": {},
   "outputs": [
    {
     "name": "stdout",
     "output_type": "stream",
     "text": [
      "Corr of ACRES vs SALESCLOSEPRICE: 0.22108574372162215\n",
      "Corr of FOUNDATIONSIZE vs SALESCLOSEPRICE: 0.6164840497949827\n",
      "Corr of YARD_SIZE vs SALESCLOSEPRICE: 0.20760999605939529\n"
     ]
    }
   ],
   "source": [
    "# Lot size in square feet\n",
    "acres_to_sqfeet = 43560\n",
    "df = df.withColumn('LOT_SIZE_SQFT', df['ACRES'] * acres_to_sqfeet)\n",
    "\n",
    "# Create new column YARD_SIZE\n",
    "df = df.withColumn('YARD_SIZE', df['LOT_SIZE_SQFT'] - df['FOUNDATIONSIZE'])\n",
    "\n",
    "# Corr of ACRES vs SALESCLOSEPRICE\n",
    "print(\"Corr of ACRES vs SALESCLOSEPRICE: \" + str(df.corr('ACRES', 'SALESCLOSEPRICE')))\n",
    "# Corr of FOUNDATIONSIZE vs SALESCLOSEPRICE\n",
    "print(\"Corr of FOUNDATIONSIZE vs SALESCLOSEPRICE: \" + str(df.corr('FOUNDATIONSIZE', 'SALESCLOSEPRICE')))\n",
    "# Corr of YARD_SIZE vs SALESCLOSEPRICE\n",
    "print(\"Corr of YARD_SIZE vs SALESCLOSEPRICE: \" + str(df.corr('YARD_SIZE', 'SALESCLOSEPRICE')))"
   ]
  },
  {
   "cell_type": "markdown",
   "metadata": {},
   "source": [
    "#### feature ratio"
   ]
  },
  {
   "cell_type": "code",
   "execution_count": 39,
   "metadata": {},
   "outputs": [
    {
     "name": "stdout",
     "output_type": "stream",
     "text": [
      "+----------------+-----------------+---------+\n",
      "|ASSESSED_TO_LIST|ASSESSEDVALUATION|LISTPRICE|\n",
      "+----------------+-----------------+---------+\n",
      "|             0.0|              0.0|   139900|\n",
      "|             0.0|              0.0|   210000|\n",
      "|             0.0|              0.0|   225000|\n",
      "|             0.0|              0.0|   230000|\n",
      "|             0.0|              0.0|   239900|\n",
      "+----------------+-----------------+---------+\n",
      "only showing top 5 rows\n",
      "\n",
      "+--------------------+-----+---------+\n",
      "|         TAX_TO_LIST|TAXES|LISTPRICE|\n",
      "+--------------------+-----+---------+\n",
      "|0.013280914939242315| 1858|   139900|\n",
      "| 0.00780952380952381| 1640|   210000|\n",
      "|0.010622222222222222| 2390|   225000|\n",
      "|0.009330434782608695| 2146|   230000|\n",
      "|0.008378491037932471| 2010|   239900|\n",
      "+--------------------+-----+---------+\n",
      "only showing top 5 rows\n",
      "\n",
      "+------------------+--------+----------+\n",
      "|      BED_TO_BATHS|BEDROOMS|BATHSTOTAL|\n",
      "+------------------+--------+----------+\n",
      "|               1.5|       3|         2|\n",
      "|1.3333333333333333|       4|         3|\n",
      "|               2.0|       2|         1|\n",
      "|               1.0|       2|         2|\n",
      "|               1.5|       3|         2|\n",
      "+------------------+--------+----------+\n",
      "only showing top 5 rows\n",
      "\n"
     ]
    }
   ],
   "source": [
    "# ASSESSED_TO_LIST\n",
    "df = df.withColumn('ASSESSED_TO_LIST', df['ASSESSEDVALUATION'] / df['LISTPRICE'])\n",
    "df[['ASSESSED_TO_LIST', 'ASSESSEDVALUATION', 'LISTPRICE']].show(5)\n",
    "# TAX_TO_LIST\n",
    "df = df.withColumn('TAX_TO_LIST', df['TAXES'] / df['LISTPRICE'])\n",
    "df[['TAX_TO_LIST', 'TAXES', 'LISTPRICE']].show(5)\n",
    "# BED_TO_BATHS\n",
    "df = df.withColumn('BED_TO_BATHS', df['BEDROOMS'] / df['BATHSTOTAL'])\n",
    "df[['BED_TO_BATHS', 'BEDROOMS', 'BATHSTOTAL']].show(5)"
   ]
  },
  {
   "cell_type": "markdown",
   "metadata": {},
   "source": [
    "#### multi feature combination"
   ]
  },
  {
   "cell_type": "code",
   "execution_count": 40,
   "metadata": {},
   "outputs": [],
   "source": [
    "from scipy import stats\n",
    "def r2(x, y):\n",
    "    return stats.pearsonr(x, y)[0] ** 2"
   ]
  },
  {
   "cell_type": "code",
   "execution_count": 49,
   "metadata": {},
   "outputs": [
    {
     "name": "stdout",
     "output_type": "stream",
     "text": [
      "+-------+-------------------+\n",
      "|summary| BATHS_PER_1000SQFT|\n",
      "+-------+-------------------+\n",
      "|  count|               4976|\n",
      "|   mean| 1.4315755045931757|\n",
      "| stddev| 14.162914660169035|\n",
      "|    min|0.39123630672926446|\n",
      "|    max|             1000.0|\n",
      "+-------+-------------------+\n",
      "\n"
     ]
    },
    {
     "data": {
      "text/plain": [
       "<seaborn.axisgrid.JointGrid at 0x119d59128>"
      ]
     },
     "execution_count": 49,
     "metadata": {},
     "output_type": "execute_result"
    },
    {
     "data": {
      "image/png": "[encoded data removed]",
      "text/plain": [
       "<Figure size 432x432 with 3 Axes>"
      ]
     },
     "metadata": {
      "needs_background": "light"
     },
     "output_type": "display_data"
    },
    {
     "data": {
      "image/png": "[encoded data removed]",
      "text/plain": [
       "<Figure size 432x432 with 3 Axes>"
      ]
     },
     "metadata": {
      "needs_background": "light"
     },
     "output_type": "display_data"
    }
   ],
   "source": [
    "# Create new feature by adding two features together\n",
    "df = df.withColumn('Total_SQFT', df['SQFTBELOWGROUND'] + df['SQFTABOVEGROUND'])\n",
    "\n",
    "# Create additional new feature using previously created feature\n",
    "df = df.withColumn('BATHS_PER_1000SQFT', df['BATHSTOTAL'] / (df['Total_SQFT'] / 1000))\n",
    "df[['BATHS_PER_1000SQFT']].describe().show()\n",
    "\n",
    "# Pandas dataframe\n",
    "pandas_df = df.sample(False, 0.5, 0).toPandas()\n",
    "\n",
    "# Linear model plots\n",
    "sns.jointplot(x='Total_SQFT', y='SALESCLOSEPRICE', data=pandas_df, kind=\"reg\", stat_func=r2)\n",
    "sns.jointplot(x='BATHS_PER_1000SQFT', y='SALESCLOSEPRICE', data=pandas_df, kind=\"reg\", stat_func=r2)"
   ]
  },
  {
   "cell_type": "markdown",
   "metadata": {},
   "source": [
    "#### time"
   ]
  },
  {
   "cell_type": "code",
   "execution_count": 44,
   "metadata": {},
   "outputs": [
    {
     "data": {
      "text/plain": [
       "<matplotlib.axes._subplots.AxesSubplot at 0x11a0a6c88>"
      ]
     },
     "execution_count": 44,
     "metadata": {},
     "output_type": "execute_result"
    },
    {
     "data": {
      "image/png": "[encoded data removed]",
      "text/plain": [
       "<Figure size 432x288 with 1 Axes>"
      ]
     },
     "metadata": {
      "needs_background": "light"
     },
     "output_type": "display_data"
    }
   ],
   "source": [
    "# Convert to date type\n",
    "df = df\\\n",
    ".withColumn('LISTDATE',\\\n",
    "            F.to_timestamp(F.from_unixtime(F.unix_timestamp(F.col('LISTDATE'), 'MM/dd/yyyy HH:mm'),\\\n",
    "                            'yyyy-MM-dd HH:mm:ss')))\n",
    "\n",
    "# Get the day of the week\n",
    "df = df.withColumn('List_Day_of_Week', F.dayofweek('LISTDATE'))\n",
    "\n",
    "# Sample and convert to pandas dataframe\n",
    "sample_df = df.sample(False, 0.5, 42).toPandas()\n",
    "\n",
    "# Plot count plot of of day of week\n",
    "sns.countplot(x=\"List_Day_of_Week\", data=sample_df)"
   ]
  },
  {
   "cell_type": "markdown",
   "metadata": {},
   "source": [
    "#### join on time"
   ]
  },
  {
   "cell_type": "code",
   "execution_count": 46,
   "metadata": {},
   "outputs": [],
   "source": [
    "price_schema = T.StructType([T.StructField('City_', T.StringType()),\\\n",
    "                             T.StructField('MedianHomeValue', T.StringType()),\\\n",
    "                             T.StructField('Year', T.StringType())])"
   ]
  },
  {
   "cell_type": "code",
   "execution_count": 47,
   "metadata": {},
   "outputs": [],
   "source": [
    "price_df = spark\\\n",
    ".createDataFrame\\\n",
    "([Row(City_='LELM - Lake Elmo', MedianHomeValue='401000', Year='2016'),\n",
    "  Row(City_='MAPW - Maplewood', MedianHomeValue='193000', Year='2016'),\n",
    "  Row(City_='STP - Saint Paul', MedianHomeValue='172000', Year='2016'),\n",
    "  Row(City_='WB - Woodbury', MedianHomeValue='291000', Year='2016'),\n",
    "  Row(City_='OAKD - Oakdale', MedianHomeValue='210000', Year='2016'),\n",
    "  Row(City_='LELM - Lake Elmo', MedianHomeValue='385000', Year='2015'),\n",
    "  Row(City_='MAPW - Maplewood', MedianHomeValue='187000', Year='2015'),\n",
    "  Row(City_='STP - Saint Paul', MedianHomeValue='162000', Year='2015'),\n",
    "  Row(City_='WB - Woodbury', MedianHomeValue='277000', Year='2015'),\n",
    "  Row(City_='OAKD - Oakdale', MedianHomeValue='192000', Year='2015')], schema=price_schema)"
   ]
  },
  {
   "cell_type": "code",
   "execution_count": 48,
   "metadata": {},
   "outputs": [
    {
     "name": "stdout",
     "output_type": "stream",
     "text": [
      "+---------------+\n",
      "|MedianHomeValue|\n",
      "+---------------+\n",
      "|         210000|\n",
      "|         210000|\n",
      "|         210000|\n",
      "|         210000|\n",
      "|         210000|\n",
      "|         210000|\n",
      "|         210000|\n",
      "|         210000|\n",
      "|         210000|\n",
      "|         210000|\n",
      "|         210000|\n",
      "|         210000|\n",
      "|         210000|\n",
      "|         210000|\n",
      "|         210000|\n",
      "|         210000|\n",
      "|         210000|\n",
      "|         210000|\n",
      "|         210000|\n",
      "|         210000|\n",
      "+---------------+\n",
      "only showing top 20 rows\n",
      "\n"
     ]
    }
   ],
   "source": [
    "# Create year column\n",
    "df = df.withColumn('list_year', F.year('LISTDATE'))\n",
    "\n",
    "# Adjust year to match\n",
    "df = df.withColumn('report_year', (df['list_year'] - 1))\n",
    "\n",
    "# Create join condition\n",
    "condition = [df['CITY'] == price_df['City_'], df['report_year'] == price_df['Year']]\n",
    "\n",
    "# Join the dataframes together\n",
    "df = df.join(price_df, on=condition, how='left')\n",
    "# Inspect that new columns are available\n",
    "df[['MedianHomeValue']].show()"
   ]
  },
  {
   "cell_type": "markdown",
   "metadata": {},
   "source": [
    "#### window / lag function"
   ]
  },
  {
   "cell_type": "code",
   "execution_count": 50,
   "metadata": {},
   "outputs": [],
   "source": [
    "window_schema = T.StructType([T.StructField('DATE', T.StringType()),\\\n",
    "                             T.StructField('MORTGAGE30US', T.StringType())])"
   ]
  },
  {
   "cell_type": "code",
   "execution_count": 51,
   "metadata": {},
   "outputs": [],
   "source": [
    "mort_df = spark\\\n",
    ".createDataFrame\\\n",
    "([Row(DATE='2013-10-10', MORTGAGE30US='4.23'),\n",
    "  Row(DATE='2013-10-17', MORTGAGE30US='4.28'),\n",
    "  Row(DATE='2013-10-24', MORTGAGE30US='4.13'),\n",
    "  Row(DATE='2013-10-31', MORTGAGE30US='4.10'),\n",
    "  Row(DATE='2013-11-07', MORTGAGE30US='4.16'),\n",
    "  Row(DATE='2013-11-14', MORTGAGE30US='4.35'),\n",
    "  Row(DATE='2013-11-21', MORTGAGE30US='4.22'),\n",
    "  Row(DATE='2013-11-27', MORTGAGE30US='4.29'),\n",
    "  Row(DATE='2013-12-05', MORTGAGE30US='4.46'),\n",
    "  Row(DATE='2013-12-12', MORTGAGE30US='4.42')], schema=window_schema)"
   ]
  },
  {
   "cell_type": "code",
   "execution_count": 52,
   "metadata": {},
   "outputs": [
    {
     "name": "stdout",
     "output_type": "stream",
     "text": [
      "+-------------------+\n",
      "|Days_Between_Report|\n",
      "+-------------------+\n",
      "|               null|\n",
      "|                  7|\n",
      "|                  6|\n",
      "|                  8|\n",
      "+-------------------+\n",
      "\n"
     ]
    }
   ],
   "source": [
    "# Cast data type\n",
    "mort_df = mort_df.withColumn('DATE', F.to_date('DATE'))\n",
    "\n",
    "# Create window\n",
    "w = Window().orderBy(mort_df['DATE'])\n",
    "# Create lag column\n",
    "mort_df = mort_df.withColumn('DATE-1', F.lag('DATE', count=1).over(w))\n",
    "\n",
    "# Calculate difference between date columns\n",
    "mort_df = mort_df.withColumn('Days_Between_Report', F.datediff('DATE', 'DATE-1'))\n",
    "# Print results\n",
    "mort_df.select('Days_Between_Report').distinct().show()"
   ]
  },
  {
   "cell_type": "code",
   "execution_count": 53,
   "metadata": {},
   "outputs": [
    {
     "name": "stdout",
     "output_type": "stream",
     "text": [
      "root\n",
      " |-- DATE: date (nullable = true)\n",
      " |-- MORTGAGE30US: string (nullable = true)\n",
      " |-- DATE-1: date (nullable = true)\n",
      " |-- Days_Between_Report: integer (nullable = true)\n",
      "\n"
     ]
    }
   ],
   "source": [
    "mort_df.printSchema()"
   ]
  },
  {
   "cell_type": "code",
   "execution_count": 54,
   "metadata": {},
   "outputs": [
    {
     "name": "stdout",
     "output_type": "stream",
     "text": [
      "+----------+------------+----------+-------------------+\n",
      "|DATE      |MORTGAGE30US|DATE-1    |Days_Between_Report|\n",
      "+----------+------------+----------+-------------------+\n",
      "|2013-10-10|4.23        |null      |null               |\n",
      "|2013-10-17|4.28        |2013-10-10|7                  |\n",
      "|2013-10-24|4.13        |2013-10-17|7                  |\n",
      "|2013-10-31|4.10        |2013-10-24|7                  |\n",
      "|2013-11-07|4.16        |2013-10-31|7                  |\n",
      "|2013-11-14|4.35        |2013-11-07|7                  |\n",
      "|2013-11-21|4.22        |2013-11-14|7                  |\n",
      "|2013-11-27|4.29        |2013-11-21|6                  |\n",
      "|2013-12-05|4.46        |2013-11-27|8                  |\n",
      "|2013-12-12|4.42        |2013-12-05|7                  |\n",
      "+----------+------------+----------+-------------------+\n",
      "\n"
     ]
    }
   ],
   "source": [
    "mort_df.show(truncate=False)"
   ]
  },
  {
   "cell_type": "markdown",
   "metadata": {},
   "source": [
    "#### extract text to new features"
   ]
  },
  {
   "cell_type": "code",
   "execution_count": 55,
   "metadata": {},
   "outputs": [
    {
     "name": "stdout",
     "output_type": "stream",
     "text": [
      "+--------------------------------------------------------------------------------------------+-------------------+\n",
      "|                                                                           GARAGEDESCRIPTION|has_attached_garage|\n",
      "+--------------------------------------------------------------------------------------------+-------------------+\n",
      "|                                                                          Driveway - Asphalt|               null|\n",
      "|                                                 Uncovered/Open, More Parking Onsite for Fee|               null|\n",
      "|                                                                                   Tuckunder|               null|\n",
      "|                                                                  Attached Garage, Tuckunder|                  1|\n",
      "|                                                                             Attached Garage|                  1|\n",
      "|                                                         Attached Garage, Garage Door Opener|                  1|\n",
      "|            Attached Garage, Insulated Garage, Driveway - Asphalt, Garage Door Opener, Other|                  1|\n",
      "|Attached Garage, Insulated Garage, Driveway - Asphalt, Driveway - Shared, Garage Door Opener|                  1|\n",
      "|                                                         Attached Garage, Garage Door Opener|                  1|\n",
      "|                                                                             Attached Garage|                  1|\n",
      "|                                                                             Attached Garage|                  1|\n",
      "|                                                                             Attached Garage|                  1|\n",
      "|                                     Attached Garage, Driveway - Asphalt, Garage Door Opener|                  1|\n",
      "|       Attached Garage, Tuckunder, Driveway - Asphalt, Driveway - Shared, Garage Door Opener|                  1|\n",
      "|                   Attached Garage, Insulated Garage, Driveway - Asphalt, Garage Door Opener|                  1|\n",
      "|                                                                   Attached Garage, Assigned|                  1|\n",
      "|                                                                             Attached Garage|                  1|\n",
      "|                                                                             Attached Garage|                  1|\n",
      "|                                                         Attached Garage, Garage Door Opener|                  1|\n",
      "|                                     Attached Garage, Tuckunder, Driveway - Asphalt, Secured|                  1|\n",
      "+--------------------------------------------------------------------------------------------+-------------------+\n",
      "only showing top 20 rows\n",
      "\n"
     ]
    }
   ],
   "source": [
    "# Create boolean conditions for string matches\n",
    "has_attached_garage = df['GARAGEDESCRIPTION'].like('%Attached Garage%')\n",
    "has_detached_garage = df['GARAGEDESCRIPTION'].like('%Detached Garage%')\n",
    "\n",
    "# Conditional value assignment \n",
    "df = df.withColumn('has_attached_garage', F.when(has_attached_garage, 1)\\\n",
    "                   .when(has_detached_garage, 0)\\\n",
    "                   .otherwise(None))\n",
    "\n",
    "# Inspect results\n",
    "df[['GARAGEDESCRIPTION', 'has_attached_garage']].show(truncate=100)"
   ]
  },
  {
   "cell_type": "code",
   "execution_count": 56,
   "metadata": {},
   "outputs": [
    {
     "name": "stdout",
     "output_type": "stream",
     "text": [
      "+--------------------------------------------------------------------------------------------+-------------------+\n",
      "|GARAGEDESCRIPTION                                                                           |has_attached_garage|\n",
      "+--------------------------------------------------------------------------------------------+-------------------+\n",
      "|Driveway - Asphalt                                                                          |null               |\n",
      "|Uncovered/Open, More Parking Onsite for Fee                                                 |null               |\n",
      "|Tuckunder                                                                                   |null               |\n",
      "|Attached Garage, Tuckunder                                                                  |1                  |\n",
      "|Attached Garage                                                                             |1                  |\n",
      "|Attached Garage, Garage Door Opener                                                         |1                  |\n",
      "|Attached Garage, Insulated Garage, Driveway - Asphalt, Garage Door Opener, Other            |1                  |\n",
      "|Attached Garage, Insulated Garage, Driveway - Asphalt, Driveway - Shared, Garage Door Opener|1                  |\n",
      "|Attached Garage, Garage Door Opener                                                         |1                  |\n",
      "|Attached Garage                                                                             |1                  |\n",
      "|Attached Garage                                                                             |1                  |\n",
      "|Attached Garage                                                                             |1                  |\n",
      "|Attached Garage, Driveway - Asphalt, Garage Door Opener                                     |1                  |\n",
      "|Attached Garage, Tuckunder, Driveway - Asphalt, Driveway - Shared, Garage Door Opener       |1                  |\n",
      "|Attached Garage, Insulated Garage, Driveway - Asphalt, Garage Door Opener                   |1                  |\n",
      "|Attached Garage, Assigned                                                                   |1                  |\n",
      "|Attached Garage                                                                             |1                  |\n",
      "|Attached Garage                                                                             |1                  |\n",
      "|Attached Garage, Garage Door Opener                                                         |1                  |\n",
      "|Attached Garage, Tuckunder, Driveway - Asphalt, Secured                                     |1                  |\n",
      "+--------------------------------------------------------------------------------------------+-------------------+\n",
      "only showing top 20 rows\n",
      "\n"
     ]
    }
   ],
   "source": [
    "# spark sql method\n",
    "df.createOrReplaceTempView(\"sql_view\")\n",
    "\n",
    "spark.sql(\"\"\"\n",
    "SELECT \n",
    "    GARAGEDESCRIPTION,\n",
    "CASE \n",
    "    WHEN GARAGEDESCRIPTION like '%Attached Garage%' THEN 1\n",
    "    WHEN GARAGEDESCRIPTION like '%Detached Garage%' THEN 0\n",
    "    ELSE null END AS has_attached_garage\n",
    "FROM\n",
    "    sql_view\n",
    "\"\"\").show(truncate=False)"
   ]
  },
  {
   "cell_type": "markdown",
   "metadata": {},
   "source": [
    "#### split / explode"
   ]
  },
  {
   "cell_type": "code",
   "execution_count": 57,
   "metadata": {},
   "outputs": [
    {
     "name": "stdout",
     "output_type": "stream",
     "text": [
      "+----------------------------+\n",
      "|ex_garage_list              |\n",
      "+----------------------------+\n",
      "|Attached Garage             |\n",
      "|On-Street Parking Only      |\n",
      "|None                        |\n",
      "|More Parking Onsite for Fee |\n",
      "|Garage Door Opener          |\n",
      "|No Int Access to Dwelling   |\n",
      "|Driveway - Gravel           |\n",
      "|Valet Parking for Fee       |\n",
      "|Uncovered/Open              |\n",
      "|Heated Garage               |\n",
      "|Underground Garage          |\n",
      "|Other                       |\n",
      "|Unassigned                  |\n",
      "|More Parking Offsite for Fee|\n",
      "|Driveway - Other Surface    |\n",
      "|Contract Pkg Required       |\n",
      "|Carport                     |\n",
      "|Secured                     |\n",
      "|Detached Garage             |\n",
      "|Driveway - Asphalt          |\n",
      "+----------------------------+\n",
      "only showing top 20 rows\n",
      "\n"
     ]
    }
   ],
   "source": [
    "# Convert string to list-like array\n",
    "df = df.withColumn('garage_list', F.split(df['GARAGEDESCRIPTION'], ', '))\n",
    "\n",
    "# Explode the values into new records\n",
    "ex_df = df.withColumn('ex_garage_list', F.explode(df['garage_list']))\n",
    "\n",
    "# Inspect the values\n",
    "ex_df[['ex_garage_list']].distinct().show(truncate=False)"
   ]
  },
  {
   "cell_type": "code",
   "execution_count": 58,
   "metadata": {},
   "outputs": [
    {
     "name": "stdout",
     "output_type": "stream",
     "text": [
      "+--------------------+--------------------+\n",
      "|   GARAGEDESCRIPTION|         garage_list|\n",
      "+--------------------+--------------------+\n",
      "|  Driveway - Asphalt|[Driveway - Asphalt]|\n",
      "|Uncovered/Open, M...|[Uncovered/Open, ...|\n",
      "|           Tuckunder|         [Tuckunder]|\n",
      "|Attached Garage, ...|[Attached Garage,...|\n",
      "|     Attached Garage|   [Attached Garage]|\n",
      "|Attached Garage, ...|[Attached Garage,...|\n",
      "|Attached Garage, ...|[Attached Garage,...|\n",
      "|Attached Garage, ...|[Attached Garage,...|\n",
      "|Attached Garage, ...|[Attached Garage,...|\n",
      "|     Attached Garage|   [Attached Garage]|\n",
      "|     Attached Garage|   [Attached Garage]|\n",
      "|     Attached Garage|   [Attached Garage]|\n",
      "|Attached Garage, ...|[Attached Garage,...|\n",
      "|Attached Garage, ...|[Attached Garage,...|\n",
      "|Attached Garage, ...|[Attached Garage,...|\n",
      "|Attached Garage, ...|[Attached Garage,...|\n",
      "|     Attached Garage|   [Attached Garage]|\n",
      "|     Attached Garage|   [Attached Garage]|\n",
      "|Attached Garage, ...|[Attached Garage,...|\n",
      "|Attached Garage, ...|[Attached Garage,...|\n",
      "+--------------------+--------------------+\n",
      "only showing top 20 rows\n",
      "\n"
     ]
    }
   ],
   "source": [
    "# org cols\n",
    "df.select(\"GARAGEDESCRIPTION\", \"garage_list\").show()"
   ]
  },
  {
   "cell_type": "markdown",
   "metadata": {},
   "source": [
    "#### pivot / join"
   ]
  },
  {
   "cell_type": "code",
   "execution_count": 59,
   "metadata": {},
   "outputs": [],
   "source": [
    "# Lit Constant Value\n",
    "ex_df = ex_df.withColumn(\"constant_val\", F.lit(1))\n",
    "\n",
    "# Pivot \n",
    "piv_df = ex_df.groupBy('NO_').pivot('ex_garage_list').agg(F.coalesce(F.first('constant_val')))\n",
    "\n",
    "# Join the dataframes together and fill null\n",
    "joined_df = df.join(piv_df, on='NO_', how='left')\n",
    "\n",
    "# Columns to zero fill\n",
    "zfill_cols = piv_df.columns\n",
    "\n",
    "# Zero fill the pivoted values\n",
    "zfilled_df = joined_df.fillna(0, subset=zfill_cols)"
   ]
  },
  {
   "cell_type": "code",
   "execution_count": 60,
   "metadata": {},
   "outputs": [
    {
     "name": "stdout",
     "output_type": "stream",
     "text": [
      "root\n",
      " |-- NO_: integer (nullable = true)\n",
      " |-- Assigned: integer (nullable = true)\n",
      " |-- Attached Garage: integer (nullable = true)\n",
      " |-- Carport: integer (nullable = true)\n",
      " |-- Contract Pkg Required: integer (nullable = true)\n",
      " |-- Covered: integer (nullable = true)\n",
      " |-- Detached Garage: integer (nullable = true)\n",
      " |-- Driveway - Asphalt: integer (nullable = true)\n",
      " |-- Driveway - Concrete: integer (nullable = true)\n",
      " |-- Driveway - Gravel: integer (nullable = true)\n",
      " |-- Driveway - Other Surface: integer (nullable = true)\n",
      " |-- Driveway - Shared: integer (nullable = true)\n",
      " |-- Garage Door Opener: integer (nullable = true)\n",
      " |-- Heated Garage: integer (nullable = true)\n",
      " |-- Insulated Garage: integer (nullable = true)\n",
      " |-- More Parking Offsite for Fee: integer (nullable = true)\n",
      " |-- More Parking Onsite for Fee: integer (nullable = true)\n",
      " |-- No Int Access to Dwelling: integer (nullable = true)\n",
      " |-- None: integer (nullable = true)\n",
      " |-- On-Street Parking Only: integer (nullable = true)\n",
      " |-- Other: integer (nullable = true)\n",
      " |-- Secured: integer (nullable = true)\n",
      " |-- Tandem: integer (nullable = true)\n",
      " |-- Tuckunder: integer (nullable = true)\n",
      " |-- Unassigned: integer (nullable = true)\n",
      " |-- Uncovered/Open: integer (nullable = true)\n",
      " |-- Underground Garage: integer (nullable = true)\n",
      " |-- Units Vary: integer (nullable = true)\n",
      " |-- Valet Parking for Fee: integer (nullable = true)\n",
      "\n"
     ]
    }
   ],
   "source": [
    "piv_df.printSchema()"
   ]
  },
  {
   "cell_type": "code",
   "execution_count": 61,
   "metadata": {
    "scrolled": false
   },
   "outputs": [
    {
     "name": "stdout",
     "output_type": "stream",
     "text": [
      "root\n",
      " |-- NO_: integer (nullable = true)\n",
      " |-- MLSID: string (nullable = true)\n",
      " |-- STREETADDRESS: string (nullable = true)\n",
      " |-- STREETNAME: string (nullable = true)\n",
      " |-- POSTALCODE: integer (nullable = true)\n",
      " |-- STATEORPROVINCE: string (nullable = true)\n",
      " |-- CITY: string (nullable = true)\n",
      " |-- SALESCLOSEPRICE: integer (nullable = true)\n",
      " |-- LISTDATE: timestamp (nullable = true)\n",
      " |-- LISTPRICE: integer (nullable = true)\n",
      " |-- LISTTYPE: string (nullable = true)\n",
      " |-- ORIGINALLISTPRICE: integer (nullable = true)\n",
      " |-- PRICEPERTSFT: double (nullable = true)\n",
      " |-- FOUNDATIONSIZE: integer (nullable = true)\n",
      " |-- FENCE: string (nullable = true)\n",
      " |-- MAPLETTER: string (nullable = true)\n",
      " |-- SCHOOLDISTRICTNUMBER: string (nullable = true)\n",
      " |-- DAYSONMARKET: integer (nullable = true)\n",
      " |-- OFFMARKETDATE: string (nullable = true)\n",
      " |-- FIREPLACES: integer (nullable = true)\n",
      " |-- ROOMAREA4: string (nullable = true)\n",
      " |-- ROOMTYPE: string (nullable = true)\n",
      " |-- ROOF: string (nullable = true)\n",
      " |-- ROOMFLOOR4: string (nullable = true)\n",
      " |-- POTENTIALSHORTSALE: string (nullable = true)\n",
      " |-- PDOM: integer (nullable = true)\n",
      " |-- GARAGEDESCRIPTION: string (nullable = true)\n",
      " |-- SQFTABOVEGROUND: integer (nullable = true)\n",
      " |-- TAXES: integer (nullable = true)\n",
      " |-- ROOMFLOOR1: string (nullable = true)\n",
      " |-- ROOMAREA1: string (nullable = true)\n",
      " |-- TAXWITHASSESSMENTS: double (nullable = true)\n",
      " |-- TAXYEAR: integer (nullable = true)\n",
      " |-- LIVINGAREA: integer (nullable = true)\n",
      " |-- YEARBUILT: integer (nullable = true)\n",
      " |-- ZONING: string (nullable = true)\n",
      " |-- STYLE: string (nullable = true)\n",
      " |-- ACRES: double (nullable = true)\n",
      " |-- COOLINGDESCRIPTION: string (nullable = true)\n",
      " |-- APPLIANCES: string (nullable = true)\n",
      " |-- ROOMFAMILYCHAR: string (nullable = true)\n",
      " |-- ROOMAREA3: string (nullable = true)\n",
      " |-- EXTERIOR: string (nullable = true)\n",
      " |-- ROOMFLOOR3: string (nullable = true)\n",
      " |-- ROOMFLOOR2: string (nullable = true)\n",
      " |-- ROOMAREA2: string (nullable = true)\n",
      " |-- DININGROOMDESCRIPTION: string (nullable = true)\n",
      " |-- BASEMENT: string (nullable = true)\n",
      " |-- BATHSFULL: integer (nullable = true)\n",
      " |-- BATHSHALF: integer (nullable = true)\n",
      " |-- BATHQUARTER: integer (nullable = true)\n",
      " |-- BATHSTHREEQUARTER: integer (nullable = true)\n",
      " |-- CLASS: string (nullable = true)\n",
      " |-- BATHSTOTAL: integer (nullable = true)\n",
      " |-- BATHDESC: string (nullable = true)\n",
      " |-- ROOMAREA5: string (nullable = true)\n",
      " |-- ROOMFLOOR5: string (nullable = true)\n",
      " |-- ROOMAREA6: string (nullable = true)\n",
      " |-- ROOMFLOOR6: string (nullable = true)\n",
      " |-- ROOMAREA7: string (nullable = true)\n",
      " |-- ROOMFLOOR7: string (nullable = true)\n",
      " |-- BEDROOMS: integer (nullable = true)\n",
      " |-- SQFTBELOWGROUND: integer (nullable = true)\n",
      " |-- ASSOCIATIONFEE: integer (nullable = true)\n",
      " |-- ASSESSMENTPENDING: string (nullable = true)\n",
      " |-- ASSESSEDVALUATION: double (nullable = true)\n",
      " |-- percentage_scaled_days: double (nullable = true)\n",
      " |-- scaled_FOUNDATIONSIZE: double (nullable = true)\n",
      " |-- scaled_DAYSONMARKET: double (nullable = true)\n",
      " |-- scaled_FIREPLACES: double (nullable = true)\n",
      " |-- Reflect_YearBuilt: integer (nullable = true)\n",
      " |-- adj_yearbuilt: double (nullable = true)\n",
      " |-- LOT_SIZE_SQFT: double (nullable = true)\n",
      " |-- YARD_SIZE: double (nullable = true)\n",
      " |-- ASSESSED_TO_LIST: double (nullable = true)\n",
      " |-- TAX_TO_LIST: double (nullable = true)\n",
      " |-- BED_TO_BATHS: double (nullable = true)\n",
      " |-- Total_SQFT: integer (nullable = true)\n",
      " |-- BATHS_PER_1000SQFT: double (nullable = true)\n",
      " |-- List_Day_of_Week: integer (nullable = true)\n",
      " |-- list_year: integer (nullable = true)\n",
      " |-- report_year: integer (nullable = true)\n",
      " |-- City_: string (nullable = true)\n",
      " |-- MedianHomeValue: string (nullable = true)\n",
      " |-- Year: string (nullable = true)\n",
      " |-- has_attached_garage: integer (nullable = true)\n",
      " |-- garage_list: array (nullable = true)\n",
      " |    |-- element: string (containsNull = true)\n",
      " |-- Assigned: integer (nullable = true)\n",
      " |-- Attached Garage: integer (nullable = true)\n",
      " |-- Carport: integer (nullable = true)\n",
      " |-- Contract Pkg Required: integer (nullable = true)\n",
      " |-- Covered: integer (nullable = true)\n",
      " |-- Detached Garage: integer (nullable = true)\n",
      " |-- Driveway - Asphalt: integer (nullable = true)\n",
      " |-- Driveway - Concrete: integer (nullable = true)\n",
      " |-- Driveway - Gravel: integer (nullable = true)\n",
      " |-- Driveway - Other Surface: integer (nullable = true)\n",
      " |-- Driveway - Shared: integer (nullable = true)\n",
      " |-- Garage Door Opener: integer (nullable = true)\n",
      " |-- Heated Garage: integer (nullable = true)\n",
      " |-- Insulated Garage: integer (nullable = true)\n",
      " |-- More Parking Offsite for Fee: integer (nullable = true)\n",
      " |-- More Parking Onsite for Fee: integer (nullable = true)\n",
      " |-- No Int Access to Dwelling: integer (nullable = true)\n",
      " |-- None: integer (nullable = true)\n",
      " |-- On-Street Parking Only: integer (nullable = true)\n",
      " |-- Other: integer (nullable = true)\n",
      " |-- Secured: integer (nullable = true)\n",
      " |-- Tandem: integer (nullable = true)\n",
      " |-- Tuckunder: integer (nullable = true)\n",
      " |-- Unassigned: integer (nullable = true)\n",
      " |-- Uncovered/Open: integer (nullable = true)\n",
      " |-- Underground Garage: integer (nullable = true)\n",
      " |-- Units Vary: integer (nullable = true)\n",
      " |-- Valet Parking for Fee: integer (nullable = true)\n",
      "\n"
     ]
    }
   ],
   "source": [
    "joined_df.printSchema()"
   ]
  },
  {
   "cell_type": "markdown",
   "metadata": {},
   "source": [
    "#### binarize"
   ]
  },
  {
   "cell_type": "code",
   "execution_count": 62,
   "metadata": {},
   "outputs": [
    {
     "name": "stdout",
     "output_type": "stream",
     "text": [
      "+----------------+-----------------+\n",
      "|List_Day_of_Week|Listed_On_Weekend|\n",
      "+----------------+-----------------+\n",
      "|             6.0|              1.0|\n",
      "|             4.0|              0.0|\n",
      "|             6.0|              1.0|\n",
      "|             6.0|              1.0|\n",
      "|             2.0|              0.0|\n",
      "|             6.0|              1.0|\n",
      "|             2.0|              0.0|\n",
      "|             7.0|              1.0|\n",
      "|             3.0|              0.0|\n",
      "|             7.0|              1.0|\n",
      "|             6.0|              1.0|\n",
      "|             6.0|              1.0|\n",
      "|             4.0|              0.0|\n",
      "|             6.0|              1.0|\n",
      "|             3.0|              0.0|\n",
      "|             5.0|              0.0|\n",
      "|             2.0|              0.0|\n",
      "|             3.0|              0.0|\n",
      "|             6.0|              1.0|\n",
      "|             6.0|              1.0|\n",
      "+----------------+-----------------+\n",
      "only showing top 20 rows\n",
      "\n"
     ]
    }
   ],
   "source": [
    "# Cast as double\n",
    "df = df.withColumn(\"List_Day_of_Week\", F.col(\"List_Day_of_Week\").cast(\"double\"))\n",
    "\n",
    "# Import transformer\n",
    "from pyspark.ml.feature import Binarizer\n",
    "\n",
    "# Create the transformer => weekday being 0 and weekend being 1\n",
    "binarizer = Binarizer(threshold=5.0, inputCol='List_Day_of_Week', outputCol='Listed_On_Weekend')\n",
    "\n",
    "# Apply the transformation to df\n",
    "df = binarizer.transform(df)\n",
    "\n",
    "# Verify transformation\n",
    "df[['List_Day_of_Week', 'Listed_On_Weekend']].show()"
   ]
  },
  {
   "cell_type": "markdown",
   "metadata": {},
   "source": [
    "#### bucket"
   ]
  },
  {
   "cell_type": "code",
   "execution_count": 63,
   "metadata": {},
   "outputs": [],
   "source": [
    "sample_df = df.select(\"BEDROOMS\").sample(False, 0.5, 42).toPandas()"
   ]
  },
  {
   "cell_type": "code",
   "execution_count": 64,
   "metadata": {},
   "outputs": [
    {
     "name": "stdout",
     "output_type": "stream",
     "text": [
      "+--------+--------+\n",
      "|BEDROOMS|bedrooms|\n",
      "+--------+--------+\n",
      "|     1.0|     1.0|\n",
      "|     1.0|     1.0|\n",
      "|     2.0|     2.0|\n",
      "|     2.0|     2.0|\n",
      "|     2.0|     2.0|\n",
      "|     2.0|     2.0|\n",
      "|     2.0|     2.0|\n",
      "|     2.0|     2.0|\n",
      "|     2.0|     2.0|\n",
      "|     2.0|     2.0|\n",
      "|     2.0|     2.0|\n",
      "|     2.0|     2.0|\n",
      "|     2.0|     2.0|\n",
      "|     2.0|     2.0|\n",
      "|     2.0|     2.0|\n",
      "|     2.0|     2.0|\n",
      "|     2.0|     2.0|\n",
      "|     2.0|     2.0|\n",
      "|     2.0|     2.0|\n",
      "|     2.0|     2.0|\n",
      "+--------+--------+\n",
      "only showing top 20 rows\n",
      "\n"
     ]
    },
    {
     "data": {
      "image/png": "[encoded data removed]",
      "text/plain": [
       "<Figure size 432x288 with 1 Axes>"
      ]
     },
     "metadata": {
      "needs_background": "light"
     },
     "output_type": "display_data"
    }
   ],
   "source": [
    "# Import transformer\n",
    "from pyspark.ml.feature import Bucketizer\n",
    "\n",
    "# Plot distribution of sample_df\n",
    "sns.distplot(sample_df, axlabel='BEDROOMS')\n",
    "\n",
    "# Create the bucket splits and bucketizer\n",
    "splits = [0, 1, 2, 3, 4, 5, float('Inf')]\n",
    "buck = Bucketizer(splits=splits, inputCol='BEDROOMS', outputCol='bedrooms')\n",
    "\n",
    "# Apply the transformation to df\n",
    "df = buck.transform(df)\n",
    "\n",
    "# Display results\n",
    "df[['BEDROOMS', 'bedrooms']].show()"
   ]
  },
  {
   "cell_type": "markdown",
   "metadata": {},
   "source": [
    "#### encode\n",
    "\n",
    "implementation in PySpark is different than Pandas ```get_dummies()``` as it puts everything into a single column of type vector rather than a new column for each value. It's also different from sklearn's ```OneHotEncoder()``` in that the last categorical value is captured by a vector of all zeros"
   ]
  },
  {
   "cell_type": "code",
   "execution_count": 65,
   "metadata": {},
   "outputs": [
    {
     "name": "stdout",
     "output_type": "stream",
     "text": [
      "+-----------------------------+------------+-------------+\n",
      "|SCHOOLDISTRICTNUMBER         |School_Index|School_Vec   |\n",
      "+-----------------------------+------------+-------------+\n",
      "|625 - St. Paul               |0.0         |(7,[0],[1.0])|\n",
      "|834 - Stillwater             |3.0         |(7,[3],[1.0])|\n",
      "|832 - Mahtomedi              |5.0         |(7,[5],[1.0])|\n",
      "|624 - White Bear Lake        |6.0         |(7,[6],[1.0])|\n",
      "|6 - South St. Paul           |7.0         |(7,[],[])    |\n",
      "|622 - North St Paul-Maplewood|1.0         |(7,[1],[1.0])|\n",
      "|623 - Roseville              |4.0         |(7,[4],[1.0])|\n",
      "|833 - South Washington County|2.0         |(7,[2],[1.0])|\n",
      "+-----------------------------+------------+-------------+\n",
      "\n"
     ]
    }
   ],
   "source": [
    "# Import transformer\n",
    "from pyspark.ml.feature import OneHotEncoder, StringIndexer\n",
    "\n",
    "# Map strings to numbers with string indexer\n",
    "string_indexer = StringIndexer(inputCol='SCHOOLDISTRICTNUMBER', outputCol='School_Index')\n",
    "indexed_df = string_indexer.fit(df).transform(df)\n",
    "\n",
    "# Onehot encode indexed values\n",
    "encoder = OneHotEncoder(inputCol='School_Index', outputCol='School_Vec')\n",
    "encoded_df = encoder.transform(indexed_df)\n",
    "\n",
    "# Inspect the transformation steps\n",
    "encoded_df[['SCHOOLDISTRICTNUMBER', 'School_Index', 'School_Vec']].distinct().show(truncate=False)"
   ]
  },
  {
   "cell_type": "markdown",
   "metadata": {},
   "source": [
    "## _4. Building a Model_:\n",
    "-  ```ml.regression```\n",
    "-  ```ml.classification```\n",
    "-  ```ml.clustering```\n",
    "-  ```ml.fpm```\n",
    "-  ```ml.recommendation```"
   ]
  },
  {
   "cell_type": "markdown",
   "metadata": {},
   "source": [
    "#### time series train / test split"
   ]
  },
  {
   "cell_type": "code",
   "execution_count": 66,
   "metadata": {},
   "outputs": [],
   "source": [
    "from datetime import datetime, timedelta\n",
    "\n",
    "ts_schema = T.StructType([T.StructField('OFFMKTDATE', T.StringType()),\\\n",
    "                          T.StructField('DAYSONMARKET', T.IntegerType()),\\\n",
    "                          T.StructField('LISTDATE', T.StringType())])"
   ]
  },
  {
   "cell_type": "code",
   "execution_count": 67,
   "metadata": {},
   "outputs": [],
   "source": [
    "ts_df = spark\\\n",
    ".createDataFrame\\\n",
    "([Row(OFFMKTDATE='2017-07-30 00:00:00', DAYSONMARKET=10, LISTDATE='2017-07-15 00:00:00'),\n",
    " Row(OFFMKTDATE='2017-10-13 00:00:00', DAYSONMARKET=4, LISTDATE='2017-10-09 00:00:00'),\n",
    " Row(OFFMKTDATE='2017-07-24 00:00:00', DAYSONMARKET=28, LISTDATE='2017-06-26 00:00:00'),\n",
    " Row(OFFMKTDATE='2017-09-13 00:00:00', DAYSONMARKET=19, LISTDATE='2017-08-25 00:00:00'),\n",
    " Row(OFFMKTDATE='2017-10-03 00:00:00', DAYSONMARKET=21, LISTDATE='2017-09-12 00:00:00'),\n",
    " Row(OFFMKTDATE='2017-04-27 00:00:00', DAYSONMARKET=17, LISTDATE='2017-04-10 00:00:00'),\n",
    " Row(OFFMKTDATE='2017-07-10 00:00:00', DAYSONMARKET=32, LISTDATE='2017-06-08 00:00:00'),\n",
    " Row(OFFMKTDATE='2017-11-10 00:00:00', DAYSONMARKET=5, LISTDATE='2017-11-05 00:00:00'),\n",
    " Row(OFFMKTDATE='2017-11-11 00:00:00', DAYSONMARKET=23, LISTDATE='2017-10-12 00:00:00'),\n",
    " Row(OFFMKTDATE='2017-11-20 00:00:00', DAYSONMARKET=73, LISTDATE='2017-09-02 00:00:00'),\n",
    " Row(OFFMKTDATE='2017-08-07 00:00:00', DAYSONMARKET=80, LISTDATE='2017-05-19 00:00:00'),\n",
    " Row(OFFMKTDATE='2017-07-29 00:00:00', DAYSONMARKET=79, LISTDATE='2017-05-11 00:00:00'),\n",
    " Row(OFFMKTDATE='2018-01-24 00:00:00', DAYSONMARKET=12, LISTDATE='2017-10-06 00:00:00'),\n",
    " Row(OFFMKTDATE='2017-06-11 00:00:00', DAYSONMARKET=1, LISTDATE='2017-03-06 00:00:00'),\n",
    " Row(OFFMKTDATE='2017-06-05 00:00:00', DAYSONMARKET=18, LISTDATE='2017-05-18 00:00:00'),\n",
    " Row(OFFMKTDATE='2017-10-17 00:00:00', DAYSONMARKET=2, LISTDATE='2017-10-15 00:00:00'),\n",
    " Row(OFFMKTDATE='2017-09-22 00:00:00', DAYSONMARKET=12, LISTDATE='2017-09-10 00:00:00'),\n",
    " Row(OFFMKTDATE='2017-10-16 00:00:00', DAYSONMARKET=45, LISTDATE='2017-09-01 00:00:00'),\n",
    " Row(OFFMKTDATE='2017-06-06 00:00:00', DAYSONMARKET=31, LISTDATE='2017-05-06 00:00:00'),\n",
    " Row(OFFMKTDATE='2017-08-27 00:00:00', DAYSONMARKET=16, LISTDATE='2017-08-11 00:00:00'),\n",
    " Row(OFFMKTDATE='2017-03-06 00:00:00', DAYSONMARKET=3, LISTDATE='2017-03-03 00:00:00'),\n",
    " Row(OFFMKTDATE='2017-04-25 00:00:00', DAYSONMARKET=50, LISTDATE='2017-03-06 00:00:00'),\n",
    " Row(OFFMKTDATE='2017-09-30 00:00:00', DAYSONMARKET=40, LISTDATE='2017-06-26 00:00:00'),\n",
    " Row(OFFMKTDATE='2017-06-12 00:00:00', DAYSONMARKET=6, LISTDATE='2017-05-13 00:00:00'),\n",
    " Row(OFFMKTDATE='2017-06-26 00:00:00', DAYSONMARKET=32, LISTDATE='2017-05-12 00:00:00'),\n",
    " Row(OFFMKTDATE='2017-07-25 00:00:00', DAYSONMARKET=19, LISTDATE='2017-07-06 00:00:00'),\n",
    " Row(OFFMKTDATE='2017-05-12 00:00:00', DAYSONMARKET=8, LISTDATE='2017-05-04 00:00:00'),\n",
    " Row(OFFMKTDATE='2017-05-01 00:00:00', DAYSONMARKET=14, LISTDATE='2017-04-17 00:00:00'),\n",
    " Row(OFFMKTDATE='2018-01-02 00:00:00', DAYSONMARKET=2, LISTDATE='2017-11-25 00:00:00'),\n",
    " Row(OFFMKTDATE='2017-12-15 00:00:00', DAYSONMARKET=29, LISTDATE='2017-10-03 00:00:00'),\n",
    " Row(OFFMKTDATE='2017-05-05 00:00:00', DAYSONMARKET=27, LISTDATE='2017-04-08 00:00:00'),\n",
    " Row(OFFMKTDATE='2017-07-17 00:00:00', DAYSONMARKET=7, LISTDATE='2017-06-08 00:00:00'),\n",
    " Row(OFFMKTDATE='2017-06-19 00:00:00', DAYSONMARKET=18, LISTDATE='2017-06-01 00:00:00'),\n",
    " Row(OFFMKTDATE='2017-11-14 00:00:00', DAYSONMARKET=39, LISTDATE='2017-10-06 00:00:00'),\n",
    " Row(OFFMKTDATE='2017-10-10 00:00:00', DAYSONMARKET=38, LISTDATE='2017-09-02 00:00:00'),\n",
    " Row(OFFMKTDATE='2017-08-03 00:00:00', DAYSONMARKET=8, LISTDATE='2017-07-26 00:00:00'),\n",
    " Row(OFFMKTDATE='2017-06-12 00:00:00', DAYSONMARKET=55, LISTDATE='2017-04-17 00:00:00'),\n",
    " Row(OFFMKTDATE='2017-07-10 00:00:00', DAYSONMARKET=54, LISTDATE='2017-05-17 00:00:00'),\n",
    " Row(OFFMKTDATE='2017-07-13 00:00:00', DAYSONMARKET=59, LISTDATE='2017-05-15 00:00:00'),\n",
    " Row(OFFMKTDATE='2018-01-17 00:00:00', DAYSONMARKET=20, LISTDATE='2017-09-09 00:00:00'),\n",
    " Row(OFFMKTDATE='2017-07-05 00:00:00', DAYSONMARKET=0, LISTDATE='2017-07-05 00:00:00'),\n",
    " Row(OFFMKTDATE='2017-03-14 00:00:00', DAYSONMARKET=6, LISTDATE='2017-03-08 00:00:00'),\n",
    " Row(OFFMKTDATE='2017-10-11 00:00:00', DAYSONMARKET=0, LISTDATE='2017-10-11 00:00:00'),\n",
    " Row(OFFMKTDATE='2017-09-18 00:00:00', DAYSONMARKET=71, LISTDATE='2017-07-09 00:00:00'),\n",
    " Row(OFFMKTDATE='2017-05-25 00:00:00', DAYSONMARKET=14, LISTDATE='2017-05-11 00:00:00'),\n",
    " Row(OFFMKTDATE='2017-07-10 00:00:00', DAYSONMARKET=72, LISTDATE='2017-04-29 00:00:00'),\n",
    " Row(OFFMKTDATE='2017-10-09 00:00:00', DAYSONMARKET=27, LISTDATE='2017-09-12 00:00:00'),\n",
    " Row(OFFMKTDATE='2017-05-09 00:00:00', DAYSONMARKET=26, LISTDATE='2017-04-13 00:00:00'),\n",
    " Row(OFFMKTDATE='2017-09-18 00:00:00', DAYSONMARKET=66, LISTDATE='2017-07-14 00:00:00'),\n",
    " Row(OFFMKTDATE='2017-12-13 00:00:00', DAYSONMARKET=146, LISTDATE='2017-10-27 00:00:00')], schema=ts_schema)"
   ]
  },
  {
   "cell_type": "code",
   "execution_count": 68,
   "metadata": {},
   "outputs": [],
   "source": [
    "ts_df = ts_df\\\n",
    ".select(F.col(\"OFFMKTDATE\")\\\n",
    "        .cast(\"timestamp\"),\\\n",
    "        \"DAYSONMARKET\", F.col(\"LISTDATE\")\\\n",
    "        .cast(\"timestamp\"))"
   ]
  },
  {
   "cell_type": "code",
   "execution_count": 69,
   "metadata": {},
   "outputs": [],
   "source": [
    "def train_test_split_date(df, split_col, test_days=45):\n",
    "  \"\"\"Calculate the date to split test and training sets\"\"\"\n",
    "  # Find how many days our data spans\n",
    "  max_date = df.agg({split_col: 'max'}).collect()[0][0]\n",
    "  min_date = df.agg({split_col: 'min'}).collect()[0][0]\n",
    "  # Subtract an integer number of days from the last date in dataset\n",
    "  split_date = max_date - timedelta(days=test_days)\n",
    "  return split_date\n",
    "\n",
    "# Find the date to use in spitting test and train\n",
    "split_date = train_test_split_date(ts_df, 'OFFMKTDATE')\n",
    "\n",
    "# Create Sequential Test and Training Sets\n",
    "train_df = ts_df.where(ts_df['OFFMKTDATE'] < split_date)\n",
    "test_df = ts_df.where(ts_df['OFFMKTDATE'] >= split_date).where(ts_df['LISTDATE'] <= split_date)"
   ]
  },
  {
   "cell_type": "code",
   "execution_count": 70,
   "metadata": {},
   "outputs": [
    {
     "name": "stdout",
     "output_type": "stream",
     "text": [
      "+-------------------+-------------------+---------------------+------------+\n",
      "|           LISTDATE|         OFFMKTDATE|DAYSONMARKET_Original|DAYSONMARKET|\n",
      "+-------------------+-------------------+---------------------+------------+\n",
      "|2017-10-06 00:00:00|2018-01-24 00:00:00|                   12|          65|\n",
      "|2017-11-25 00:00:00|2018-01-02 00:00:00|                    2|          15|\n",
      "|2017-10-03 00:00:00|2017-12-15 00:00:00|                   29|          68|\n",
      "|2017-09-09 00:00:00|2018-01-17 00:00:00|                   20|          92|\n",
      "|2017-10-27 00:00:00|2017-12-13 00:00:00|                  146|          44|\n",
      "+-------------------+-------------------+---------------------+------------+\n",
      "\n"
     ]
    }
   ],
   "source": [
    "split_date = F.to_date(F.lit('2017-12-10'))\n",
    "# Create Sequential Test set\n",
    "test_df = ts_df.where(ts_df['OFFMKTDATE'] >= split_date).where(ts_df['LISTDATE'] <= split_date)\n",
    "\n",
    "# Create a copy of DAYSONMARKET to review later\n",
    "test_df = test_df.withColumn('DAYSONMARKET_Original', test_df['DAYSONMARKET'])\n",
    "\n",
    "# Recalculate DAYSONMARKET from what we know on our split date\n",
    "test_df = test_df.withColumn('DAYSONMARKET', F.datediff(split_date, 'LISTDATE'))\n",
    "\n",
    "# Review the difference\n",
    "test_df[['LISTDATE', 'OFFMKTDATE', 'DAYSONMARKET_Original', 'DAYSONMARKET']].show()"
   ]
  },
  {
   "cell_type": "markdown",
   "metadata": {},
   "source": [
    "#### feature engineering => dropping cols w/ low observations"
   ]
  },
  {
   "cell_type": "code",
   "execution_count": 71,
   "metadata": {},
   "outputs": [],
   "source": [
    "binary_cols = [\n",
    " 'ASSIGNED',\n",
    " 'TANDEM',\n",
    " 'UNCOVERED/OPEN',\n",
    " 'TUCKUNDER',\n",
    " 'DRIVEWAY - ASPHALT',\n",
    " 'HEATED GARAGE',\n",
    " 'UNDERGROUND GARAGE',\n",
    " 'DRIVEWAY - SHARED',\n",
    " 'CONTRACT PKG REQUIRED',\n",
    " 'GARAGE DOOR OPENER',\n",
    " 'MORE PARKING OFFSITE FOR FEE',\n",
    " 'VALET PARKING FOR FEE',\n",
    " 'OTHER',\n",
    " 'MORE PARKING ONSITE FOR FEE',\n",
    " 'GDRIVEWAY - OTHER SURFACE',\n",
    " 'DETACHED GARAGE',\n",
    " 'SECURED',\n",
    " 'CARPORT',\n",
    " 'DRIVEWAY - CONCRETE',\n",
    " 'ON-STREET PARKING ONLY',\n",
    " 'COVERED',\n",
    " 'INSULATED GARAGE',\n",
    " 'UNASSIGNED',\n",
    " 'NONE',\n",
    " 'DRIVEWAY - GRAVEL',\n",
    " 'NO INT ACCESS TO DWELLING',\n",
    " 'UNITS VARY',\n",
    " 'ATTACHED GARAGE']\n",
    "\n",
    "binary_cols = [i.lower().title() for i in binary_cols]"
   ]
  },
  {
   "cell_type": "code",
   "execution_count": 72,
   "metadata": {
    "scrolled": false
   },
   "outputs": [],
   "source": [
    "cols = zfilled_df.columns[-28:]"
   ]
  },
  {
   "cell_type": "code",
   "execution_count": 73,
   "metadata": {},
   "outputs": [],
   "source": [
    "zfilled_df = zfilled_df.select(*cols)"
   ]
  },
  {
   "cell_type": "code",
   "execution_count": 74,
   "metadata": {},
   "outputs": [
    {
     "name": "stdout",
     "output_type": "stream",
     "text": [
      "root\n",
      " |-- Assigned: integer (nullable = true)\n",
      " |-- Attached Garage: integer (nullable = true)\n",
      " |-- Carport: integer (nullable = true)\n",
      " |-- Contract Pkg Required: integer (nullable = true)\n",
      " |-- Covered: integer (nullable = true)\n",
      " |-- Detached Garage: integer (nullable = true)\n",
      " |-- Driveway - Asphalt: integer (nullable = true)\n",
      " |-- Driveway - Concrete: integer (nullable = true)\n",
      " |-- Driveway - Gravel: integer (nullable = true)\n",
      " |-- Driveway - Other Surface: integer (nullable = true)\n",
      " |-- Driveway - Shared: integer (nullable = true)\n",
      " |-- Garage Door Opener: integer (nullable = true)\n",
      " |-- Heated Garage: integer (nullable = true)\n",
      " |-- Insulated Garage: integer (nullable = true)\n",
      " |-- More Parking Offsite for Fee: integer (nullable = true)\n",
      " |-- More Parking Onsite for Fee: integer (nullable = true)\n",
      " |-- No Int Access to Dwelling: integer (nullable = true)\n",
      " |-- None: integer (nullable = true)\n",
      " |-- On-Street Parking Only: integer (nullable = true)\n",
      " |-- Other: integer (nullable = true)\n",
      " |-- Secured: integer (nullable = true)\n",
      " |-- Tandem: integer (nullable = true)\n",
      " |-- Tuckunder: integer (nullable = true)\n",
      " |-- Unassigned: integer (nullable = true)\n",
      " |-- Uncovered/Open: integer (nullable = true)\n",
      " |-- Underground Garage: integer (nullable = true)\n",
      " |-- Units Vary: integer (nullable = true)\n",
      " |-- Valet Parking for Fee: integer (nullable = true)\n",
      "\n"
     ]
    }
   ],
   "source": [
    "zfilled_df.printSchema()"
   ]
  },
  {
   "cell_type": "code",
   "execution_count": 75,
   "metadata": {},
   "outputs": [
    {
     "name": "stdout",
     "output_type": "stream",
     "text": [
      "Rows: 4976 Columns: 28\n",
      "Rows: 4976 Columns: 27\n"
     ]
    }
   ],
   "source": [
    "obs_threshold = 30\n",
    "cols_to_remove = list()\n",
    "# Inspect first 10 binary columns in list\n",
    "for col in binary_cols[0:10]:\n",
    "  # Count the number of 1 values in the binary column\n",
    "  obs_count = zfilled_df.agg({col:'sum'}).collect()[0][0]\n",
    "  # If less than our observation threshold, remove\n",
    "  if obs_count <= obs_threshold:\n",
    "    cols_to_remove.append(col)\n",
    "    \n",
    "# Drop columns and print starting and ending dataframe shapes\n",
    "new_df = zfilled_df.drop(*cols_to_remove)\n",
    "\n",
    "print('Rows: ' + str(zfilled_df.count()) + ' Columns: ' + str(len(zfilled_df.columns)))\n",
    "print('Rows: ' + str(new_df.count()) + ' Columns: ' + str(len(new_df.columns)))"
   ]
  },
  {
   "cell_type": "markdown",
   "metadata": {},
   "source": [
    "#### feature engineering => replace missing values + convert categoricals to numeric index"
   ]
  },
  {
   "cell_type": "code",
   "execution_count": 76,
   "metadata": {},
   "outputs": [],
   "source": [
    "rf_schema = T.StructType([T.StructField('CITY', T.StringType()),\\\n",
    "                          T.StructField('LISTTYPE', T.StringType()),\\\n",
    "                          T.StructField('SCHOOLDISTRICTNUMBER', T.StringType()),\\\n",
    "                          T.StructField('POTENTIALSHORTSALE', T.StringType()),\\\n",
    "                          T.StructField('STYLE', T.StringType()),\\\n",
    "                          T.StructField('ASSUMABLEMORTGAGE', T.StringType()),\\\n",
    "                          T.StructField('ASSESSMENTPENDING', T.StringType()),\\\n",
    "                          T.StructField('WALKSCORE', T.DoubleType()),\\\n",
    "                          T.StructField('BIKESCORE', T.DoubleType())])"
   ]
  },
  {
   "cell_type": "code",
   "execution_count": 77,
   "metadata": {},
   "outputs": [],
   "source": [
    "rf_df = spark\\\n",
    ".createDataFrame(\\\n",
    "[Row(CITY='LELM - Lake Elmo', LISTTYPE='Exclusive Right', SCHOOLDISTRICTNUMBER='834 - Stillwater', POTENTIALSHORTSALE='No', STYLE='(SF) One Story', ASSUMABLEMORTGAGE=None, ASSESSMENTPENDING='Unknown', WALKSCORE=25.0, BIKESCORE=None),\n",
    " Row(CITY='LELM - Lake Elmo', LISTTYPE='Exclusive Right', SCHOOLDISTRICTNUMBER='834 - Stillwater', POTENTIALSHORTSALE='No', STYLE='(SF) Split Entry (Bi-Level)', ASSUMABLEMORTGAGE=None, ASSESSMENTPENDING='Unknown', WALKSCORE=2.0, BIKESCORE=None),\n",
    " Row(CITY='LELM - Lake Elmo', LISTTYPE='Exclusive Right', SCHOOLDISTRICTNUMBER='622 - North St Paul-Maplewood', POTENTIALSHORTSALE='No', STYLE='(SF) One Story', ASSUMABLEMORTGAGE='Not Assumable', ASSESSMENTPENDING='No', WALKSCORE=25.0, BIKESCORE=None),\n",
    " Row(CITY='LELM - Lake Elmo', LISTTYPE='Exclusive Right', SCHOOLDISTRICTNUMBER='834 - Stillwater', POTENTIALSHORTSALE='No', STYLE='(SF) One Story', ASSUMABLEMORTGAGE=None, ASSESSMENTPENDING='Unknown', WALKSCORE=2.0, BIKESCORE=None),\n",
    " Row(CITY='LELM - Lake Elmo', LISTTYPE='Exclusive Right', SCHOOLDISTRICTNUMBER='622 - North St Paul-Maplewood', POTENTIALSHORTSALE='No', STYLE='(SF) Split Entry (Bi-Level)', ASSUMABLEMORTGAGE=None, ASSESSMENTPENDING='No', WALKSCORE=40.0, BIKESCORE=None),\n",
    " Row(CITY='LELM - Lake Elmo', LISTTYPE='Exclusive Right', SCHOOLDISTRICTNUMBER='834 - Stillwater', POTENTIALSHORTSALE='No', STYLE='(SF) One Story', ASSUMABLEMORTGAGE='Not Assumable', ASSESSMENTPENDING='No', WALKSCORE=11.0, BIKESCORE=None),\n",
    " Row(CITY='LELM - Lake Elmo', LISTTYPE='Exclusive Right', SCHOOLDISTRICTNUMBER='834 - Stillwater', POTENTIALSHORTSALE='No', STYLE='(TH) Side x Side', ASSUMABLEMORTGAGE=None, ASSESSMENTPENDING='Yes', WALKSCORE=11.0, BIKESCORE=None),\n",
    " Row(CITY='LELM - Lake Elmo', LISTTYPE='Exclusive Right', SCHOOLDISTRICTNUMBER='834 - Stillwater', POTENTIALSHORTSALE='No', STYLE='(TH) Quad/4 Corners', ASSUMABLEMORTGAGE=None, ASSESSMENTPENDING='No', WALKSCORE=11.0, BIKESCORE=None),\n",
    " Row(CITY='LELM - Lake Elmo', LISTTYPE='Exclusive Right', SCHOOLDISTRICTNUMBER='834 - Stillwater', POTENTIALSHORTSALE='No', STYLE='(TH) Quad/4 Corners', ASSUMABLEMORTGAGE=None, ASSESSMENTPENDING='No', WALKSCORE=11.0, BIKESCORE=None),\n",
    " Row(CITY='LELM - Lake Elmo', LISTTYPE='Exclusive Right', SCHOOLDISTRICTNUMBER='834 - Stillwater', POTENTIALSHORTSALE='No', STYLE='(TH) Quad/4 Corners', ASSUMABLEMORTGAGE=None, ASSESSMENTPENDING='No', WALKSCORE=11.0, BIKESCORE=None),\n",
    " Row(CITY='LELM - Lake Elmo', LISTTYPE='Exclusive Right', SCHOOLDISTRICTNUMBER='834 - Stillwater', POTENTIALSHORTSALE='No', STYLE='(TH) Quad/4 Corners', ASSUMABLEMORTGAGE=None, ASSESSMENTPENDING='No', WALKSCORE=11.0, BIKESCORE=None),\n",
    " Row(CITY='LELM - Lake Elmo', LISTTYPE='Exclusive Right', SCHOOLDISTRICTNUMBER='834 - Stillwater', POTENTIALSHORTSALE='No', STYLE='(TH) Quad/4 Corners', ASSUMABLEMORTGAGE=None, ASSESSMENTPENDING='No', WALKSCORE=11.0, BIKESCORE=None),\n",
    " Row(CITY='LELM - Lake Elmo', LISTTYPE='Exclusive Right', SCHOOLDISTRICTNUMBER='834 - Stillwater', POTENTIALSHORTSALE='No', STYLE='(TH) Quad/4 Corners', ASSUMABLEMORTGAGE=None, ASSESSMENTPENDING='No', WALKSCORE=11.0, BIKESCORE=None),\n",
    " Row(CITY='LELM - Lake Elmo', LISTTYPE='Exclusive Right', SCHOOLDISTRICTNUMBER='834 - Stillwater', POTENTIALSHORTSALE='No', STYLE='(TH) Quad/4 Corners', ASSUMABLEMORTGAGE=None, ASSESSMENTPENDING='No', WALKSCORE=0.0, BIKESCORE=None),\n",
    " Row(CITY='LELM - Lake Elmo', LISTTYPE='Exclusive Right', SCHOOLDISTRICTNUMBER='834 - Stillwater', POTENTIALSHORTSALE='No', STYLE='(SF) One Story', ASSUMABLEMORTGAGE=None, ASSESSMENTPENDING='Yes', WALKSCORE=11.0, BIKESCORE=None),\n",
    " Row(CITY='LELM - Lake Elmo', LISTTYPE='Exclusive Right', SCHOOLDISTRICTNUMBER='834 - Stillwater', POTENTIALSHORTSALE='No', STYLE='(TH) Quad/4 Corners', ASSUMABLEMORTGAGE=None, ASSESSMENTPENDING='No', WALKSCORE=11.0, BIKESCORE=None),\n",
    " Row(CITY='LELM - Lake Elmo', LISTTYPE='Exclusive Right', SCHOOLDISTRICTNUMBER='834 - Stillwater', POTENTIALSHORTSALE='No', STYLE='(TH) Quad/4 Corners', ASSUMABLEMORTGAGE=None, ASSESSMENTPENDING='No', WALKSCORE=11.0, BIKESCORE=None),\n",
    " Row(CITY='LELM - Lake Elmo', LISTTYPE='Exclusive Right', SCHOOLDISTRICTNUMBER='834 - Stillwater', POTENTIALSHORTSALE='No', STYLE='(TH) Quad/4 Corners', ASSUMABLEMORTGAGE=None, ASSESSMENTPENDING='No', WALKSCORE=11.0, BIKESCORE=None),\n",
    " Row(CITY='LELM - Lake Elmo', LISTTYPE='Exclusive Right', SCHOOLDISTRICTNUMBER='834 - Stillwater', POTENTIALSHORTSALE='No', STYLE='(TH) Quad/4 Corners', ASSUMABLEMORTGAGE=None, ASSESSMENTPENDING='No', WALKSCORE=11.0, BIKESCORE=None),\n",
    " Row(CITY='LELM - Lake Elmo', LISTTYPE='Exclusive Right', SCHOOLDISTRICTNUMBER='834 - Stillwater', POTENTIALSHORTSALE='No', STYLE='(TH) Quad/4 Corners', ASSUMABLEMORTGAGE=None, ASSESSMENTPENDING='No', WALKSCORE=8.0, BIKESCORE=None),\n",
    " Row(CITY='LELM - Lake Elmo', LISTTYPE='Exclusive Right', SCHOOLDISTRICTNUMBER='834 - Stillwater', POTENTIALSHORTSALE='No', STYLE='(TH) Side x Side', ASSUMABLEMORTGAGE=None, ASSESSMENTPENDING='No', WALKSCORE=8.0, BIKESCORE=None),\n",
    " Row(CITY='LELM - Lake Elmo', LISTTYPE='Exclusive Right', SCHOOLDISTRICTNUMBER='834 - Stillwater', POTENTIALSHORTSALE='No', STYLE='(TH) Side x Side', ASSUMABLEMORTGAGE=None, ASSESSMENTPENDING='No', WALKSCORE=0.0, BIKESCORE=None),\n",
    " Row(CITY='LELM - Lake Elmo', LISTTYPE='Exclusive Right', SCHOOLDISTRICTNUMBER='834 - Stillwater', POTENTIALSHORTSALE='No', STYLE='(SF) Split Entry (Bi-Level)', ASSUMABLEMORTGAGE='Not Assumable', ASSESSMENTPENDING='No', WALKSCORE=5.0, BIKESCORE=None),\n",
    " Row(CITY='LELM - Lake Elmo', LISTTYPE='Exclusive Right', SCHOOLDISTRICTNUMBER='834 - Stillwater', POTENTIALSHORTSALE='No', STYLE='(SF) One Story', ASSUMABLEMORTGAGE=None, ASSESSMENTPENDING='Yes', WALKSCORE=1.0, BIKESCORE=None),\n",
    " Row(CITY='LELM - Lake Elmo', LISTTYPE='Exclusive Right', SCHOOLDISTRICTNUMBER='622 - North St Paul-Maplewood', POTENTIALSHORTSALE='No', STYLE='(SF) Two Stories', ASSUMABLEMORTGAGE='Not Assumable', ASSESSMENTPENDING='Unknown', WALKSCORE=5.0, BIKESCORE=None)],\\\n",
    " schema=rf_schema)\n"
   ]
  },
  {
   "cell_type": "code",
   "execution_count": 78,
   "metadata": {},
   "outputs": [],
   "source": [
    "categorical_cols = ['CITY',\n",
    " 'LISTTYPE',\n",
    " 'SCHOOLDISTRICTNUMBER',\n",
    " 'POTENTIALSHORTSALE',\n",
    " 'STYLE',\n",
    " 'ASSUMABLEMORTGAGE',\n",
    " 'ASSESSMENTPENDING']"
   ]
  },
  {
   "cell_type": "code",
   "execution_count": 79,
   "metadata": {},
   "outputs": [
    {
     "name": "stdout",
     "output_type": "stream",
     "text": [
      "('WALKSCORE', 'double')\n",
      "('BIKESCORE', 'double')\n",
      "('CITY_IDX', 'double')\n",
      "('LISTTYPE_IDX', 'double')\n",
      "('SCHOOLDISTRICTNUMBER_IDX', 'double')\n",
      "('POTENTIALSHORTSALE_IDX', 'double')\n",
      "('STYLE_IDX', 'double')\n",
      "('ASSUMABLEMORTGAGE_IDX', 'double')\n",
      "('ASSESSMENTPENDING_IDX', 'double')\n"
     ]
    }
   ],
   "source": [
    "# Import\n",
    "from pyspark.ml import Pipeline\n",
    "from pyspark.ml.feature import StringIndexer\n",
    "\n",
    "# Replace missing values\n",
    "rf_df = rf_df.fillna(-1, subset=['WALKSCORE', 'BIKESCORE'])\n",
    "\n",
    "# Create list of StringIndexers using list comprehension\n",
    "indexers = [StringIndexer(inputCol=col, outputCol=col+\"_IDX\")\\\n",
    "            .setHandleInvalid(\"keep\") for col in categorical_cols]\n",
    "\n",
    "# Create pipeline of indexers\n",
    "indexer_pipeline = Pipeline(stages=indexers)\n",
    "# Fit and Transform the pipeline to the original data\n",
    "df_indexed = indexer_pipeline.fit(rf_df).transform(rf_df)\n",
    "\n",
    "# Clean up redundant columns\n",
    "df_indexed = df_indexed.drop(*categorical_cols)\n",
    "# Inspect data transformations\n",
    "for i in df_indexed.dtypes: print(i)"
   ]
  },
  {
   "cell_type": "markdown",
   "metadata": {},
   "source": [
    "#### split / train model"
   ]
  },
  {
   "cell_type": "code",
   "execution_count": 80,
   "metadata": {},
   "outputs": [],
   "source": [
    "from pyspark.ml.linalg import SparseVector, VectorUDT\n",
    "\n",
    "sparse_model_rdd = sc\\\n",
    ".parallelize(\\\n",
    "[(SparseVector(135, {0: 139900.0, 1: 139900.0, 2: 980.0, 3: 10.0, 5: 980.0, 6: 1858.0, 7: 1858.0, 8: 980.0, 9: 1950.0, 10: 1.28, 11: 1.0, 12: 1.0, 15: 2.0, 16: 3.0, 20: 2017.0, 21: 7.0, 22: 28.0, 23: 15.0, 24: 196.0, 25: 25.0, 26: -1.0, 27: 4.03, 28: 3.96, 29: 3.88, 30: 3.9, 31: 3.91, 32: 9.8, 33: 22.4, 34: 67.8, 35: 49.8, 36: 11.9, 37: 2.7, 38: 0.2926, 39: 142.7551, 40: 980.0, 41: 0.0133, 42: 1.5, 43: 1.0, 51: -1.0, 52: -1.0, 53: -1.0, 54: -1.0, 55: -1.0, 56: -1.0, 57: -1.0, 62: 1.0, 68: 1.0, 77: 1.0, 81: 1.0, 89: 1.0, 95: 1.0, 96: 1.0, 101: 1.0, 103: 1.0, 108: 1.0, 114: 1.0, 115: 1.0, 123: 1.0, 133: 1.0}), 143000),\n",
    " (SparseVector(135, {0: 210000.0, 1: 210000.0, 2: 1144.0, 3: 4.0, 5: 1268.0, 6: 1640.0, 7: 1640.0, 8: 2228.0, 9: 1971.0, 10: 0.32, 11: 1.0, 14: 2.0, 15: 3.0, 16: 4.0, 17: 960.0, 20: 2017.0, 21: 10.0, 22: 41.0, 23: 9.0, 24: 282.0, 25: 2.0, 26: -1.0, 27: 3.91, 28: 3.85, 29: 3.83, 30: 3.83, 31: 3.78, 32: 32.2, 33: 49.0, 34: 18.8, 35: 14.0, 36: 35.8, 37: 14.6, 38: 0.4392, 39: 94.2549, 40: 2228.0, 41: 0.0078, 42: 1.3333, 43: -1.0, 44: -1.0, 45: -1.0, 46: -1.0, 47: -1.0, 48: -1.0, 49: -1.0, 50: -1.0, 52: 1.0, 55: -1.0, 56: -1.0, 57: -1.0, 62: 1.0, 68: 1.0, 77: 1.0, 79: 1.0, 89: 1.0, 92: 1.0, 96: 1.0, 101: 1.0, 103: 1.0, 108: 1.0, 114: 1.0, 115: 1.0, 124: 1.0, 133: 1.0}), 190000),\n",
    " (SparseVector(135, {0: 225000.0, 1: 225000.0, 2: 1102.0, 3: 28.0, 5: 1102.0, 6: 2390.0, 7: 2390.0, 8: 1102.0, 9: 1949.0, 10: 0.822, 11: 1.0, 15: 1.0, 16: 2.0, 20: 2017.0, 21: 6.0, 22: 26.0, 23: 26.0, 24: 177.0, 25: 25.0, 26: -1.0, 27: 3.88, 28: 3.9, 29: 3.91, 30: 3.89, 31: 3.94, 32: 9.8, 33: 22.4, 34: 67.8, 35: 61.7, 36: 2.7, 38: 0.4706, 39: 204.1742, 40: 1102.0, 41: 0.0106, 42: 2.0, 49: 1.0, 51: -1.0, 52: -1.0, 53: -1.0, 54: -1.0, 57: 1.0, 62: 1.0, 68: 1.0, 70: 1.0, 79: 1.0, 89: 1.0, 92: 1.0, 96: 1.0, 100: 1.0, 103: 1.0, 108: 1.0, 110: 1.0, 115: 1.0, 123: 1.0, 131: 1.0, 132: 1.0}), 225000),\n",
    " (SparseVector(135, {0: 230000.0, 1: 230000.0, 2: 959.0, 3: 19.0, 4: 1.0, 5: 1284.0, 6: 2146.0, 7: 2146.0, 8: 1632.0, 9: 1960.0, 10: 0.94, 11: 1.0, 12: 1.0, 15: 2.0, 16: 2.0, 17: 348.0, 20: 2017.0, 21: 8.0, 22: 34.0, 23: 25.0, 24: 237.0, 25: 2.0, 26: -1.0, 27: 3.86, 28: 3.89, 29: 3.9, 30: 3.93, 31: 3.92, 32: 9.8, 33: 22.4, 34: 67.8, 35: 61.7, 36: 2.7, 38: 0.4811, 39: 140.9314, 40: 1632.0, 41: 0.0093, 42: 1.0, 49: 1.0, 52: 1.0, 57: 1.0, 62: 1.0, 68: 1.0, 72: 1.0, 78: -1.0, 79: -1.0, 80: -1.0, 81: -1.0, 82: -1.0, 83: -1.0, 89: 1.0, 92: 1.0, 96: 1.0, 101: 1.0, 103: 1.0, 108: 1.0, 114: 1.0, 115: 1.0, 123: 1.0, 133: 1.0}), 265000),\n",
    " (SparseVector(135, {0: 239900.0, 1: 239900.0, 2: 1026.0, 3: 21.0, 4: 1.0, 5: 1026.0, 6: 2010.0, 7: 2010.0, 8: 2052.0, 9: 1978.0, 11: 1.0, 14: 1.0, 15: 2.0, 16: 3.0, 17: 1026.0, 20: 2017.0, 21: 9.0, 22: 37.0, 23: 12.0, 24: 255.0, 25: 40.0, 26: -1.0, 27: 3.78, 28: 3.78, 29: 3.82, 30: 3.86, 31: 3.89, 32: 32.2, 33: 49.0, 34: 18.8, 35: 49.8, 36: 11.9, 37: 2.7, 38: 0.5018, 39: 116.9103, 40: 2052.0, 41: 0.0084, 42: 1.5, 46: 1.0, 52: 1.0, 55: -1.0, 56: -1.0, 57: -1.0, 62: 1.0, 68: 1.0, 77: 1.0, 80: 1.0, 84: 1.0, 92: 1.0, 96: 1.0, 101: 1.0, 103: 1.0, 108: 1.0, 110: 1.0, 115: 1.0, 124: 1.0, 132: 1.0}), 249900),\n",
    " (SparseVector(135, {0: 239900.0, 1: 239900.0, 2: 1152.0, 3: 17.0, 4: 1.0, 5: 1397.0, 6: 1491.0, 7: 1494.0, 8: 1397.0, 9: 1965.0, 10: 0.172, 11: 2.0, 15: 2.0, 16: 3.0, 19: 3.0, 20: 2017.0, 21: 4.0, 22: 15.0, 23: 10.0, 24: 100.0, 25: 11.0, 26: -1.0, 27: 4.08, 28: 4.1, 29: 4.14, 30: 4.23, 31: 4.3, 32: 9.8, 33: 22.4, 34: 67.8, 35: 49.8, 36: 11.9, 37: 2.7, 38: 0.5018, 39: 171.7251, 40: 1397.0, 41: 0.0062, 42: 1.5, 43: -1.0, 44: -1.0, 45: -1.0, 46: -1.0, 47: -1.0, 48: -1.0, 49: -1.0, 50: -1.0, 52: 1.0, 55: -1.0, 56: -1.0, 57: -1.0, 62: 1.0, 68: 1.0, 73: 1.0, 78: 1.0, 89: 1.0, 92: 1.0, 96: 1.0, 101: 1.0, 103: 1.0, 108: 1.0, 114: 1.0, 115: 1.0, 123: 1.0, 131: 1.0, 132: 1.0}), 255000),\n",
    " (SparseVector(135, {0: 250000.0, 1: 265000.0, 2: 700.0, 3: 32.0, 5: 1798.0, 6: 2165.0, 7: 2168.0, 8: 1798.0, 9: 2015.0, 10: 0.05, 11: 1.0, 12: 1.0, 14: 1.0, 15: 3.0, 16: 3.0, 18: 200.0, 19: 3.0, 20: 2017.0, 21: 6.0, 22: 23.0, 23: 8.0, 24: 159.0, 25: 11.0, 26: -1.0, 27: 3.89, 28: 3.94, 29: 3.95, 30: 4.02, 31: 4.05, 32: 81.2, 33: 18.8, 35: 49.8, 36: 11.9, 37: 2.7, 38: 0.5229, 39: 139.0434, 40: 1798.0, 41: 0.0087, 42: 1.0, 43: -1.0, 44: -1.0, 45: -1.0, 46: -1.0, 47: -1.0, 48: -1.0, 49: -1.0, 50: -1.0, 52: 1.0, 55: -1.0, 56: -1.0, 57: -1.0, 62: 1.0, 68: 1.0, 75: 1.0, 79: 1.0, 91: 1.0, 94: 1.0, 96: 1.0, 101: 1.0, 103: 1.0, 108: 1.0, 114: 1.0, 115: 1.0, 129: 1.0, 134: 1.0}), 248000),\n",
    " (SparseVector(135, {0: 254990.0, 1: 273417.0, 2: 1088.0, 3: 5.0, 5: 1733.0, 8: 1733.0, 9: 2017.0, 10: 0.05, 11: 2.0, 12: 1.0, 15: 3.0, 16: 3.0, 18: 200.0, 20: 2017.0, 21: 11.0, 22: 44.0, 23: 5.0, 24: 309.0, 25: 11.0, 26: -1.0, 27: 3.94, 28: 3.94, 29: 3.88, 30: 3.91, 31: 3.85, 32: 81.2, 33: 18.8, 35: 49.8, 36: 11.9, 37: 2.7, 38: 0.5333, 39: 147.1379, 40: 1733.0, 42: 1.0, 45: 1.0, 52: 1.0, 55: -1.0, 56: -1.0, 57: -1.0, 62: 1.0, 68: 1.0, 77: 1.0, 79: 1.0, 90: 1.0, 94: 1.0, 96: 1.0, 101: 1.0, 103: 1.0, 108: 1.0, 114: 1.0, 115: 1.0, 128: 1.0, 132: 1.0}), 245000),\n",
    " (SparseVector(135, {0: 254990.0, 1: 273152.0, 2: 1088.0, 3: 23.0, 5: 1733.0, 8: 1733.0, 9: 2017.0, 10: 0.05, 11: 1.0, 12: 1.0, 14: 1.0, 15: 3.0, 16: 3.0, 18: 200.0, 20: 2017.0, 21: 10.0, 22: 41.0, 23: 12.0, 24: 285.0, 25: 11.0, 26: -1.0, 27: 3.91, 28: 3.85, 29: 3.83, 30: 3.83, 31: 3.78, 32: 81.2, 33: 18.8, 35: 49.8, 36: 11.9, 37: 2.7, 38: 0.5333, 39: 147.1379, 40: 1733.0, 42: 1.0, 45: 1.0, 52: 1.0, 55: -1.0, 56: -1.0, 57: -1.0, 62: 1.0, 68: 1.0, 77: 1.0, 79: 1.0, 90: 1.0, 94: 1.0, 96: 1.0, 101: 1.0, 103: 1.0, 108: 1.0, 114: 1.0, 115: 1.0, 128: 1.0, 132: 1.0}), 254990),\n",
    " (SparseVector(135, {0: 255990.0, 1: 273482.0, 2: 1088.0, 3: 73.0, 5: 1733.0, 8: 1733.0, 9: 2017.0, 10: 0.05, 11: 1.0, 12: 1.0, 14: 1.0, 15: 3.0, 16: 3.0, 18: 200.0, 20: 2017.0, 21: 9.0, 22: 35.0, 23: 2.0, 24: 245.0, 25: 11.0, 26: -1.0, 27: 3.82, 28: 3.86, 29: 3.89, 30: 3.9, 31: 3.93, 32: 81.2, 33: 18.8, 35: 49.8, 36: 11.9, 37: 2.7, 38: 0.5354, 39: 147.7149, 40: 1733.0, 42: 1.0, 48: 1.0, 52: 1.0, 55: -1.0, 56: -1.0, 57: -1.0, 62: 1.0, 68: 1.0, 77: 1.0, 79: 1.0, 90: 1.0, 94: 1.0, 96: 1.0, 101: 1.0, 103: 1.0, 108: 1.0, 114: 1.0, 115: 1.0, 128: 1.0, 132: 1.0}), 250000),\n",
    " (SparseVector(135, {0: 259990.0, 1: 267117.0, 2: 1088.0, 3: 80.0, 5: 1733.0, 8: 1733.0, 9: 2017.0, 10: 0.05, 11: 1.0, 12: 1.0, 14: 1.0, 15: 3.0, 16: 3.0, 18: 200.0, 20: 2017.0, 21: 5.0, 22: 20.0, 23: 19.0, 24: 139.0, 25: 11.0, 26: -1.0, 27: 4.02, 28: 4.05, 29: 4.02, 30: 4.03, 31: 3.97, 32: 81.2, 33: 18.8, 35: 49.8, 36: 11.9, 37: 2.7, 38: 0.5438, 39: 150.0231, 40: 1733.0, 42: 1.0, 45: 1.0, 52: 1.0, 55: -1.0, 56: -1.0, 57: -1.0, 62: 1.0, 68: 1.0, 77: 1.0, 79: 1.0, 90: 1.0, 94: 1.0, 96: 1.0, 101: 1.0, 103: 1.0, 108: 1.0, 114: 1.0, 115: 1.0, 128: 1.0, 132: 1.0}), 254500),\n",
    " (SparseVector(135, {0: 259990.0, 1: 268487.0, 2: 1088.0, 3: 79.0, 5: 1733.0, 8: 1733.0, 9: 2017.0, 10: 0.05, 11: 1.0, 12: 1.0, 14: 1.0, 15: 3.0, 16: 3.0, 18: 200.0, 20: 2017.0, 21: 5.0, 22: 19.0, 23: 11.0, 24: 131.0, 25: 11.0, 26: -1.0, 27: 4.05, 28: 4.02, 29: 4.03, 30: 3.97, 31: 4.08, 32: 81.2, 33: 18.8, 35: 49.8, 36: 11.9, 37: 2.7, 38: 0.5438, 39: 150.0231, 40: 1733.0, 42: 1.0, 45: 1.0, 52: 1.0, 55: -1.0, 56: -1.0, 57: -1.0, 62: 1.0, 68: 1.0, 77: 1.0, 79: 1.0, 90: 1.0, 94: 1.0, 96: 1.0, 101: 1.0, 103: 1.0, 108: 1.0, 114: 1.0, 115: 1.0, 128: 1.0, 132: 1.0}), 253000),\n",
    " (SparseVector(135, {0: 259990.0, 1: 268622.0, 2: 1088.0, 3: 12.0, 5: 1733.0, 8: 1733.0, 9: 2017.0, 10: 0.05, 11: 2.0, 12: 1.0, 15: 3.0, 16: 3.0, 18: 190.0, 20: 2017.0, 21: 3.0, 22: 10.0, 23: 12.0, 24: 71.0, 25: 11.0, 26: -1.0, 27: 4.21, 28: 4.1, 29: 4.16, 30: 4.15, 31: 4.17, 32: 81.2, 33: 18.8, 35: 49.8, 36: 11.9, 37: 2.7, 38: 0.5438, 39: 150.0231, 40: 1733.0, 42: 1.0, 45: 1.0, 52: 1.0, 55: -1.0, 56: -1.0, 57: -1.0, 62: 1.0, 68: 1.0, 77: 1.0, 79: 1.0, 90: 1.0, 94: 1.0, 96: 1.0, 101: 1.0, 103: 1.0, 108: 1.0, 114: 1.0, 115: 1.0, 128: 1.0, 132: 1.0}), 257500),\n",
    " (SparseVector(135, {0: 269990.0, 1: 279442.0, 2: 1088.0, 3: 1.0, 5: 1763.0, 8: 1763.0, 9: 2016.0, 10: 0.05, 11: 2.0, 12: 1.0, 15: 3.0, 16: 3.0, 18: 200.0, 20: 2017.0, 21: 3.0, 22: 10.0, 23: 6.0, 24: 65.0, 26: -1.0, 27: 4.21, 28: 4.1, 29: 4.16, 30: 4.15, 31: 4.17, 32: 81.2, 33: 18.8, 35: 49.8, 36: 11.9, 37: 2.7, 38: 0.5647, 39: 153.1424, 40: 1763.0, 42: 1.0, 48: 1.0, 52: 1.0, 55: -1.0, 56: -1.0, 57: -1.0, 62: 1.0, 68: 1.0, 75: 1.0, 79: 1.0, 90: 1.0, 94: 1.0, 96: 1.0, 101: 1.0, 103: 1.0, 108: 1.0, 114: 1.0, 115: 1.0, 128: 1.0, 132: 1.0}), 272990),\n",
    " (SparseVector(135, {0: 270000.0, 1: 270000.0, 2: 1844.0, 3: 18.0, 4: 1.0, 5: 1844.0, 6: 2689.0, 7: 2692.0, 8: 1844.0, 9: 1977.0, 10: 1.661, 14: 3.0, 15: 3.0, 16: 2.0, 19: 3.0, 20: 2017.0, 21: 5.0, 22: 20.0, 23: 18.0, 24: 138.0, 25: 11.0, 26: -1.0, 27: 4.02, 28: 4.05, 29: 4.02, 30: 4.03, 31: 3.97, 32: 32.2, 33: 49.0, 34: 18.8, 35: 61.7, 36: 2.7, 38: 0.5647, 39: 146.4208, 40: 1844.0, 41: 0.01, 42: 0.6667, 43: -1.0, 44: -1.0, 45: -1.0, 46: -1.0, 47: -1.0, 48: -1.0, 49: -1.0, 50: -1.0, 52: 1.0, 57: 1.0, 62: 1.0, 67: 1.0, 73: 1.0, 79: 1.0, 89: 1.0, 95: 1.0, 96: 1.0, 101: 1.0, 103: 1.0, 108: 1.0, 114: 1.0, 115: 1.0, 123: 1.0, 134: 1.0}), 290000),\n",
    " (SparseVector(135, {0: 274000.0, 1: 274000.0, 2: 1088.0, 3: 2.0, 5: 1763.0, 8: 1763.0, 9: 2017.0, 10: 0.05, 11: 1.0, 12: 1.0, 14: 1.0, 15: 3.0, 16: 3.0, 18: 200.0, 20: 2017.0, 21: 10.0, 22: 41.0, 23: 15.0, 24: 288.0, 25: 11.0, 26: -1.0, 27: 3.91, 28: 3.85, 29: 3.83, 30: 3.83, 31: 3.78, 32: 81.2, 33: 18.8, 35: 49.8, 36: 11.9, 37: 2.7, 38: 0.5731, 39: 155.4169, 40: 1763.0, 42: 1.0, 43: -1.0, 44: -1.0, 45: -1.0, 46: -1.0, 47: -1.0, 48: -1.0, 49: -1.0, 50: -1.0, 52: 1.0, 55: -1.0, 56: -1.0, 57: -1.0, 62: 1.0, 68: 1.0, 75: 1.0, 79: 1.0, 90: 1.0, 94: 1.0, 96: 1.0, 101: 1.0, 103: 1.0, 108: 1.0, 114: 1.0, 115: 1.0, 128: 1.0, 132: 1.0}), 274000),\n",
    " (SparseVector(135, {0: 274990.0, 1: 289357.0, 2: 1088.0, 3: 12.0, 5: 1763.0, 8: 1763.0, 9: 2017.0, 10: 0.05, 11: 1.0, 12: 1.0, 14: 1.0, 15: 3.0, 16: 3.0, 18: 200.0, 20: 2017.0, 21: 9.0, 22: 36.0, 23: 10.0, 24: 253.0, 25: 11.0, 26: -1.0, 27: 3.78, 28: 3.82, 29: 3.86, 30: 3.89, 31: 3.9, 32: 81.2, 33: 18.8, 35: 49.8, 36: 11.9, 37: 2.7, 38: 0.5752, 39: 155.9784, 40: 1763.0, 42: 1.0, 43: -1.0, 44: -1.0, 45: -1.0, 46: -1.0, 47: -1.0, 48: -1.0, 49: -1.0, 50: -1.0, 52: 1.0, 55: -1.0, 56: -1.0, 57: -1.0, 62: 1.0, 68: 1.0, 75: 1.0, 79: 1.0, 90: 1.0, 94: 1.0, 96: 1.0, 101: 1.0, 103: 1.0, 108: 1.0, 114: 1.0, 115: 1.0, 128: 1.0, 132: 1.0}), 274990),\n",
    " (SparseVector(135, {0: 284990.0, 1: 288342.0, 2: 1088.0, 3: 45.0, 5: 1763.0, 8: 1763.0, 9: 2017.0, 10: 0.05, 11: 2.0, 12: 1.0, 15: 3.0, 16: 3.0, 18: 200.0, 20: 2017.0, 21: 9.0, 22: 35.0, 23: 1.0, 24: 244.0, 25: 11.0, 26: -1.0, 27: 3.82, 28: 3.86, 29: 3.89, 30: 3.9, 31: 3.93, 32: 81.2, 33: 18.8, 35: 49.8, 36: 11.9, 37: 2.7, 38: 0.5961, 39: 161.6506, 40: 1763.0, 42: 1.0, 48: 1.0, 52: 1.0, 55: -1.0, 56: -1.0, 57: -1.0, 62: 1.0, 68: 1.0, 75: 1.0, 79: 1.0, 90: 1.0, 94: 1.0, 96: 1.0, 101: 1.0, 103: 1.0, 108: 1.0, 114: 1.0, 115: 1.0, 128: 1.0, 132: 1.0}), 274000),\n",
    " (SparseVector(135, {0: 287452.0, 1: 287452.0, 2: 1088.0, 3: 31.0, 5: 1763.0, 8: 1763.0, 9: 2017.0, 10: 0.05, 11: 1.0, 12: 1.0, 14: 1.0, 15: 3.0, 16: 3.0, 18: 200.0, 20: 2017.0, 21: 5.0, 22: 18.0, 23: 6.0, 24: 126.0, 25: 11.0, 26: -1.0, 27: 4.02, 28: 4.03, 29: 3.97, 30: 4.08, 31: 4.1, 32: 81.2, 33: 18.8, 35: 49.8, 36: 11.9, 37: 2.7, 38: 0.6012, 39: 163.0471, 40: 1763.0, 42: 1.0, 43: -1.0, 44: -1.0, 45: -1.0, 46: -1.0, 47: -1.0, 48: -1.0, 49: -1.0, 50: -1.0, 52: 1.0, 55: -1.0, 56: -1.0, 57: -1.0, 62: 1.0, 68: 1.0, 75: 1.0, 79: 1.0, 90: 1.0, 94: 1.0, 96: 1.0, 101: 1.0, 103: 1.0, 108: 1.0, 114: 1.0, 115: 1.0, 128: 1.0, 132: 1.0}), 282000),\n",
    " (SparseVector(135, {0: 288492.0, 1: 288492.0, 2: 1088.0, 3: 16.0, 5: 1763.0, 8: 1763.0, 9: 2017.0, 10: 0.05, 11: 1.0, 12: 1.0, 14: 1.0, 15: 3.0, 16: 3.0, 18: 200.0, 20: 2017.0, 21: 8.0, 22: 32.0, 23: 11.0, 24: 223.0, 25: 8.0, 26: -1.0, 27: 3.9, 28: 3.93, 29: 3.92, 30: 3.96, 31: 4.03, 32: 81.2, 33: 18.8, 35: 49.8, 36: 11.9, 37: 2.7, 38: 0.6034, 39: 163.637, 40: 1763.0, 42: 1.0, 43: -1.0, 44: -1.0, 45: -1.0, 46: -1.0, 47: -1.0, 48: -1.0, 49: -1.0, 50: -1.0, 52: 1.0, 55: -1.0, 56: -1.0, 57: -1.0, 62: 1.0, 68: 1.0, 75: 1.0, 79: 1.0, 90: 1.0, 94: 1.0, 96: 1.0, 101: 1.0, 103: 1.0, 108: 1.0, 114: 1.0, 115: 1.0, 128: 1.0, 132: 1.0}), 280617),\n",
    " (SparseVector(135, {0: 292371.0, 1: 292371.0, 2: 698.0, 3: 3.0, 4: 1.0, 5: 1778.0, 8: 1778.0, 9: 2016.0, 10: 0.04, 11: 2.0, 12: 1.0, 15: 3.0, 16: 3.0, 18: 190.0, 20: 2017.0, 21: 3.0, 22: 9.0, 23: 3.0, 24: 62.0, 25: 8.0, 26: -1.0, 27: 4.1, 28: 4.16, 29: 4.15, 30: 4.17, 31: 4.19, 32: 81.2, 33: 18.8, 35: 49.8, 36: 11.9, 37: 2.7, 38: 0.6115, 39: 164.4381, 40: 1778.0, 42: 1.0, 48: 1.0, 52: 1.0, 57: 1.0, 62: 1.0, 68: 1.0, 69: 1.0, 79: 1.0, 90: 1.0, 94: 1.0, 97: 1.0, 101: 1.0, 103: 1.0, 108: 1.0, 114: 1.0, 115: 1.0, 129: 1.0, 132: 1.0}), 289871),\n",
    " (SparseVector(135, {0: 292925.0, 1: 291925.0, 2: 698.0, 3: 50.0, 4: 1.0, 5: 1778.0, 8: 1778.0, 9: 2016.0, 10: 0.04, 11: 2.0, 12: 1.0, 15: 3.0, 16: 3.0, 18: 190.0, 20: 2017.0, 21: 3.0, 22: 10.0, 23: 6.0, 24: 65.0, 26: -1.0, 27: 4.21, 28: 4.1, 29: 4.16, 30: 4.15, 31: 4.17, 32: 81.2, 33: 18.8, 35: 49.8, 36: 11.9, 37: 2.7, 38: 0.6127, 39: 164.7497, 40: 1778.0, 42: 1.0, 48: 1.0, 52: 1.0, 57: 1.0, 62: 1.0, 68: 1.0, 69: 1.0, 79: 1.0, 90: 1.0, 94: 1.0, 97: 1.0, 101: 1.0, 103: 1.0, 108: 1.0, 114: 1.0, 115: 1.0, 129: 1.0, 132: 1.0}), 282500),\n",
    " (SparseVector(135, {0: 299900.0, 1: 299900.0, 2: 1300.0, 3: 40.0, 4: 2.0, 5: 1324.0, 6: 1974.0, 7: 1974.0, 8: 2424.0, 9: 1967.0, 10: 0.43, 11: 1.0, 14: 2.0, 15: 3.0, 16: 4.0, 17: 1100.0, 19: 1974.0, 20: 2017.0, 21: 6.0, 22: 26.0, 23: 26.0, 24: 177.0, 25: 5.0, 26: -1.0, 27: 3.88, 28: 3.9, 29: 3.91, 30: 3.89, 31: 3.94, 32: 9.8, 33: 22.4, 34: 67.8, 35: 14.0, 36: 35.8, 37: 14.6, 38: 0.6273, 39: 123.7211, 40: 2424.0, 41: 0.0066, 42: 1.3333, 43: -1.0, 44: -1.0, 45: -1.0, 46: -1.0, 47: -1.0, 48: -1.0, 49: -1.0, 50: -1.0, 52: 1.0, 55: -1.0, 56: -1.0, 57: -1.0, 62: 1.0, 68: 1.0, 73: 1.0, 79: 1.0, 84: 1.0, 93: 1.0, 96: 1.0, 101: 1.0, 103: 1.0, 108: 1.0, 114: 1.0, 115: 1.0, 124: 1.0, 131: 1.0, 132: 1.0}), 289900),\n",
    " (SparseVector(135, {0: 299900.0, 1: 299900.0, 2: 1200.0, 3: 6.0, 4: 2.0, 5: 1380.0, 6: 1878.0, 7: 1878.0, 8: 2016.0, 9: 1960.0, 10: 0.574, 11: 1.0, 12: 1.0, 15: 2.0, 16: 3.0, 17: 636.0, 20: 2017.0, 21: 5.0, 22: 19.0, 23: 13.0, 24: 133.0, 25: 1.0, 26: -1.0, 27: 4.05, 28: 4.02, 29: 4.03, 30: 3.97, 31: 4.08, 32: 9.8, 33: 22.4, 34: 67.8, 35: 49.8, 36: 11.9, 37: 2.7, 38: 0.6273, 39: 148.7599, 40: 2016.0, 41: 0.0063, 42: 1.5, 50: 1.0, 52: 1.0, 55: -1.0, 56: -1.0, 57: -1.0, 62: 1.0, 67: 1.0, 72: 1.0, 78: 1.0, 84: 1.0, 92: 1.0, 96: 1.0, 101: 1.0, 103: 1.0, 108: 1.0, 114: 1.0, 115: 1.0, 123: 1.0, 134: 1.0}), 314500),\n",
    " (SparseVector(135, {0: 299900.0, 1: 320000.0, 2: 1148.0, 3: 32.0, 4: 1.0, 5: 1850.0, 6: 2333.0, 7: 2336.0, 8: 2450.0, 9: 1964.0, 10: 0.498, 11: 1.0, 12: 1.0, 15: 2.0, 16: 3.0, 17: 600.0, 19: 3.0, 20: 2017.0, 21: 5.0, 22: 19.0, 23: 12.0, 24: 132.0, 25: 5.0, 26: -1.0, 27: 4.05, 28: 4.02, 29: 4.03, 30: 3.97, 31: 4.08, 32: 9.8, 33: 22.4, 34: 67.8, 35: 49.8, 36: 11.9, 37: 2.7, 38: 0.6273, 39: 122.4082, 40: 2450.0, 41: 0.0078, 42: 1.5, 43: -1.0, 44: -1.0, 45: -1.0, 46: -1.0, 47: -1.0, 48: -1.0, 49: -1.0, 50: -1.0, 52: 1.0, 55: -1.0, 56: -1.0, 57: -1.0, 62: 1.0, 68: 1.0, 77: 1.0, 78: 1.0, 89: 1.0, 92: 1.0, 96: 1.0, 102: 1.0, 103: 1.0, 108: 1.0, 110: 1.0, 115: 1.0, 126: 1.0, 131: 1.0, 133: 1.0}), 280000)])"
   ]
  },
  {
   "cell_type": "code",
   "execution_count": 81,
   "metadata": {},
   "outputs": [],
   "source": [
    "model_schema = T.StructType([T.StructField('features', VectorUDT()),\\\n",
    "                          T.StructField('SALESCLOSEPRICE', T.IntegerType())])\n",
    "\n",
    "model_df = sparse_model_rdd.toDF(model_schema)"
   ]
  },
  {
   "cell_type": "code",
   "execution_count": 82,
   "metadata": {},
   "outputs": [],
   "source": [
    "train_df, test_df = model_df.randomSplit([0.90, 0.10], seed=12345)"
   ]
  },
  {
   "cell_type": "code",
   "execution_count": 84,
   "metadata": {},
   "outputs": [],
   "source": [
    "# Import algs\n",
    "from pyspark.ml.regression import GBTRegressor\n",
    "from pyspark.ml.regression import RandomForestRegressor\n",
    "\n",
    "# Train a Gradient Boosted Trees (GBT) model\n",
    "gbt = GBTRegressor(featuresCol=\"features\",\n",
    "                           labelCol=\"SALESCLOSEPRICE\",\n",
    "                           predictionCol=\"Prediction_Price\",\n",
    "                           seed=42\n",
    "                           )\n",
    "\n",
    "# Train a Random Forest Trees (RF) model\n",
    "rf = RandomForestRegressor(featuresCol=\"features\",\n",
    "                           labelCol=\"SALESCLOSEPRICE\",\n",
    "                           predictionCol=\"Prediction_Price\",\n",
    "                           seed=42\n",
    "                           )\n",
    "\n",
    "\n",
    "# Train models\n",
    "gbt_model = gbt.fit(train_df)\n",
    "rf_model = rf.fit(train_df)\n",
    "\n",
    "# Test models\n",
    "gbt_preds = gbt_model.transform(test_df)\n",
    "rf_preds = rf_model.transform(test_df)"
   ]
  },
  {
   "cell_type": "markdown",
   "metadata": {},
   "source": [
    "#### evaluate model"
   ]
  },
  {
   "cell_type": "code",
   "execution_count": 85,
   "metadata": {},
   "outputs": [
    {
     "name": "stdout",
     "output_type": "stream",
     "text": [
      "Gradient Boosted Trees RMSE: 16869.075365839606\n",
      "Gradient Boosted Trees R^2: -0.4013426656282486\n",
      "Random Forest Regression RMSE: 8556.956020439684\n",
      "Random Forest Regression R^2: 0.6394210352025678\n"
     ]
    }
   ],
   "source": [
    "# Import eval\n",
    "from pyspark.ml.evaluation import RegressionEvaluator\n",
    "\n",
    "# Select columns to compute test error\n",
    "evaluator = RegressionEvaluator(labelCol=\"SALESCLOSEPRICE\", \n",
    "                                predictionCol=\"Prediction_Price\")\n",
    "# Dictionary of model predictions to loop over\n",
    "models = {'Gradient Boosted Trees': gbt_preds, 'Random Forest Regression': rf_preds}\n",
    "for key, preds in models.items():\n",
    "  # Create evaluation metrics\n",
    "  rmse = evaluator.evaluate(preds, {evaluator.metricName: \"rmse\"})\n",
    "  r2 = evaluator.evaluate(preds, {evaluator.metricName: \"r2\"})\n",
    "\n",
    "  # Print Model Metrics\n",
    "  print(key + ' RMSE: ' + str(rmse))\n",
    "  print(key + ' R^2: ' + str(r2))"
   ]
  },
  {
   "cell_type": "markdown",
   "metadata": {},
   "source": [
    "#### feature importances"
   ]
  },
  {
   "cell_type": "code",
   "execution_count": 86,
   "metadata": {},
   "outputs": [],
   "source": [
    "feature_cols = ['FOUNDATIONSIZE',\n",
    " 'DAYSONMARKET',\n",
    " 'FIREPLACES',\n",
    " 'SQFTABOVEGROUND',\n",
    " 'TAXES',\n",
    " 'TAXWITHASSESSMENTS',\n",
    " 'LIVINGAREA',\n",
    " 'YEARBUILT',\n",
    " 'ACRES',\n",
    " 'BATHSFULL',\n",
    " 'BATHSHALF',\n",
    " 'BATHQUARTER',\n",
    " 'BATHSTHREEQUARTER',\n",
    " 'BATHSTOTAL',\n",
    " 'BEDROOMS',\n",
    " 'SQFTBELOWGROUND',\n",
    " 'ASSOCIATIONFEE',\n",
    " 'ASSESSEDVALUATION',\n",
    " 'LIST_YEAR',\n",
    " 'LIST_MONTH',\n",
    " 'LIST_WEEKOFYEAR',\n",
    " 'LIST_DAYOFMONTH',\n",
    " 'LIST_DAYOFYEAR',\n",
    " 'WALKSCORE',\n",
    " 'BIKESCORE',\n",
    " 'MORTGAGE30US',\n",
    " 'MORTGAGE30US-1WK',\n",
    " 'MORTGAGE30US-2WK',\n",
    " 'MORTGAGE30US-3WK',\n",
    " 'MORTGAGE30US-4WK',\n",
    " 'PERCENT_OLDER_AGE_HOMES',\n",
    " 'PERCENT_SIMILAR_AGE_HOMES',\n",
    " 'PERCENT_NEWER_AGE_HOMES',\n",
    " 'PERCENT_BIGGER_SIZE_HOMES',\n",
    " 'PERCENT_SIMILAR_SIZE_HOMES',\n",
    " 'PERCENT_SMALLER_SIZE_HOMES',\n",
    " 'SQFT_TOTAL',\n",
    " 'BED_TO_BATHS',\n",
    " 'FENCE_OTHER',\n",
    " 'FENCE_WIRE',\n",
    " 'FENCE_PARTIAL',\n",
    " 'FENCE_CHAINLINK',\n",
    " 'FENCE_FULL',\n",
    " 'FENCE_PRIVACY',\n",
    " 'FENCE_NONE',\n",
    " 'FENCE_WOOD',\n",
    " 'ROOF_AGEOVER8YEARS',\n",
    " 'ROOF_ASPHALTSHINGLES',\n",
    " 'ROOF_AGE8YEARSORLESS',\n",
    " 'ROOF_FLAT',\n",
    " 'POOLDESCRIPTION_SHARED',\n",
    " 'POOLDESCRIPTION_BELOWGROUND',\n",
    " 'POOLDESCRIPTION_NONE',\n",
    " 'GARAGEDESCRIPTION_HEATEDGARAGE',\n",
    " 'GARAGEDESCRIPTION_TUCKUNDER',\n",
    " 'GARAGEDESCRIPTION_UNCOVERED/OPEN',\n",
    " 'GARAGEDESCRIPTION_OTHER',\n",
    " 'GARAGEDESCRIPTION_ATTACHEDGARAGE',\n",
    " 'GARAGEDESCRIPTION_DRIVEWAY-ASPHALT',\n",
    " 'GARAGEDESCRIPTION_DETACHEDGARAGE',\n",
    " 'GARAGEDESCRIPTION_NONE',\n",
    " 'GARAGEDESCRIPTION_UNDERGROUNDGARAGE',\n",
    " 'APPLIANCES_COOKTOP',\n",
    " 'APPLIANCES_RANGE',\n",
    " 'EXTERIOR_BRICK/STONE',\n",
    " 'EXTERIOR_CEMENTBOARD',\n",
    " 'EXTERIOR_OTHER',\n",
    " 'EXTERIOR_STUCCO',\n",
    " 'EXTERIOR_METAL',\n",
    " 'EXTERIOR_FIBERBOARD',\n",
    " 'EXTERIOR_SHAKES',\n",
    " 'EXTERIOR_WOOD',\n",
    " 'EXTERIOR_VINYL',\n",
    " 'DININGROOMDESCRIPTION_SEPARATE/FORMALDININGROOM',\n",
    " 'DININGROOMDESCRIPTION_INFORMALDININGROOM',\n",
    " 'DININGROOMDESCRIPTION_BREAKFASTAREA',\n",
    " 'DININGROOMDESCRIPTION_EATINKITCHEN',\n",
    " 'DININGROOMDESCRIPTION_LIVING/DININGROOM',\n",
    " 'DININGROOMDESCRIPTION_KITCHEN/DININGROOM',\n",
    " 'BASEMENT_WALKOUT',\n",
    " 'BASEMENT_CRAWLSPACE',\n",
    " 'BASEMENT_PARTIALFINISHED',\n",
    " 'BASEMENT_PARTIAL',\n",
    " 'BASEMENT_UNFINISHED',\n",
    " 'BASEMENT_FULL',\n",
    " 'BASEMENT_NONE',\n",
    " 'BASEMENT_SLAB',\n",
    " 'BATHDESC_MAINFLOORFULLBATH',\n",
    " 'BATHDESC_UPPERLEVELFULLBATH',\n",
    " 'BATHDESC_MAINFLOOR1/2BATH',\n",
    " 'BATHDESC_MAINFLOOR3/4BATH',\n",
    " 'ZONING_RESIDENTIAL-SINGLE',\n",
    " 'ZONING_RESIDENTIAL-MULTI-FAMILY',\n",
    " 'COOLINGDESCRIPTION_WALL',\n",
    " 'COOLINGDESCRIPTION_DUCTLESSMINI-SPLIT',\n",
    " 'COOLINGDESCRIPTION_WINDOW',\n",
    " 'COOLINGDESCRIPTION_CENTRAL',\n",
    " 'COOLINGDESCRIPTION_NONE',\n",
    " 'CITY_LELM-LAKEELMO',\n",
    " 'CITY_MAPW-MAPLEWOOD',\n",
    " 'CITY_OAKD-OAKDALE',\n",
    " 'CITY_STP-SAINTPAUL',\n",
    " 'CITY_WB-WOODBURY',\n",
    " 'LISTTYPE_EXCLUSIVERIGHT',\n",
    " 'LISTTYPE_SERVICEAGREEMENT',\n",
    " 'SCHOOLDISTRICTNUMBER_622-NORTHSTPAUL-MAPLEWOOD',\n",
    " 'SCHOOLDISTRICTNUMBER_623-ROSEVILLE',\n",
    " 'SCHOOLDISTRICTNUMBER_625-STPAUL',\n",
    " 'SCHOOLDISTRICTNUMBER_833-SOUTHWASHINGTONCOUNTY',\n",
    " 'SCHOOLDISTRICTNUMBER_834-STILLWATER',\n",
    " 'POTENTIALSHORTSALE_NO',\n",
    " 'STYLE_CCHIGHRISE4+LEVELS',\n",
    " 'STYLE_CCLOWRISE3-LEVELS',\n",
    " 'STYLE_CCMANOR/VILLAGE',\n",
    " 'STYLE_SFFOURORMORELEVELSPLIT',\n",
    " 'STYLE_SFMODIFIEDTWOSTORY',\n",
    " 'STYLE_SFMORETHANTWOSTORIES',\n",
    " 'STYLE_SFONE1/2STORIES',\n",
    " 'STYLE_SFONESTORY',\n",
    " 'STYLE_SFSPLITENTRYBI-LEVEL',\n",
    " 'STYLE_SFTHREELEVELSPLIT',\n",
    " 'STYLE_SFTWOSTORIES',\n",
    " 'STYLE_THDETACHED',\n",
    " 'STYLE_THQUAD/4CORNERS',\n",
    " 'STYLE_THSIDEXSIDE',\n",
    " 'STYLE_TWTWINHOME',\n",
    " 'ASSUMABLEMORTGAGE_NOTASSUMABLE',\n",
    " 'ASSESSMENTPENDING_NO',\n",
    " 'ASSESSMENTPENDING_UNKNOWN',\n",
    " 'ASSESSMENTPENDING_YES']"
   ]
  },
  {
   "cell_type": "code",
   "execution_count": 87,
   "metadata": {},
   "outputs": [
    {
     "data": {
      "text/html": [
       "<div>\n",
       "<style scoped>\n",
       "    .dataframe tbody tr th:only-of-type {\n",
       "        vertical-align: middle;\n",
       "    }\n",
       "\n",
       "    .dataframe tbody tr th {\n",
       "        vertical-align: top;\n",
       "    }\n",
       "\n",
       "    .dataframe thead th {\n",
       "        text-align: right;\n",
       "    }\n",
       "</style>\n",
       "<table border=\"1\" class=\"dataframe\">\n",
       "  <thead>\n",
       "    <tr style=\"text-align: right;\">\n",
       "      <th></th>\n",
       "      <th>importance</th>\n",
       "      <th>feature</th>\n",
       "    </tr>\n",
       "  </thead>\n",
       "  <tbody>\n",
       "    <tr>\n",
       "      <th>0</th>\n",
       "      <td>0.258629</td>\n",
       "      <td>FOUNDATIONSIZE</td>\n",
       "    </tr>\n",
       "    <tr>\n",
       "      <th>1</th>\n",
       "      <td>0.134134</td>\n",
       "      <td>DAYSONMARKET</td>\n",
       "    </tr>\n",
       "    <tr>\n",
       "      <th>5</th>\n",
       "      <td>0.122710</td>\n",
       "      <td>TAXWITHASSESSMENTS</td>\n",
       "    </tr>\n",
       "    <tr>\n",
       "      <th>51</th>\n",
       "      <td>0.076102</td>\n",
       "      <td>POOLDESCRIPTION_BELOWGROUND</td>\n",
       "    </tr>\n",
       "    <tr>\n",
       "      <th>38</th>\n",
       "      <td>0.060178</td>\n",
       "      <td>FENCE_OTHER</td>\n",
       "    </tr>\n",
       "    <tr>\n",
       "      <th>22</th>\n",
       "      <td>0.057511</td>\n",
       "      <td>LIST_DAYOFYEAR</td>\n",
       "    </tr>\n",
       "    <tr>\n",
       "      <th>28</th>\n",
       "      <td>0.041245</td>\n",
       "      <td>MORTGAGE30US-3WK</td>\n",
       "    </tr>\n",
       "    <tr>\n",
       "      <th>95</th>\n",
       "      <td>0.036721</td>\n",
       "      <td>COOLINGDESCRIPTION_WINDOW</td>\n",
       "    </tr>\n",
       "    <tr>\n",
       "      <th>50</th>\n",
       "      <td>0.028916</td>\n",
       "      <td>POOLDESCRIPTION_SHARED</td>\n",
       "    </tr>\n",
       "    <tr>\n",
       "      <th>35</th>\n",
       "      <td>0.024637</td>\n",
       "      <td>PERCENT_SMALLER_SIZE_HOMES</td>\n",
       "    </tr>\n",
       "  </tbody>\n",
       "</table>\n",
       "</div>"
      ],
      "text/plain": [
       "    importance                      feature\n",
       "0     0.258629               FOUNDATIONSIZE\n",
       "1     0.134134                 DAYSONMARKET\n",
       "5     0.122710           TAXWITHASSESSMENTS\n",
       "51    0.076102  POOLDESCRIPTION_BELOWGROUND\n",
       "38    0.060178                  FENCE_OTHER\n",
       "22    0.057511               LIST_DAYOFYEAR\n",
       "28    0.041245             MORTGAGE30US-3WK\n",
       "95    0.036721    COOLINGDESCRIPTION_WINDOW\n",
       "50    0.028916       POOLDESCRIPTION_SHARED\n",
       "35    0.024637   PERCENT_SMALLER_SIZE_HOMES"
      ]
     },
     "execution_count": 87,
     "metadata": {},
     "output_type": "execute_result"
    }
   ],
   "source": [
    "# Convert feature importances to a pandas column\n",
    "fi_df = pd.DataFrame(rf_model.featureImportances.toArray(), columns=['importance'])\n",
    "\n",
    "# Convert list of feature names to pandas column\n",
    "fi_df['feature'] = pd.Series(feature_cols)\n",
    "\n",
    "# Sort the data based on feature importance\n",
    "fi_df.sort_values(by=['importance'], ascending=False, inplace=True)\n",
    "\n",
    "# Inspect Results\n",
    "fi_df.head(10)"
   ]
  },
  {
   "cell_type": "markdown",
   "metadata": {},
   "source": [
    "#### save / load model"
   ]
  },
  {
   "cell_type": "code",
   "execution_count": 88,
   "metadata": {},
   "outputs": [],
   "source": [
    "# Import model class\n",
    "from pyspark.ml.regression import RandomForestRegressionModel\n",
    "\n",
    "# Save model\n",
    "rf_model.write().overwrite().save('rfr_no_listprice')\n",
    "\n",
    "# Load model\n",
    "loaded_model = RandomForestRegressionModel.load('rfr_no_listprice')"
   ]
  },
  {
   "cell_type": "markdown",
   "metadata": {},
   "source": [
    "### grp"
   ]
  }
 ],
 "metadata": {
  "kernelspec": {
   "display_name": "Python 3",
   "language": "python",
   "name": "python3"
  },
  "language_info": {
   "codemirror_mode": {
    "name": "ipython",
    "version": 3
   },
   "file_extension": ".py",
   "mimetype": "text/x-python",
   "name": "python",
   "nbconvert_exporter": "python",
   "pygments_lexer": "ipython3",
   "version": "3.6.8"
  }
 },
 "nbformat": 4,
 "nbformat_minor": 2
}
